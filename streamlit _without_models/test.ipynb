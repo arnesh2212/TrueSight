{
 "cells": [
  {
   "cell_type": "code",
   "execution_count": 2,
   "metadata": {},
   "outputs": [
    {
     "name": "stdout",
     "output_type": "stream",
     "text": [
      "cuda\n"
     ]
    }
   ],
   "source": [
    "import torch\n",
    "import torch.nn as nn\n",
    "device = torch.device(\"cuda\" if torch.cuda.is_available() else \"cpu\")\n",
    "print(device)\n"
   ]
  },
  {
   "cell_type": "code",
   "execution_count": 1,
   "metadata": {},
   "outputs": [],
   "source": [
    "from typing import Tuple\n",
    "from io import BytesIO\n",
    "import os\n",
    "import argparse\n",
    "import re\n",
    "import fitz\n",
    "\n",
    "def search_for_text(lines, search_str):\n",
    "    \"\"\"\n",
    "    Search for the search string within the document lines\n",
    "    \"\"\"\n",
    "    for line in lines:\n",
    "        # Find all matches within one line\n",
    "        results = re.findall(search_str, line, re.IGNORECASE)\n",
    "        # In case multiple matches within one line\n",
    "        for result in results:\n",
    "            yield result\n"
   ]
  },
  {
   "cell_type": "code",
   "execution_count": 2,
   "metadata": {},
   "outputs": [
    {
     "name": "stdout",
     "output_type": "stream",
     "text": [
      "Found 'sample' on page 1\n",
      "Page text: 1.\n",
      "Text File\n",
      "a.\n",
      "PII identification (https://github.com/i-dot-ai/redactomatic)\n",
      "b.\n",
      "Advanced - Replace with scenthetic information / scramble text\n",
      "c.\n",
      "Ensure no input data is stored or retrievable after processing.\n",
      "d.\n",
      "https://www.youtube.com/watch?v=nJKNLl9W-2E\n",
      "2.\n",
      "Images / VIDEOS\n",
      "a.\n",
      "OCR for Text: Extract text from images and apply the same redaction as the text\n",
      "modality.\n",
      "b.\n",
      "For documents or images containing sensitive objects (e.g., license plates,\n",
      "sensitive labels), detect and redact these areas.\n",
      "c.\n",
      "Grounding Dino for custom\n",
      "d.\n",
      "BLURING / BLACK BOX / PIXELATION\n",
      "e.\n",
      "(replacement with synthetic objects)\n",
      "3.\n",
      "PDF\n",
      "a.\n",
      "https://stackoverflow.com/questions/75387339/how-can-i-edit-modify-replace-text\n",
      "-in-an-existing-pdf-file\n",
      "b.\n",
      "Same as text\n",
      "c.\n",
      "Resources -\n",
      "https://huggingface.co/docs/transformers/tasks/token_classification\n",
      "https://huggingface.co/datasets/ai4privacy/pii-masking-300k\n",
      "https://medium.com/@bisinet/obfuscating-python-code-f6537e5c51a3\n",
      "https://microsoft.github.io/presidio/samples/python/example_dicom_image_redactor/\n",
      "\n"
     ]
    }
   ],
   "source": [
    "file_path = \"demo.pdf\"\n",
    "search_str = \"sample\"\n",
    "\n",
    "# Open the PDF file\n",
    "pdf_document = fitz.open(file_path)\n",
    "\n",
    "# Iterate over all pages\n",
    "for page_num in range(pdf_document.page_count):\n",
    "    # Get the page\n",
    "    page = pdf_document.load_page(page_num)\n",
    "    # Get the text\n",
    "    text = page.get_text()\n",
    "    # Split the text into lines\n",
    "    lines = text.split(\"\\n\")\n",
    "    # Search for the search string within the lines\n",
    "    for result in search_for_text(lines, search_str):\n",
    "        print(f\"Found '{result}' on page {page_num}\")\n",
    "        print(f\"Page text: {text}\")\n"
   ]
  },
  {
   "cell_type": "code",
   "execution_count": 6,
   "metadata": {},
   "outputs": [],
   "source": [
    "import pymupdf\n",
    "\n",
    "# Open the PDF document\n",
    "doc = pymupdf.open('demo.pdf')\n",
    "\n",
    "# Iterate over each page of the document\n",
    "for page in doc:\n",
    "    # Find all instances of \"Jane Doe\" on the current page\n",
    "    instances = page.search_for(\"sample\")\n",
    "\n",
    "    # Redact each instance of \"Jane Doe\" on the current page\n",
    "    for inst in instances:\n",
    "        page.add_redact_annot(inst , fill=(0,0,0))\n",
    "\n",
    "    # Apply the redactions to the current page\n",
    "    page.apply_redactions(graphics=0)\n",
    "\n",
    "# Save the modified document\n",
    "doc.save('output.pdf')\n",
    "\n",
    "# Close the document\n",
    "doc.close()"
   ]
  },
  {
   "cell_type": "code",
   "execution_count": 9,
   "metadata": {},
   "outputs": [],
   "source": [
    "#Get all the text\n",
    "doc = pymupdf.open('demo.pdf')\n",
    "\n",
    "text = \"\"\n",
    "for page in doc:\n",
    "    text += page.get_text()\n"
   ]
  },
  {
   "cell_type": "code",
   "execution_count": 10,
   "metadata": {},
   "outputs": [
    {
     "data": {
      "text/plain": [
       "'Background: Easy to use and secure redaction tool “RE-DACT” which allows\\nredaction/masking/anonymization on various input formats based on a gradational scale defined\\nby the user and providing customized output. Over a time, model will learn and have the ability to\\ngenerate realistic synthetic data in any sought format. Description: The proposed solution is a\\nnatural language processing (machine learning) based redaction tool. The tool will redact or\\nobfuscate from original data leaving the output structurally/logically the same but stripped of key\\nidentifiers and other content which may in any way allow the identity, actual data, markers or\\nissues in the input content to be revealed. The correlational logic may be appropriately\\nobfuscated based on the degree of redaction. This will have an easy to use GUI and will be\\navailable for use on online and offline systems. The degree of the redaction will be up to the user-\\nthe higher the degree set by the user, the more the degree of redaction. This will work with all\\ndifferent commonly used formats for text and data sets. Security of data will be assured by\\nensuring that the input data is not stored or retrievable in any fashion by third party entities. User\\nwill have complete control over the input data. It is also an important aspect that sometimes data\\nmay be required to be stored or submitted, however specific sensitive details may not necessarily\\nbe required. In such a situation- anonymized data authenticated as having being redacted from\\noriginal would suffice. Declassification processes are long and arduous; anonymization is largely\\nmanual or custom script driven. By providing a gradational redaction option, ordinary users can\\nstrip away the specificity to the extent of liking-from merely name removal/anonymization to\\ncompletely synthetic data with only faint traces of original structure/pattern. This can allow\\ngeneration of large number of databases with realistic but anonymized data that can be shared\\nfor learning, growth and commercial ventures. Expected Solution: Problem Statement: Easy to\\nuse and secure redaction tool “RE-DACT” which allows redaction/masking/anonymization on\\nvarious input formats based on a gradational scale defined by the user and providing customized\\noutput. Over a time, model will learn and have the ability to generate realistic synthetic data in\\nany sought format. Stage 1 Data: Curate and use own data set for building PoC Task/Result:\\nInput/Output: Supports common input formats (text files, images) and basic output formats\\n(redacted files, logs). Web based version Training Dataset: Publicly available dataset can be used\\nfor the purpose. Metrics: Precision, Recall, F1 Score on Open Source Testing dataset. Stage 2\\nData: Dataset will be provided in Grand Finale Task/Result: Input/Output: Expands to handle\\nmore data formats (e.g., PDFs, videos) and advanced output options (e.g., redacted versions with\\nannotations). Training Dataset: Diverse data set prepared from commonly used formats Metrics:\\nPrecision, Recall, F1 Score on Open Source Testing dataset. Performance/Evaluation Criteria: •\\nPoC will be preferred over just concept or presentation. The performance may be ascertained on\\nthe following metrics: • Efficacy of the redaction/anonymization- whether appropriate data has\\nbeen redacted • Gradational effect achieved based on user preference and ability to calibrate. •\\nAbility to work on a variety of input sources • Security of the input data by minimal retention •\\nSpeed • Optimized computing usage and ability to operate at scale. • Ease of use, UI, UX. •\\nPerformance benchmarked against COTS solutions. • Web Based and Offline solution. • Minimal\\nAPI dependency • Use of Secure Coding Practices and cybersecurity built in design\\n1.\\nText File\\na.\\nPII identification (https://github.com/i-dot-ai/redactomatic)\\nb.\\nAdvanced - Replace with scenthetic information / scramble text\\nc.\\nEnsure no input data is stored or retrievable after processing.\\nd.\\nhttps://www.youtube.com/watch?v=nJKNLl9W-2E\\n2.\\nImages / VIDEOS\\na.\\nOCR for Text: Extract text from images and apply the same redaction as the text\\nmodality.\\nb.\\nFor documents or images containing sensitive objects (e.g., license plates,\\nsensitive labels), detect and redact these areas.\\nc.\\nGrounding Dino for custom\\nd.\\nBLURING / BLACK BOX / PIXELATION\\ne.\\n(replacement with synthetic objects)\\n3.\\nPDF\\na.\\nhttps://stackoverflow.com/questions/75387339/how-can-i-edit-modify-replace-text\\n-in-an-existing-pdf-file\\nb.\\nSame as text\\nc.\\nResources -\\nhttps://huggingface.co/docs/transformers/tasks/token_classification\\nhttps://huggingface.co/datasets/ai4privacy/pii-masking-300k\\nhttps://medium.com/@bisinet/obfuscating-python-code-f6537e5c51a3\\nhttps://microsoft.github.io/presidio/samples/python/example_dicom_image_redactor/\\n'"
      ]
     },
     "execution_count": 10,
     "metadata": {},
     "output_type": "execute_result"
    }
   ],
   "source": [
    "text"
   ]
  },
  {
   "cell_type": "code",
   "execution_count": 1,
   "metadata": {},
   "outputs": [
    {
     "name": "stderr",
     "output_type": "stream",
     "text": [
      "2024-09-27 22:08:39.377155: E external/local_xla/xla/stream_executor/cuda/cuda_fft.cc:485] Unable to register cuFFT factory: Attempting to register factory for plugin cuFFT when one has already been registered\n",
      "2024-09-27 22:08:39.461922: E external/local_xla/xla/stream_executor/cuda/cuda_dnn.cc:8454] Unable to register cuDNN factory: Attempting to register factory for plugin cuDNN when one has already been registered\n",
      "2024-09-27 22:08:39.476517: E external/local_xla/xla/stream_executor/cuda/cuda_blas.cc:1452] Unable to register cuBLAS factory: Attempting to register factory for plugin cuBLAS when one has already been registered\n",
      "2024-09-27 22:08:39.574645: I tensorflow/core/platform/cpu_feature_guard.cc:210] This TensorFlow binary is optimized to use available CPU instructions in performance-critical operations.\n",
      "To enable the following instructions: AVX2 FMA, in other operations, rebuild TensorFlow with the appropriate compiler flags.\n",
      "2024-09-27 22:08:40.689626: W tensorflow/compiler/tf2tensorrt/utils/py_utils.cc:38] TF-TRT Warning: Could not find TensorRT\n",
      "Hardware accelerator e.g. GPU is available in the environment, but no `device` argument is passed to the `Pipeline` object. Model will be on CPU.\n"
     ]
    }
   ],
   "source": [
    "# Use a pipeline as a high-level helper\n",
    "from transformers import pipeline\n",
    "\n",
    "pipe = pipeline(\"token-classification\", model=\"output_mdeberta_base/checkpoint-320000\" ,  aggregation_strategy=\"first\")"
   ]
  },
  {
   "cell_type": "code",
   "execution_count": 2,
   "metadata": {},
   "outputs": [
    {
     "name": "stderr",
     "output_type": "stream",
     "text": [
      "/home/arnesh/.local/lib/python3.12/site-packages/transformers/pipelines/token_classification.py:392: UserWarning: Tokenizer does not support real words, using fallback heuristic\n",
      "  warnings.warn(\n"
     ]
    },
    {
     "data": {
      "text/plain": [
       "[{'entity_group': 'ZIPCODE',\n",
       "  'score': 0.9792691,\n",
       "  'word': '1234567891',\n",
       "  'start': 0,\n",
       "  'end': 10}]"
      ]
     },
     "execution_count": 2,
     "metadata": {},
     "output_type": "execute_result"
    }
   ],
   "source": [
    "text = \"1234567891\"\n",
    "pipe(text )"
   ]
  },
  {
   "cell_type": "code",
   "execution_count": 3,
   "metadata": {},
   "outputs": [],
   "source": [
    "id2label = pipe.model.config.id2label\n",
    "label2id = pipe.model.config.label2id\n"
   ]
  },
  {
   "cell_type": "code",
   "execution_count": 4,
   "metadata": {},
   "outputs": [
    {
     "name": "stdout",
     "output_type": "stream",
     "text": [
      "['O', 'B-CITY', 'I-CITY', 'B-FIRSTNAME', 'I-FIRSTNAME', 'B-ZIPCODE', 'I-ZIPCODE', 'B-DATE', 'I-DATE', 'B-CREDITCARDISSUER', 'I-CREDITCARDISSUER', 'B-CREDITCARDNUMBER', 'I-CREDITCARDNUMBER', 'B-CREDITCARDCVV', 'B-USERNAME', 'I-USERNAME', 'B-JOBTYPE', 'B-PREFIX', 'I-PREFIX', 'B-LASTNAME', 'B-EMAIL', 'I-EMAIL', 'B-IP', 'I-IP', 'B-PHONEIMEI', 'I-PHONEIMEI', 'B-MAC', 'I-MAC', 'B-DOB', 'I-DOB', 'B-NEARBYGPSCOORDINATE', 'I-NEARBYGPSCOORDINATE', 'B-BUILDINGNUMBER', 'I-BUILDINGNUMBER', 'B-IPV4', 'I-IPV4', 'B-BITCOINADDRESS', 'I-BITCOINADDRESS', 'B-SSN', 'I-SSN', 'B-PHONENUMBER', 'I-PHONENUMBER', 'B-SEX', 'B-SECONDARYADDRESS', 'I-SECONDARYADDRESS', 'B-ACCOUNTNUMBER', 'I-ACCOUNTNUMBER', 'B-ACCOUNTNAME', 'I-ACCOUNTNAME', 'B-STREET', 'I-STREET', 'B-MASKEDNUMBER', 'I-MASKEDNUMBER', 'B-COMPANYNAME', 'I-COMPANYNAME', 'B-CURRENCYSYMBOL', 'B-IBAN', 'I-IBAN', 'I-AMOUNT', 'B-IPV6', 'I-IPV6', 'B-MIDDLENAME', 'I-MIDDLENAME', 'B-COUNTY', 'I-COUNTY', 'B-AGE', 'B-PASSWORD', 'I-PASSWORD', 'B-STATE', 'I-STATE', 'B-URL', 'I-URL', 'I-JOBTYPE', 'B-USERAGENT', 'I-USERAGENT', 'I-AGE', 'B-ORDINALDIRECTION', 'B-JOBTITLE', 'I-JOBTITLE', 'B-ETHEREUMADDRESS', 'I-ETHEREUMADDRESS', 'B-VEHICLEVRM', 'I-VEHICLEVRM', 'B-VEHICLEVIN', 'I-VEHICLEVIN', 'B-JOBAREA', 'B-PIN', 'I-PIN', 'I-LASTNAME', 'B-AMOUNT', 'B-CURRENCYCODE', 'I-CURRENCYCODE', 'B-TIME', 'I-TIME', 'B-HEIGHT', 'I-HEIGHT', 'B-EYECOLOR', 'B-GENDER', 'I-GENDER', 'B-BIC', 'I-BIC', 'B-CURRENCY', 'I-CURRENCY', 'I-CURRENCYSYMBOL', 'B-CURRENCYNAME', 'I-CURRENCYNAME', 'B-LITECOINADDRESS', 'I-LITECOINADDRESS', 'I-JOBAREA', 'I-EYECOLOR', 'I-CREDITCARDCVV', 'I-SEX']\n"
     ]
    }
   ],
   "source": [
    "labels = list(id2label.values())\n",
    "print(labels)"
   ]
  },
  {
   "cell_type": "code",
   "execution_count": 6,
   "metadata": {},
   "outputs": [],
   "source": [
    "entity_dict = {\n",
    "    \"NAME\": ['B-FIRSTNAME', 'I-FIRSTNAME', 'B-LASTNAME', 'I-LASTNAME', 'B-MIDDLENAME', 'I-MIDDLENAME'],\n",
    "    \"CITY\": ['B-CITY', 'I-CITY'],\n",
    "    \"ZIPCODE\": ['B-ZIPCODE', 'I-ZIPCODE'],\n",
    "    \"DATE\": ['B-DATE', 'I-DATE'],\n",
    "    \"CREDITCARD\": ['B-CREDITCARDISSUER', 'I-CREDITCARDISSUER', 'B-CREDITCARDNUMBER', 'I-CREDITCARDNUMBER', 'B-CREDITCARDCVV', 'I-CREDITCARDCVV'],\n",
    "    \"USERNAME\": ['B-USERNAME', 'I-USERNAME'],\n",
    "    \"JOB\": ['B-JOBTYPE', 'I-JOBTYPE', 'B-JOBTITLE', 'I-JOBTITLE', 'B-JOBAREA', 'I-JOBAREA'],\n",
    "    \"PREFIX\": ['B-PREFIX', 'I-PREFIX'],\n",
    "    \"EMAIL\": ['B-EMAIL', 'I-EMAIL'],\n",
    "    \"IP\": ['B-IP', 'I-IP', 'B-IPV4', 'I-IPV4', 'B-IPV6', 'I-IPV6'],\n",
    "    \"PHONE\": ['B-PHONENUMBER', 'I-PHONENUMBER', 'B-PHONEIMEI', 'I-PHONEIMEI'],\n",
    "    \"MAC\": ['B-MAC', 'I-MAC'],\n",
    "    \"DOB\": ['B-DOB', 'I-DOB'],\n",
    "    \"GPS\": ['B-NEARBYGPSCOORDINATE', 'I-NEARBYGPSCOORDINATE'],\n",
    "    \"ADDRESS\": ['B-BUILDINGNUMBER', 'I-BUILDINGNUMBER', 'B-STREET', 'I-STREET', 'B-SECONDARYADDRESS', 'I-SECONDARYADDRESS'],\n",
    "    \"BITCOIN\": ['B-BITCOINADDRESS', 'I-BITCOINADDRESS'],\n",
    "    \"SSN\": ['B-SSN', 'I-SSN'],\n",
    "    \"SEX\": ['B-SEX', 'I-SEX', 'B-GENDER', 'I-GENDER'],\n",
    "    \"ACCOUNT\": ['B-ACCOUNTNUMBER', 'I-ACCOUNTNUMBER', 'B-ACCOUNTNAME', 'I-ACCOUNTNAME'],\n",
    "    \"CURRENCY\": ['B-CURRENCYSYMBOL', 'I-CURRENCYSYMBOL', 'B-CURRENCY', 'I-CURRENCY', 'B-AMOUNT', 'I-AMOUNT', 'B-CURRENCYCODE', 'I-CURRENCYCODE', 'B-CURRENCYNAME', 'I-CURRENCYNAME'],\n",
    "    \"IBAN\": ['B-IBAN', 'I-IBAN'],\n",
    "    \"BIC\": ['B-BIC', 'I-BIC'],\n",
    "    \"URL\": ['B-URL', 'I-URL'],\n",
    "    \"PASSWORD\": ['B-PASSWORD', 'I-PASSWORD'],\n",
    "    \"STATE\": ['B-STATE', 'I-STATE'],\n",
    "    \"COUNTY\": ['B-COUNTY', 'I-COUNTY'],\n",
    "    \"AGE\": ['B-AGE', 'I-AGE'],\n",
    "    \"TIME\": ['B-TIME', 'I-TIME'],\n",
    "    \"HEIGHT\": ['B-HEIGHT', 'I-HEIGHT'],\n",
    "    \"EYECOLOR\": ['B-EYECOLOR', 'I-EYECOLOR'],\n",
    "    \"COMPANYNAME\": ['B-COMPANYNAME', 'I-COMPANYNAME'],\n",
    "    \"ETHEREUM\": ['B-ETHEREUMADDRESS', 'I-ETHEREUMADDRESS'],\n",
    "    \"LITECOIN\": ['B-LITECOINADDRESS', 'I-LITECOINADDRESS'],\n",
    "    \"VEHICLE\": ['B-VEHICLEVRM', 'I-VEHICLEVRM', 'B-VEHICLEVIN', 'I-VEHICLEVIN'],\n",
    "    \"ORDINALDIRECTION\": ['B-ORDINALDIRECTION'],\n",
    "    \"USERAGENT\": ['B-USERAGENT', 'I-USERAGENT'],\n",
    "    \"PIN\": ['B-PIN', 'I-PIN'],\n",
    "    \"MASKEDNUMBER\": ['B-MASKEDNUMBER', 'I-MASKEDNUMBER'],\n",
    "}\n"
   ]
  },
  {
   "cell_type": "code",
   "execution_count": 7,
   "metadata": {},
   "outputs": [
    {
     "name": "stdout",
     "output_type": "stream",
     "text": [
      "[{'entity_group': 'FIRSTNAME', 'score': 0.99994016, 'word': 'Arnesh', 'start': 0, 'end': 6}, {'entity_group': 'LASTNAME', 'score': 0.9999752, 'word': 'Batra', 'start': 6, 'end': 12}]\n",
      "XXXXX XXXXX\n"
     ]
    }
   ],
   "source": [
    "#Mask in output\n",
    "to_show_entities = [\"NAME\"]\n",
    "to_show_entities_actual = []\n",
    "for entity in to_show_entities:\n",
    "    to_show_entities_actual += entity_dict[entity]\n",
    "from transformers import pipeline\n",
    "\n",
    "\n",
    "text = \"Arnesh Batra\"\n",
    "out = pipe(text)\n",
    "print(out)  \n",
    "for ent_gr  in out:\n",
    "    entity_gr = \"I-\" + ent_gr['entity_group']\n",
    "\n",
    "    if entity_gr in to_show_entities_actual:\n",
    "        text = text.replace(ent_gr['word'], \"XXXXX\")\n",
    "\n",
    "print(text)\n",
    "\n",
    "    "
   ]
  }
 ],
 "metadata": {
  "kernelspec": {
   "display_name": "Python 3",
   "language": "python",
   "name": "python3"
  },
  "language_info": {
   "codemirror_mode": {
    "name": "ipython",
    "version": 3
   },
   "file_extension": ".py",
   "mimetype": "text/x-python",
   "name": "python",
   "nbconvert_exporter": "python",
   "pygments_lexer": "ipython3",
   "version": "3.12.6"
  }
 },
 "nbformat": 4,
 "nbformat_minor": 2
}
