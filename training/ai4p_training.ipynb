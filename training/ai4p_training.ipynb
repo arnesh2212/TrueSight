{
 "cells": [
  {
   "cell_type": "code",
   "execution_count": 1,
   "id": "6f04c7bb-f80a-47ad-a655-69f396233278",
   "metadata": {
    "tags": []
   },
   "outputs": [
    {
     "name": "stderr",
     "output_type": "stream",
     "text": [
      "2024-09-26 17:46:50.547800: E external/local_xla/xla/stream_executor/cuda/cuda_fft.cc:485] Unable to register cuFFT factory: Attempting to register factory for plugin cuFFT when one has already been registered\n",
      "2024-09-26 17:46:50.563105: E external/local_xla/xla/stream_executor/cuda/cuda_dnn.cc:8454] Unable to register cuDNN factory: Attempting to register factory for plugin cuDNN when one has already been registered\n",
      "2024-09-26 17:46:50.567763: E external/local_xla/xla/stream_executor/cuda/cuda_blas.cc:1452] Unable to register cuBLAS factory: Attempting to register factory for plugin cuBLAS when one has already been registered\n",
      "2024-09-26 17:46:50.579370: I tensorflow/core/platform/cpu_feature_guard.cc:210] This TensorFlow binary is optimized to use available CPU instructions in performance-critical operations.\n",
      "To enable the following instructions: AVX2 FMA, in other operations, rebuild TensorFlow with the appropriate compiler flags.\n",
      "2024-09-26 17:46:51.374829: W tensorflow/compiler/tf2tensorrt/utils/py_utils.cc:38] TF-TRT Warning: Could not find TensorRT\n"
     ]
    }
   ],
   "source": [
    "import torch\n",
    "import json\n",
    "import numpy as np\n",
    "import pandas as pd\n",
    "import nltk\n",
    "import random\n",
    "import itertools\n",
    "import collections\n",
    "import datasets\n",
    "from tqdm.notebook import tqdm\n",
    "from transformers import AutoTokenizer, AutoModelForTokenClassification, TrainingArguments, Trainer, DataCollatorForTokenClassification"
   ]
  },
  {
   "cell_type": "code",
   "execution_count": 2,
   "id": "52de6dea-f7ca-4851-8e8d-8bac1e27fb41",
   "metadata": {},
   "outputs": [],
   "source": [
    "device = torch.device(\"mps\")"
   ]
  },
  {
   "cell_type": "code",
   "execution_count": 3,
   "id": "cf7b3cc3",
   "metadata": {},
   "outputs": [],
   "source": [
    "model_name = \"microsoft/mdeberta-v3-base\"\n"
   ]
  },
  {
   "cell_type": "code",
   "execution_count": 4,
   "id": "59cd8e2a-15f8-446c-acc0-38f7ec29db9c",
   "metadata": {},
   "outputs": [
    {
     "name": "stderr",
     "output_type": "stream",
     "text": [
      "/home/arnesh/.local/lib/python3.12/site-packages/transformers/tokenization_utils_base.py:1601: FutureWarning: `clean_up_tokenization_spaces` was not set. It will be set to `True` by default. This behavior will be depracted in transformers v4.45, and will be then set to `False` by default. For more details check this issue: https://github.com/huggingface/transformers/issues/31884\n",
      "  warnings.warn(\n",
      "/home/arnesh/.local/lib/python3.12/site-packages/transformers/convert_slow_tokenizer.py:551: UserWarning: The sentencepiece tokenizer that you are converting to a fast tokenizer uses the byte fallback option which is not implemented in the fast tokenizers. In practice this means that the fast version of the tokenizer can produce unknown tokens whereas the sentencepiece version would have converted these unknown tokens into a sequence of byte tokens matching the original piece of text.\n",
      "  warnings.warn(\n"
     ]
    }
   ],
   "source": [
    "model_name = \"microsoft/mdeberta-v3-base\"\n",
    "tokenizer = AutoTokenizer.from_pretrained(\"microsoft/mdeberta-v3-base\")\n",
    "tokenizer.model_max_length = 512"
   ]
  },
  {
   "cell_type": "code",
   "execution_count": 5,
   "id": "d974bf8e-286e-4309-94e6-d82899d67ff4",
   "metadata": {
    "tags": []
   },
   "outputs": [
    {
     "data": {
      "text/plain": [
       "DatasetDict({\n",
       "    train: Dataset({\n",
       "        features: ['masked_text', 'unmasked_text', 'privacy_mask', 'span_labels', 'bio_labels', 'tokenised_text', 'language'],\n",
       "        num_rows: 209261\n",
       "    })\n",
       "})"
      ]
     },
     "execution_count": 5,
     "metadata": {},
     "output_type": "execute_result"
    }
   ],
   "source": [
    "train = datasets.load_dataset(\"Isotonic/pii-masking-200k\")\n",
    "train"
   ]
  },
  {
   "cell_type": "code",
   "execution_count": 6,
   "id": "ea950da0-442d-4878-a39b-b910ebb3472f",
   "metadata": {
    "tags": []
   },
   "outputs": [],
   "source": [
    "df = train['train'].to_pandas()"
   ]
  },
  {
   "cell_type": "code",
   "execution_count": 7,
   "id": "d3f3b0dc-e33e-4653-8150-c16d006e1aa8",
   "metadata": {},
   "outputs": [
    {
     "data": {
      "text/html": [
       "<div>\n",
       "<style scoped>\n",
       "    .dataframe tbody tr th:only-of-type {\n",
       "        vertical-align: middle;\n",
       "    }\n",
       "\n",
       "    .dataframe tbody tr th {\n",
       "        vertical-align: top;\n",
       "    }\n",
       "\n",
       "    .dataframe thead th {\n",
       "        text-align: right;\n",
       "    }\n",
       "</style>\n",
       "<table border=\"1\" class=\"dataframe\">\n",
       "  <thead>\n",
       "    <tr style=\"text-align: right;\">\n",
       "      <th></th>\n",
       "      <th>masked_text</th>\n",
       "      <th>unmasked_text</th>\n",
       "      <th>privacy_mask</th>\n",
       "      <th>span_labels</th>\n",
       "      <th>bio_labels</th>\n",
       "      <th>tokenised_text</th>\n",
       "      <th>language</th>\n",
       "    </tr>\n",
       "  </thead>\n",
       "  <tbody>\n",
       "    <tr>\n",
       "      <th>0</th>\n",
       "      <td>The literacy program in [CITY_1] is starting s...</td>\n",
       "      <td>The literacy program in Cliftonfurt is startin...</td>\n",
       "      <td>{'[CITY_1]': 'Cliftonfurt', '[FIRSTNAME_1]': '...</td>\n",
       "      <td>[[0, 24, 'O'], [24, 35, 'CITY_1'], [35, 54, 'O...</td>\n",
       "      <td>[O, O, O, O, B-CITY, I-CITY, O, O, O, O, B-FIR...</td>\n",
       "      <td>[the, literacy, program, in, clifton, ##furt, ...</td>\n",
       "      <td>en</td>\n",
       "    </tr>\n",
       "    <tr>\n",
       "      <th>1</th>\n",
       "      <td>Nous avons identifié les dangers potentiels da...</td>\n",
       "      <td>Nous avons identifié les dangers potentiels da...</td>\n",
       "      <td>{'[ZIPCODE_1]': '75742', '[DATE_1]': '18th Apr...</td>\n",
       "      <td>[[0, 57, 'O'], [57, 62, 'ZIPCODE_1'], [62, 145...</td>\n",
       "      <td>[O, O, O, O, O, O, O, O, O, O, O, O, O, O, O, ...</td>\n",
       "      <td>[nous, avon, ##s, ide, ##nti, ##fie, les, dang...</td>\n",
       "      <td>fr</td>\n",
       "    </tr>\n",
       "    <tr>\n",
       "      <th>2</th>\n",
       "      <td>Le spese per l'intervento chirurgico possono e...</td>\n",
       "      <td>Le spese per l'intervento chirurgico possono e...</td>\n",
       "      <td>{'[CREDITCARDISSUER_1]': 'jcb', '[CREDITCARDNU...</td>\n",
       "      <td>[[0, 144, 'O'], [144, 147, 'CREDITCARDISSUER_1...</td>\n",
       "      <td>[O, O, O, O, O, O, O, O, O, O, O, O, O, O, O, ...</td>\n",
       "      <td>[le, sp, ##ese, per, l, ', intervento, chi, ##...</td>\n",
       "      <td>it</td>\n",
       "    </tr>\n",
       "    <tr>\n",
       "      <th>3</th>\n",
       "      <td>Hi [USERNAME_1], thank you for subscribing to ...</td>\n",
       "      <td>Hi Eunice_Conroy, thank you for subscribing to...</td>\n",
       "      <td>{'[USERNAME_1]': 'Eunice_Conroy', '[JOBTYPE_1]...</td>\n",
       "      <td>[[0, 3, 'O'], [3, 16, 'USERNAME_1'], [16, 151,...</td>\n",
       "      <td>[O, B-USERNAME, I-USERNAME, I-USERNAME, I-USER...</td>\n",
       "      <td>[hi, eun, ##ice, _, con, ##roy, ,, thank, you,...</td>\n",
       "      <td>en</td>\n",
       "    </tr>\n",
       "    <tr>\n",
       "      <th>4</th>\n",
       "      <td>[PREFIX_1] [LASTNAME_1], we have received a jo...</td>\n",
       "      <td>Mrs. Waters, we have received a job applicatio...</td>\n",
       "      <td>{'[PREFIX_1]': 'Mrs.', '[LASTNAME_1]': 'Waters...</td>\n",
       "      <td>[[0, 4, 'PREFIX_1'], [4, 5, 'O'], [5, 11, 'LAS...</td>\n",
       "      <td>[B-PREFIX, I-PREFIX, B-LASTNAME, O, O, O, O, O...</td>\n",
       "      <td>[mrs, ., waters, ,, we, have, received, a, job...</td>\n",
       "      <td>en</td>\n",
       "    </tr>\n",
       "    <tr>\n",
       "      <th>...</th>\n",
       "      <td>...</td>\n",
       "      <td>...</td>\n",
       "      <td>...</td>\n",
       "      <td>...</td>\n",
       "      <td>...</td>\n",
       "      <td>...</td>\n",
       "      <td>...</td>\n",
       "    </tr>\n",
       "    <tr>\n",
       "      <th>209256</th>\n",
       "      <td>For our international day, parents are invited...</td>\n",
       "      <td>For our international day, parents are invited...</td>\n",
       "      <td>{'[IBAN_1]': 'RS39135300042412014026', '[CURRE...</td>\n",
       "      <td>[[0, 90, 'O'], [90, 112, 'IBAN_1'], [112, 130,...</td>\n",
       "      <td>[O, O, O, O, O, O, O, O, O, O, O, O, O, O, O, ...</td>\n",
       "      <td>[for, our, international, day, ,, parents, are...</td>\n",
       "      <td>en</td>\n",
       "    </tr>\n",
       "    <tr>\n",
       "      <th>209257</th>\n",
       "      <td>Chers citoyens, notre enquête annuelle sur la ...</td>\n",
       "      <td>Chers citoyens, notre enquête annuelle sur la ...</td>\n",
       "      <td>{'[USERAGENT_1]': 'Mozilla/5.0 (Windows NT 5.0...</td>\n",
       "      <td>[[0, 95, 'O'], [95, 160, 'USERAGENT_1'], [160,...</td>\n",
       "      <td>[O, O, O, O, O, O, O, O, O, O, O, O, O, O, O, ...</td>\n",
       "      <td>[cher, ##s, citoyens, ,, notre, enquete, annue...</td>\n",
       "      <td>fr</td>\n",
       "    </tr>\n",
       "    <tr>\n",
       "      <th>209258</th>\n",
       "      <td>Attività a rischio anomalo segnalate da [IPV6_...</td>\n",
       "      <td>Attività a rischio anomalo segnalate da dbf7:f...</td>\n",
       "      <td>{'[IPV6_1]': 'dbf7:fbf8:4216:e6bf:f8b9:6cae:af...</td>\n",
       "      <td>[[0, 40, 'O'], [40, 79, 'IPV6_1'], [79, 91, 'O...</td>\n",
       "      <td>[O, O, O, O, O, O, O, O, O, B-IPV6, I-IPV6, I-...</td>\n",
       "      <td>[attivita, a, rischio, ano, ##mal, ##o, segna,...</td>\n",
       "      <td>it</td>\n",
       "    </tr>\n",
       "    <tr>\n",
       "      <th>209259</th>\n",
       "      <td>Pour augmenter la diffusion de l'éducation hol...</td>\n",
       "      <td>Pour augmenter la diffusion de l'éducation hol...</td>\n",
       "      <td>{'[PHONEIMEI_1]': '97-574746-190716-1', '[BUIL...</td>\n",
       "      <td>[[0, 90, 'O'], [90, 108, 'PHONEIMEI_1'], [108,...</td>\n",
       "      <td>[O, O, O, O, O, O, O, O, O, O, O, O, O, O, O, ...</td>\n",
       "      <td>[pour, augmenter, la, diffusion, de, l, ', edu...</td>\n",
       "      <td>fr</td>\n",
       "    </tr>\n",
       "    <tr>\n",
       "      <th>209260</th>\n",
       "      <td>Ehi, [GENDER_1] [AGE_1], hai cambiato la tua p...</td>\n",
       "      <td>Ehi, Woman 40, hai cambiato la tua password in...</td>\n",
       "      <td>{'[GENDER_1]': 'Woman', '[AGE_1]': '40', '[PAS...</td>\n",
       "      <td>[[0, 5, 'O'], [5, 10, 'GENDER_1'], [10, 11, 'O...</td>\n",
       "      <td>[O, O, O, B-GENDER, B-AGE, O, O, O, O, O, O, O...</td>\n",
       "      <td>[eh, ##i, ,, woman, 40, ,, hai, cambia, ##to, ...</td>\n",
       "      <td>it</td>\n",
       "    </tr>\n",
       "  </tbody>\n",
       "</table>\n",
       "<p>209261 rows × 7 columns</p>\n",
       "</div>"
      ],
      "text/plain": [
       "                                              masked_text  \\\n",
       "0       The literacy program in [CITY_1] is starting s...   \n",
       "1       Nous avons identifié les dangers potentiels da...   \n",
       "2       Le spese per l'intervento chirurgico possono e...   \n",
       "3       Hi [USERNAME_1], thank you for subscribing to ...   \n",
       "4       [PREFIX_1] [LASTNAME_1], we have received a jo...   \n",
       "...                                                   ...   \n",
       "209256  For our international day, parents are invited...   \n",
       "209257  Chers citoyens, notre enquête annuelle sur la ...   \n",
       "209258  Attività a rischio anomalo segnalate da [IPV6_...   \n",
       "209259  Pour augmenter la diffusion de l'éducation hol...   \n",
       "209260  Ehi, [GENDER_1] [AGE_1], hai cambiato la tua p...   \n",
       "\n",
       "                                            unmasked_text  \\\n",
       "0       The literacy program in Cliftonfurt is startin...   \n",
       "1       Nous avons identifié les dangers potentiels da...   \n",
       "2       Le spese per l'intervento chirurgico possono e...   \n",
       "3       Hi Eunice_Conroy, thank you for subscribing to...   \n",
       "4       Mrs. Waters, we have received a job applicatio...   \n",
       "...                                                   ...   \n",
       "209256  For our international day, parents are invited...   \n",
       "209257  Chers citoyens, notre enquête annuelle sur la ...   \n",
       "209258  Attività a rischio anomalo segnalate da dbf7:f...   \n",
       "209259  Pour augmenter la diffusion de l'éducation hol...   \n",
       "209260  Ehi, Woman 40, hai cambiato la tua password in...   \n",
       "\n",
       "                                             privacy_mask  \\\n",
       "0       {'[CITY_1]': 'Cliftonfurt', '[FIRSTNAME_1]': '...   \n",
       "1       {'[ZIPCODE_1]': '75742', '[DATE_1]': '18th Apr...   \n",
       "2       {'[CREDITCARDISSUER_1]': 'jcb', '[CREDITCARDNU...   \n",
       "3       {'[USERNAME_1]': 'Eunice_Conroy', '[JOBTYPE_1]...   \n",
       "4       {'[PREFIX_1]': 'Mrs.', '[LASTNAME_1]': 'Waters...   \n",
       "...                                                   ...   \n",
       "209256  {'[IBAN_1]': 'RS39135300042412014026', '[CURRE...   \n",
       "209257  {'[USERAGENT_1]': 'Mozilla/5.0 (Windows NT 5.0...   \n",
       "209258  {'[IPV6_1]': 'dbf7:fbf8:4216:e6bf:f8b9:6cae:af...   \n",
       "209259  {'[PHONEIMEI_1]': '97-574746-190716-1', '[BUIL...   \n",
       "209260  {'[GENDER_1]': 'Woman', '[AGE_1]': '40', '[PAS...   \n",
       "\n",
       "                                              span_labels  \\\n",
       "0       [[0, 24, 'O'], [24, 35, 'CITY_1'], [35, 54, 'O...   \n",
       "1       [[0, 57, 'O'], [57, 62, 'ZIPCODE_1'], [62, 145...   \n",
       "2       [[0, 144, 'O'], [144, 147, 'CREDITCARDISSUER_1...   \n",
       "3       [[0, 3, 'O'], [3, 16, 'USERNAME_1'], [16, 151,...   \n",
       "4       [[0, 4, 'PREFIX_1'], [4, 5, 'O'], [5, 11, 'LAS...   \n",
       "...                                                   ...   \n",
       "209256  [[0, 90, 'O'], [90, 112, 'IBAN_1'], [112, 130,...   \n",
       "209257  [[0, 95, 'O'], [95, 160, 'USERAGENT_1'], [160,...   \n",
       "209258  [[0, 40, 'O'], [40, 79, 'IPV6_1'], [79, 91, 'O...   \n",
       "209259  [[0, 90, 'O'], [90, 108, 'PHONEIMEI_1'], [108,...   \n",
       "209260  [[0, 5, 'O'], [5, 10, 'GENDER_1'], [10, 11, 'O...   \n",
       "\n",
       "                                               bio_labels  \\\n",
       "0       [O, O, O, O, B-CITY, I-CITY, O, O, O, O, B-FIR...   \n",
       "1       [O, O, O, O, O, O, O, O, O, O, O, O, O, O, O, ...   \n",
       "2       [O, O, O, O, O, O, O, O, O, O, O, O, O, O, O, ...   \n",
       "3       [O, B-USERNAME, I-USERNAME, I-USERNAME, I-USER...   \n",
       "4       [B-PREFIX, I-PREFIX, B-LASTNAME, O, O, O, O, O...   \n",
       "...                                                   ...   \n",
       "209256  [O, O, O, O, O, O, O, O, O, O, O, O, O, O, O, ...   \n",
       "209257  [O, O, O, O, O, O, O, O, O, O, O, O, O, O, O, ...   \n",
       "209258  [O, O, O, O, O, O, O, O, O, B-IPV6, I-IPV6, I-...   \n",
       "209259  [O, O, O, O, O, O, O, O, O, O, O, O, O, O, O, ...   \n",
       "209260  [O, O, O, B-GENDER, B-AGE, O, O, O, O, O, O, O...   \n",
       "\n",
       "                                           tokenised_text language  \n",
       "0       [the, literacy, program, in, clifton, ##furt, ...       en  \n",
       "1       [nous, avon, ##s, ide, ##nti, ##fie, les, dang...       fr  \n",
       "2       [le, sp, ##ese, per, l, ', intervento, chi, ##...       it  \n",
       "3       [hi, eun, ##ice, _, con, ##roy, ,, thank, you,...       en  \n",
       "4       [mrs, ., waters, ,, we, have, received, a, job...       en  \n",
       "...                                                   ...      ...  \n",
       "209256  [for, our, international, day, ,, parents, are...       en  \n",
       "209257  [cher, ##s, citoyens, ,, notre, enquete, annue...       fr  \n",
       "209258  [attivita, a, rischio, ano, ##mal, ##o, segna,...       it  \n",
       "209259  [pour, augmenter, la, diffusion, de, l, ', edu...       fr  \n",
       "209260  [eh, ##i, ,, woman, 40, ,, hai, cambia, ##to, ...       it  \n",
       "\n",
       "[209261 rows x 7 columns]"
      ]
     },
     "execution_count": 7,
     "metadata": {},
     "output_type": "execute_result"
    }
   ],
   "source": [
    "df"
   ]
  },
  {
   "cell_type": "code",
   "execution_count": 8,
   "id": "9dbfd9ea",
   "metadata": {},
   "outputs": [],
   "source": [
    "#convert "
   ]
  },
  {
   "cell_type": "code",
   "execution_count": 9,
   "id": "7c5e0e55",
   "metadata": {},
   "outputs": [],
   "source": [
    "kp = 92"
   ]
  },
  {
   "cell_type": "code",
   "execution_count": 10,
   "id": "4770cefa-a1b3-4c61-b224-d353ac01b4e4",
   "metadata": {},
   "outputs": [
    {
     "data": {
      "application/vnd.jupyter.widget-view+json": {
       "model_id": "50f39be0c827498aa25a31973a19c4ab",
       "version_major": 2,
       "version_minor": 0
      },
      "text/plain": [
       "  0%|          | 0/209261 [00:00<?, ?it/s]"
      ]
     },
     "metadata": {},
     "output_type": "display_data"
    }
   ],
   "source": [
    "# remove more than 512\n",
    "import IPython\n",
    "tt = df.tokenised_text.tolist()\n",
    "tt_lens = [len(tokenizer(list(t), is_split_into_words=True, truncation=True, max_length=512)['input_ids']) for t in tqdm(tt)]\n",
    "df[['tt_lens']] = 0\n",
    "df.tt_lens = tt_lens\n",
    "df = df.loc[df.tt_lens <= 510].reset_index(drop=True)"
   ]
  },
  {
   "cell_type": "code",
   "execution_count": 11,
   "id": "4b37ec40-2be2-4d0d-a273-0d6bc433d3e4",
   "metadata": {
    "tags": []
   },
   "outputs": [],
   "source": [
    "nt = df.bio_labels.tolist()\n",
    "nt = list(itertools.chain.from_iterable(nt)) # merge the list of lists into one list\n",
    "nt = collections.Counter(nt) # Get count of each tag\n",
    "all_labels = list(nt.keys()) # get all unique tags(labels)"
   ]
  },
  {
   "cell_type": "code",
   "execution_count": 12,
   "id": "f136e5f7-672e-46cd-9968-a0d4c4f64d4b",
   "metadata": {
    "tags": []
   },
   "outputs": [],
   "source": [
    "source_texts = df.unmasked_text.tolist()\n",
    "target_texts = df.masked_text.tolist()\n",
    "tokenized_texts = df.tokenised_text.tolist()\n",
    "ner_tags = df.bio_labels.tolist()"
   ]
  },
  {
   "cell_type": "code",
   "execution_count": 13,
   "id": "19e7b39c-1cc9-4e25-9700-aa9ce6c3fd93",
   "metadata": {
    "tags": []
   },
   "outputs": [
    {
     "data": {
      "text/plain": [
       "112"
      ]
     },
     "execution_count": 13,
     "metadata": {},
     "output_type": "execute_result"
    }
   ],
   "source": [
    "len(all_labels)"
   ]
  },
  {
   "cell_type": "code",
   "execution_count": 14,
   "id": "014d7576-4c49-47d1-aec3-19199981e606",
   "metadata": {
    "tags": []
   },
   "outputs": [
    {
     "data": {
      "text/plain": [
       "'The literacy program in Cliftonfurt is starting soon. Reggie, can we count on your presence?'"
      ]
     },
     "execution_count": 14,
     "metadata": {},
     "output_type": "execute_result"
    }
   ],
   "source": [
    "source_texts[0]"
   ]
  },
  {
   "cell_type": "code",
   "execution_count": 15,
   "id": "283387ee-e978-449d-9492-237b0eb2f957",
   "metadata": {
    "tags": []
   },
   "outputs": [
    {
     "data": {
      "text/plain": [
       "'The literacy program in [CITY_1] is starting soon. [FIRSTNAME_1], can we count on your presence?'"
      ]
     },
     "execution_count": 15,
     "metadata": {},
     "output_type": "execute_result"
    }
   ],
   "source": [
    "target_texts[0]"
   ]
  },
  {
   "cell_type": "code",
   "execution_count": 16,
   "id": "ced38fcf-014d-4142-959a-048e5a1b8eac",
   "metadata": {
    "tags": []
   },
   "outputs": [],
   "source": [
    "# ## checking if the tokens align\n",
    "# i = random.randint(0, len(source_texts))\n",
    "# x0 = tokenizer.convert_ids_to_tokens(tokenizer(source_texts[i])['input_ids'])\n",
    "# x0.pop(0)  # CLS is not present in the dataset\n",
    "# for t in zip(x0, tokenized_texts[i]):\n",
    "#     print(t)"
   ]
  },
  {
   "cell_type": "code",
   "execution_count": 17,
   "id": "1a3848bd-bac9-4816-a7cf-a98f6aef36c9",
   "metadata": {
    "tags": []
   },
   "outputs": [
    {
     "data": {
      "text/plain": [
       "({'O': 0,\n",
       "  'B-CITY': 1,\n",
       "  'I-CITY': 2,\n",
       "  'B-FIRSTNAME': 3,\n",
       "  'I-FIRSTNAME': 4,\n",
       "  'B-ZIPCODE': 5,\n",
       "  'I-ZIPCODE': 6,\n",
       "  'B-DATE': 7,\n",
       "  'I-DATE': 8,\n",
       "  'B-CREDITCARDISSUER': 9,\n",
       "  'I-CREDITCARDISSUER': 10,\n",
       "  'B-CREDITCARDNUMBER': 11,\n",
       "  'I-CREDITCARDNUMBER': 12,\n",
       "  'B-CREDITCARDCVV': 13,\n",
       "  'B-USERNAME': 14,\n",
       "  'I-USERNAME': 15,\n",
       "  'B-JOBTYPE': 16,\n",
       "  'B-PREFIX': 17,\n",
       "  'I-PREFIX': 18,\n",
       "  'B-LASTNAME': 19,\n",
       "  'B-EMAIL': 20,\n",
       "  'I-EMAIL': 21,\n",
       "  'B-IP': 22,\n",
       "  'I-IP': 23,\n",
       "  'B-PHONEIMEI': 24,\n",
       "  'I-PHONEIMEI': 25,\n",
       "  'B-MAC': 26,\n",
       "  'I-MAC': 27,\n",
       "  'B-DOB': 28,\n",
       "  'I-DOB': 29,\n",
       "  'B-NEARBYGPSCOORDINATE': 30,\n",
       "  'I-NEARBYGPSCOORDINATE': 31,\n",
       "  'B-BUILDINGNUMBER': 32,\n",
       "  'I-BUILDINGNUMBER': 33,\n",
       "  'B-IPV4': 34,\n",
       "  'I-IPV4': 35,\n",
       "  'B-BITCOINADDRESS': 36,\n",
       "  'I-BITCOINADDRESS': 37,\n",
       "  'B-SSN': 38,\n",
       "  'I-SSN': 39,\n",
       "  'B-PHONENUMBER': 40,\n",
       "  'I-PHONENUMBER': 41,\n",
       "  'B-SEX': 42,\n",
       "  'B-SECONDARYADDRESS': 43,\n",
       "  'I-SECONDARYADDRESS': 44,\n",
       "  'B-ACCOUNTNUMBER': 45,\n",
       "  'I-ACCOUNTNUMBER': 46,\n",
       "  'B-ACCOUNTNAME': 47,\n",
       "  'I-ACCOUNTNAME': 48,\n",
       "  'B-STREET': 49,\n",
       "  'I-STREET': 50,\n",
       "  'B-MASKEDNUMBER': 51,\n",
       "  'I-MASKEDNUMBER': 52,\n",
       "  'B-COMPANYNAME': 53,\n",
       "  'I-COMPANYNAME': 54,\n",
       "  'B-CURRENCYSYMBOL': 55,\n",
       "  'B-IBAN': 56,\n",
       "  'I-IBAN': 57,\n",
       "  'I-AMOUNT': 58,\n",
       "  'B-IPV6': 59,\n",
       "  'I-IPV6': 60,\n",
       "  'B-MIDDLENAME': 61,\n",
       "  'I-MIDDLENAME': 62,\n",
       "  'B-COUNTY': 63,\n",
       "  'I-COUNTY': 64,\n",
       "  'B-AGE': 65,\n",
       "  'B-PASSWORD': 66,\n",
       "  'I-PASSWORD': 67,\n",
       "  'B-STATE': 68,\n",
       "  'I-STATE': 69,\n",
       "  'B-URL': 70,\n",
       "  'I-URL': 71,\n",
       "  'I-JOBTYPE': 72,\n",
       "  'B-USERAGENT': 73,\n",
       "  'I-USERAGENT': 74,\n",
       "  'I-AGE': 75,\n",
       "  'B-ORDINALDIRECTION': 76,\n",
       "  'B-JOBTITLE': 77,\n",
       "  'I-JOBTITLE': 78,\n",
       "  'B-ETHEREUMADDRESS': 79,\n",
       "  'I-ETHEREUMADDRESS': 80,\n",
       "  'B-VEHICLEVRM': 81,\n",
       "  'I-VEHICLEVRM': 82,\n",
       "  'B-VEHICLEVIN': 83,\n",
       "  'I-VEHICLEVIN': 84,\n",
       "  'B-JOBAREA': 85,\n",
       "  'B-PIN': 86,\n",
       "  'I-PIN': 87,\n",
       "  'I-LASTNAME': 88,\n",
       "  'B-AMOUNT': 89,\n",
       "  'B-CURRENCYCODE': 90,\n",
       "  'I-CURRENCYCODE': 91,\n",
       "  'B-TIME': 92,\n",
       "  'I-TIME': 93,\n",
       "  'B-HEIGHT': 94,\n",
       "  'I-HEIGHT': 95,\n",
       "  'B-EYECOLOR': 96,\n",
       "  'B-GENDER': 97,\n",
       "  'I-GENDER': 98,\n",
       "  'B-BIC': 99,\n",
       "  'I-BIC': 100,\n",
       "  'B-CURRENCY': 101,\n",
       "  'I-CURRENCY': 102,\n",
       "  'I-CURRENCYSYMBOL': 103,\n",
       "  'B-CURRENCYNAME': 104,\n",
       "  'I-CURRENCYNAME': 105,\n",
       "  'B-LITECOINADDRESS': 106,\n",
       "  'I-LITECOINADDRESS': 107,\n",
       "  'I-JOBAREA': 108,\n",
       "  'I-EYECOLOR': 109,\n",
       "  'I-CREDITCARDCVV': 110,\n",
       "  'I-SEX': 111},\n",
       " {0: 'O',\n",
       "  1: 'B-CITY',\n",
       "  2: 'I-CITY',\n",
       "  3: 'B-FIRSTNAME',\n",
       "  4: 'I-FIRSTNAME',\n",
       "  5: 'B-ZIPCODE',\n",
       "  6: 'I-ZIPCODE',\n",
       "  7: 'B-DATE',\n",
       "  8: 'I-DATE',\n",
       "  9: 'B-CREDITCARDISSUER',\n",
       "  10: 'I-CREDITCARDISSUER',\n",
       "  11: 'B-CREDITCARDNUMBER',\n",
       "  12: 'I-CREDITCARDNUMBER',\n",
       "  13: 'B-CREDITCARDCVV',\n",
       "  14: 'B-USERNAME',\n",
       "  15: 'I-USERNAME',\n",
       "  16: 'B-JOBTYPE',\n",
       "  17: 'B-PREFIX',\n",
       "  18: 'I-PREFIX',\n",
       "  19: 'B-LASTNAME',\n",
       "  20: 'B-EMAIL',\n",
       "  21: 'I-EMAIL',\n",
       "  22: 'B-IP',\n",
       "  23: 'I-IP',\n",
       "  24: 'B-PHONEIMEI',\n",
       "  25: 'I-PHONEIMEI',\n",
       "  26: 'B-MAC',\n",
       "  27: 'I-MAC',\n",
       "  28: 'B-DOB',\n",
       "  29: 'I-DOB',\n",
       "  30: 'B-NEARBYGPSCOORDINATE',\n",
       "  31: 'I-NEARBYGPSCOORDINATE',\n",
       "  32: 'B-BUILDINGNUMBER',\n",
       "  33: 'I-BUILDINGNUMBER',\n",
       "  34: 'B-IPV4',\n",
       "  35: 'I-IPV4',\n",
       "  36: 'B-BITCOINADDRESS',\n",
       "  37: 'I-BITCOINADDRESS',\n",
       "  38: 'B-SSN',\n",
       "  39: 'I-SSN',\n",
       "  40: 'B-PHONENUMBER',\n",
       "  41: 'I-PHONENUMBER',\n",
       "  42: 'B-SEX',\n",
       "  43: 'B-SECONDARYADDRESS',\n",
       "  44: 'I-SECONDARYADDRESS',\n",
       "  45: 'B-ACCOUNTNUMBER',\n",
       "  46: 'I-ACCOUNTNUMBER',\n",
       "  47: 'B-ACCOUNTNAME',\n",
       "  48: 'I-ACCOUNTNAME',\n",
       "  49: 'B-STREET',\n",
       "  50: 'I-STREET',\n",
       "  51: 'B-MASKEDNUMBER',\n",
       "  52: 'I-MASKEDNUMBER',\n",
       "  53: 'B-COMPANYNAME',\n",
       "  54: 'I-COMPANYNAME',\n",
       "  55: 'B-CURRENCYSYMBOL',\n",
       "  56: 'B-IBAN',\n",
       "  57: 'I-IBAN',\n",
       "  58: 'I-AMOUNT',\n",
       "  59: 'B-IPV6',\n",
       "  60: 'I-IPV6',\n",
       "  61: 'B-MIDDLENAME',\n",
       "  62: 'I-MIDDLENAME',\n",
       "  63: 'B-COUNTY',\n",
       "  64: 'I-COUNTY',\n",
       "  65: 'B-AGE',\n",
       "  66: 'B-PASSWORD',\n",
       "  67: 'I-PASSWORD',\n",
       "  68: 'B-STATE',\n",
       "  69: 'I-STATE',\n",
       "  70: 'B-URL',\n",
       "  71: 'I-URL',\n",
       "  72: 'I-JOBTYPE',\n",
       "  73: 'B-USERAGENT',\n",
       "  74: 'I-USERAGENT',\n",
       "  75: 'I-AGE',\n",
       "  76: 'B-ORDINALDIRECTION',\n",
       "  77: 'B-JOBTITLE',\n",
       "  78: 'I-JOBTITLE',\n",
       "  79: 'B-ETHEREUMADDRESS',\n",
       "  80: 'I-ETHEREUMADDRESS',\n",
       "  81: 'B-VEHICLEVRM',\n",
       "  82: 'I-VEHICLEVRM',\n",
       "  83: 'B-VEHICLEVIN',\n",
       "  84: 'I-VEHICLEVIN',\n",
       "  85: 'B-JOBAREA',\n",
       "  86: 'B-PIN',\n",
       "  87: 'I-PIN',\n",
       "  88: 'I-LASTNAME',\n",
       "  89: 'B-AMOUNT',\n",
       "  90: 'B-CURRENCYCODE',\n",
       "  91: 'I-CURRENCYCODE',\n",
       "  92: 'B-TIME',\n",
       "  93: 'I-TIME',\n",
       "  94: 'B-HEIGHT',\n",
       "  95: 'I-HEIGHT',\n",
       "  96: 'B-EYECOLOR',\n",
       "  97: 'B-GENDER',\n",
       "  98: 'I-GENDER',\n",
       "  99: 'B-BIC',\n",
       "  100: 'I-BIC',\n",
       "  101: 'B-CURRENCY',\n",
       "  102: 'I-CURRENCY',\n",
       "  103: 'I-CURRENCYSYMBOL',\n",
       "  104: 'B-CURRENCYNAME',\n",
       "  105: 'I-CURRENCYNAME',\n",
       "  106: 'B-LITECOINADDRESS',\n",
       "  107: 'I-LITECOINADDRESS',\n",
       "  108: 'I-JOBAREA',\n",
       "  109: 'I-EYECOLOR',\n",
       "  110: 'I-CREDITCARDCVV',\n",
       "  111: 'I-SEX'})"
      ]
     },
     "execution_count": 17,
     "metadata": {},
     "output_type": "execute_result"
    }
   ],
   "source": [
    "# Create label dict\n",
    "label2id = dict([(value,key) for key, value in enumerate(all_labels)])\n",
    "id2label = dict(map(reversed, label2id.items()))\n",
    "\n",
    "label2id, id2label"
   ]
  },
  {
   "cell_type": "code",
   "execution_count": 18,
   "id": "cc6bedb7-1960-49e5-b722-230a7746d1db",
   "metadata": {
    "tags": []
   },
   "outputs": [
    {
     "data": {
      "application/vnd.jupyter.widget-view+json": {
       "model_id": "06bedd90b3af40f787c772a47ddc1c66",
       "version_major": 2,
       "version_minor": 0
      },
      "text/plain": [
       "  0%|          | 0/209230 [00:00<?, ?it/s]"
      ]
     },
     "metadata": {},
     "output_type": "display_data"
    },
    {
     "name": "stderr",
     "output_type": "stream",
     "text": [
      "/tmp/ipykernel_293641/1087438728.py:8: UserWarning: Pandas doesn't allow columns to be created via a new attribute name - see https://pandas.pydata.org/pandas-docs/stable/indexing.html#attribute-access\n",
      "  df.ner_tags = ner_tags\n"
     ]
    }
   ],
   "source": [
    "for j in tqdm(range(len(ner_tags))):\n",
    "    tags = ner_tags[j]\n",
    "    for i in range(len(tags)):\n",
    "        for k,v in label2id.items():\n",
    "            if tags[i] == k:\n",
    "                tags[i] = v\n",
    "    ner_tags[j] = tags\n",
    "df.ner_tags = ner_tags"
   ]
  },
  {
   "cell_type": "code",
   "execution_count": 19,
   "id": "740458df-191c-4e02-8089-aa370b0e5fb3",
   "metadata": {
    "scrolled": true,
    "tags": []
   },
   "outputs": [
    {
     "data": {
      "text/plain": [
       "[0, 0, 0, 0, 1, 2, 0, 0, 0, 0, 3, 4, 0, 0, 0, 0, 0, 0, 0, 0]"
      ]
     },
     "execution_count": 19,
     "metadata": {},
     "output_type": "execute_result"
    }
   ],
   "source": [
    "ner_tags = [list(ner) for ner in ner_tags]\n",
    "ner_tags[0]"
   ]
  },
  {
   "cell_type": "code",
   "execution_count": 20,
   "id": "ff23a079-cdce-4818-a27f-b55f855f5f7a",
   "metadata": {
    "tags": []
   },
   "outputs": [],
   "source": [
    "df[['source_words']] = \"source_words\"\n",
    "source_words = [text.split(\" \") for text in source_texts]\n",
    "df.source_words = source_words"
   ]
  },
  {
   "cell_type": "code",
   "execution_count": 21,
   "id": "dae8d23e-6507-4f44-929a-52d3bb70cbd1",
   "metadata": {
    "tags": []
   },
   "outputs": [],
   "source": [
    "# removing rows where the len(tokenized_texts[i]) does not match len(ner_tags[i])\n",
    "idx = [i for i in range(len(ner_tags)) if len(tokenized_texts[i]) != len(ner_tags[i])]\n",
    "df = df.drop(index=idx).reset_index(drop=True)"
   ]
  },
  {
   "cell_type": "code",
   "execution_count": 22,
   "id": "0c7cc0ae-0742-4a8d-91fe-61a35ec33603",
   "metadata": {
    "tags": []
   },
   "outputs": [
    {
     "data": {
      "text/plain": [
       "Dataset({\n",
       "    features: ['masked_text', 'unmasked_text', 'privacy_mask', 'span_labels', 'bio_labels', 'tokenised_text', 'language', 'tt_lens', 'source_words'],\n",
       "    num_rows: 209230\n",
       "})"
      ]
     },
     "execution_count": 22,
     "metadata": {},
     "output_type": "execute_result"
    }
   ],
   "source": [
    "dataset = datasets.Dataset.from_pandas(df)\n",
    "dataset"
   ]
  },
  {
   "cell_type": "code",
   "execution_count": 23,
   "id": "18bf5889",
   "metadata": {},
   "outputs": [
    {
     "data": {
      "text/plain": [
       "{'masked_text': 'The literacy program in [CITY_1] is starting soon. [FIRSTNAME_1], can we count on your presence?',\n",
       " 'unmasked_text': 'The literacy program in Cliftonfurt is starting soon. Reggie, can we count on your presence?',\n",
       " 'privacy_mask': \"{'[CITY_1]': 'Cliftonfurt', '[FIRSTNAME_1]': 'Reggie'}\",\n",
       " 'span_labels': \"[[0, 24, 'O'], [24, 35, 'CITY_1'], [35, 54, 'O'], [54, 60, 'FIRSTNAME_1'], [60, 92, 'O']]\",\n",
       " 'bio_labels': [0, 0, 0, 0, 1, 2, 0, 0, 0, 0, 3, 4, 0, 0, 0, 0, 0, 0, 0, 0],\n",
       " 'tokenised_text': ['the',\n",
       "  'literacy',\n",
       "  'program',\n",
       "  'in',\n",
       "  'clifton',\n",
       "  '##furt',\n",
       "  'is',\n",
       "  'starting',\n",
       "  'soon',\n",
       "  '.',\n",
       "  'reg',\n",
       "  '##gie',\n",
       "  ',',\n",
       "  'can',\n",
       "  'we',\n",
       "  'count',\n",
       "  'on',\n",
       "  'your',\n",
       "  'presence',\n",
       "  '?'],\n",
       " 'language': 'en',\n",
       " 'tt_lens': 32,\n",
       " 'source_words': ['The',\n",
       "  'literacy',\n",
       "  'program',\n",
       "  'in',\n",
       "  'Cliftonfurt',\n",
       "  'is',\n",
       "  'starting',\n",
       "  'soon.',\n",
       "  'Reggie,',\n",
       "  'can',\n",
       "  'we',\n",
       "  'count',\n",
       "  'on',\n",
       "  'your',\n",
       "  'presence?']}"
      ]
     },
     "execution_count": 23,
     "metadata": {},
     "output_type": "execute_result"
    }
   ],
   "source": [
    "dataset[0]"
   ]
  },
  {
   "cell_type": "code",
   "execution_count": 24,
   "id": "951e9dd6-5e09-48d7-9d09-529bc33af07b",
   "metadata": {
    "tags": []
   },
   "outputs": [],
   "source": [
    "def align_labels(example):\n",
    "    tokenized_input = tokenizer(example[\"tokenised_text\"], is_split_into_words=True)\n",
    "    tokens = tokenizer.convert_ids_to_tokens(tokenized_input[\"input_ids\"])\n",
    "    word_ids = tokenized_input.word_ids()\n",
    "    aligned_labels = [-100 if i is None else example[\"bio_labels\"][i] for i in word_ids]\n",
    "    tokenized_input['labels'] = aligned_labels\n",
    "    return tokenized_input"
   ]
  },
  {
   "cell_type": "code",
   "execution_count": 25,
   "id": "8db8f2d7-4180-4aee-ad80-badf03240963",
   "metadata": {
    "tags": []
   },
   "outputs": [
    {
     "name": "stdout",
     "output_type": "stream",
     "text": [
      "32 32 32\n"
     ]
    }
   ],
   "source": [
    "al = align_labels(dataset[0])\n",
    "print(len(al['input_ids']), len(al['attention_mask']), len(al['labels']))"
   ]
  },
  {
   "cell_type": "code",
   "execution_count": 26,
   "id": "39baa3f7",
   "metadata": {},
   "outputs": [
    {
     "data": {
      "text/plain": [
       "{'input_ids': [1, 124394, 2], 'token_type_ids': [0, 0, 0], 'attention_mask': [1, 1, 1]}"
      ]
     },
     "execution_count": 26,
     "metadata": {},
     "output_type": "execute_result"
    }
   ],
   "source": [
    "tokenizer(\"hello\")"
   ]
  },
  {
   "cell_type": "code",
   "execution_count": 27,
   "id": "4d4d678b-c154-4f41-8f0b-83f0a0b08fdb",
   "metadata": {},
   "outputs": [],
   "source": [
    "label_all_tokens = True\n",
    "def tokenize_and_align_labels(examples):\n",
    "    tokenized_inputs = tokenizer.encode_plus(examples[\"tokenised_text\"], is_split_into_words=True, truncation=True, max_length=512)\n",
    "\n",
    "    labels = []\n",
    "    for i, label in enumerate(examples[\"bio_labels\"]):\n",
    "        word_ids = tokenized_inputs.word_ids(i)\n",
    "        previous_word_idx = None\n",
    "        label_ids = []\n",
    "        for word_idx in word_ids:\n",
    "            # Special tokens have a word id that is None. We set the label to -100 so they are automatically\n",
    "            # ignored in the loss function.\n",
    "            if word_idx is None:\n",
    "                label_ids.append(-100)\n",
    "            # We set the label for the first token of each word.\n",
    "            elif word_idx != previous_word_idx:\n",
    "                label_ids.append(label[word_idx])\n",
    "            # For the other tokens in a word, we set the label to either the current label or -100, depending on\n",
    "            # the label_all_tokens flag.\n",
    "            else:\n",
    "                label_ids.append(label[word_idx] if label_all_tokens else -100)\n",
    "            previous_word_idx = word_idx\n",
    "\n",
    "        labels.append(label_ids)\n",
    "\n",
    "    tokenized_inputs[\"labels\"] = labels\n",
    "    return tokenized_inputs"
   ]
  },
  {
   "cell_type": "code",
   "execution_count": 28,
   "id": "8ae6e964-d915-488b-b03a-cf262096cb6c",
   "metadata": {
    "tags": []
   },
   "outputs": [
    {
     "data": {
      "application/vnd.jupyter.widget-view+json": {
       "model_id": "1c8cc4fdd4c844efb4f71c09ea868147",
       "version_major": 2,
       "version_minor": 0
      },
      "text/plain": [
       "Map (num_proc=8):   0%|          | 0/209230 [00:00<?, ? examples/s]"
      ]
     },
     "metadata": {},
     "output_type": "display_data"
    }
   ],
   "source": [
    "x = dataset.map(align_labels, num_proc=8, remove_columns=dataset.column_names)"
   ]
  },
  {
   "cell_type": "code",
   "execution_count": 29,
   "id": "e2d5d4c6-5d52-4612-bce9-0c65a98181b8",
   "metadata": {
    "tags": []
   },
   "outputs": [],
   "source": [
    "tokenized_dataset = x.train_test_split(test_size=0.05)"
   ]
  },
  {
   "cell_type": "code",
   "execution_count": 30,
   "id": "b8732f21-bcd6-47bb-839a-13e66b84c6cf",
   "metadata": {
    "tags": []
   },
   "outputs": [
    {
     "data": {
      "text/plain": [
       "DatasetDict({\n",
       "    train: Dataset({\n",
       "        features: ['input_ids', 'token_type_ids', 'attention_mask', 'labels'],\n",
       "        num_rows: 198768\n",
       "    })\n",
       "    test: Dataset({\n",
       "        features: ['input_ids', 'token_type_ids', 'attention_mask', 'labels'],\n",
       "        num_rows: 10462\n",
       "    })\n",
       "})"
      ]
     },
     "execution_count": 30,
     "metadata": {},
     "output_type": "execute_result"
    }
   ],
   "source": [
    "tokenized_dataset"
   ]
  },
  {
   "cell_type": "code",
   "execution_count": 31,
   "id": "e03ae609-8ce5-4521-b8e5-f707267e7b08",
   "metadata": {
    "tags": []
   },
   "outputs": [],
   "source": [
    "data_collator = DataCollatorForTokenClassification(tokenizer)"
   ]
  },
  {
   "cell_type": "code",
   "execution_count": 32,
   "id": "07f3f6fa-b381-4719-bbc5-556edf2731a0",
   "metadata": {
    "tags": []
   },
   "outputs": [],
   "source": [
    "import evaluate\n",
    "\n",
    "metric  = evaluate.load(\"seqeval\")\n",
    "\n",
    "def preprocess_logits_for_metrics(logits, labels):\n",
    "    \"\"\"\n",
    "    Original Trainer may have a memory leak. \n",
    "    This is a workaround to avoid storing too many tensors that are not needed.\n",
    "    \"\"\"\n",
    "    pred_ids = torch.argmax(logits, dim=1)\n",
    "    return pred_ids, labels\n",
    "\n",
    "\n",
    "def compute_metrics(p):\n",
    "    predictions, labels = p\n",
    "    predictions = np.argmax(predictions, axis=2)\n",
    "\n",
    "    # Remove ignored index (special tokens)\n",
    "    true_predictions = [\n",
    "        [all_labels[p] for (p, l) in zip(prediction, label) if l != -100]\n",
    "        for prediction, label in zip(predictions, labels)\n",
    "    ]\n",
    "    true_labels = [\n",
    "        [all_labels[l] for (p, l) in zip(prediction, label) if l != -100]\n",
    "        for prediction, label in zip(predictions, labels)\n",
    "    ]\n",
    "\n",
    "    results = metric.compute(predictions=true_predictions, references=true_labels)\n",
    "    return {\n",
    "        \"precision\": results[\"overall_precision\"],\n",
    "        \"recall\": results[\"overall_recall\"],\n",
    "        \"f1\": results[\"overall_f1\"],\n",
    "        \"accuracy\": results[\"overall_accuracy\"],\n",
    "    }\n"
   ]
  },
  {
   "cell_type": "code",
   "execution_count": 33,
   "id": "9027a465-848e-4be9-aa5d-1efd90aad2c2",
   "metadata": {
    "tags": []
   },
   "outputs": [
    {
     "name": "stderr",
     "output_type": "stream",
     "text": [
      "Some weights of DebertaV2ForTokenClassification were not initialized from the model checkpoint at microsoft/mdeberta-v3-base and are newly initialized: ['classifier.bias', 'classifier.weight']\n",
      "You should probably TRAIN this model on a down-stream task to be able to use it for predictions and inference.\n"
     ]
    },
    {
     "name": "stdout",
     "output_type": "stream",
     "text": [
      "DebertaV2Config {\n",
      "  \"_name_or_path\": \"microsoft/mdeberta-v3-base\",\n",
      "  \"attention_probs_dropout_prob\": 0.1,\n",
      "  \"hidden_act\": \"gelu\",\n",
      "  \"hidden_dropout_prob\": 0.1,\n",
      "  \"hidden_size\": 768,\n",
      "  \"id2label\": {\n",
      "    \"0\": \"O\",\n",
      "    \"1\": \"B-CITY\",\n",
      "    \"2\": \"I-CITY\",\n",
      "    \"3\": \"B-FIRSTNAME\",\n",
      "    \"4\": \"I-FIRSTNAME\",\n",
      "    \"5\": \"B-ZIPCODE\",\n",
      "    \"6\": \"I-ZIPCODE\",\n",
      "    \"7\": \"B-DATE\",\n",
      "    \"8\": \"I-DATE\",\n",
      "    \"9\": \"B-CREDITCARDISSUER\",\n",
      "    \"10\": \"I-CREDITCARDISSUER\",\n",
      "    \"11\": \"B-CREDITCARDNUMBER\",\n",
      "    \"12\": \"I-CREDITCARDNUMBER\",\n",
      "    \"13\": \"B-CREDITCARDCVV\",\n",
      "    \"14\": \"B-USERNAME\",\n",
      "    \"15\": \"I-USERNAME\",\n",
      "    \"16\": \"B-JOBTYPE\",\n",
      "    \"17\": \"B-PREFIX\",\n",
      "    \"18\": \"I-PREFIX\",\n",
      "    \"19\": \"B-LASTNAME\",\n",
      "    \"20\": \"B-EMAIL\",\n",
      "    \"21\": \"I-EMAIL\",\n",
      "    \"22\": \"B-IP\",\n",
      "    \"23\": \"I-IP\",\n",
      "    \"24\": \"B-PHONEIMEI\",\n",
      "    \"25\": \"I-PHONEIMEI\",\n",
      "    \"26\": \"B-MAC\",\n",
      "    \"27\": \"I-MAC\",\n",
      "    \"28\": \"B-DOB\",\n",
      "    \"29\": \"I-DOB\",\n",
      "    \"30\": \"B-NEARBYGPSCOORDINATE\",\n",
      "    \"31\": \"I-NEARBYGPSCOORDINATE\",\n",
      "    \"32\": \"B-BUILDINGNUMBER\",\n",
      "    \"33\": \"I-BUILDINGNUMBER\",\n",
      "    \"34\": \"B-IPV4\",\n",
      "    \"35\": \"I-IPV4\",\n",
      "    \"36\": \"B-BITCOINADDRESS\",\n",
      "    \"37\": \"I-BITCOINADDRESS\",\n",
      "    \"38\": \"B-SSN\",\n",
      "    \"39\": \"I-SSN\",\n",
      "    \"40\": \"B-PHONENUMBER\",\n",
      "    \"41\": \"I-PHONENUMBER\",\n",
      "    \"42\": \"B-SEX\",\n",
      "    \"43\": \"B-SECONDARYADDRESS\",\n",
      "    \"44\": \"I-SECONDARYADDRESS\",\n",
      "    \"45\": \"B-ACCOUNTNUMBER\",\n",
      "    \"46\": \"I-ACCOUNTNUMBER\",\n",
      "    \"47\": \"B-ACCOUNTNAME\",\n",
      "    \"48\": \"I-ACCOUNTNAME\",\n",
      "    \"49\": \"B-STREET\",\n",
      "    \"50\": \"I-STREET\",\n",
      "    \"51\": \"B-MASKEDNUMBER\",\n",
      "    \"52\": \"I-MASKEDNUMBER\",\n",
      "    \"53\": \"B-COMPANYNAME\",\n",
      "    \"54\": \"I-COMPANYNAME\",\n",
      "    \"55\": \"B-CURRENCYSYMBOL\",\n",
      "    \"56\": \"B-IBAN\",\n",
      "    \"57\": \"I-IBAN\",\n",
      "    \"58\": \"I-AMOUNT\",\n",
      "    \"59\": \"B-IPV6\",\n",
      "    \"60\": \"I-IPV6\",\n",
      "    \"61\": \"B-MIDDLENAME\",\n",
      "    \"62\": \"I-MIDDLENAME\",\n",
      "    \"63\": \"B-COUNTY\",\n",
      "    \"64\": \"I-COUNTY\",\n",
      "    \"65\": \"B-AGE\",\n",
      "    \"66\": \"B-PASSWORD\",\n",
      "    \"67\": \"I-PASSWORD\",\n",
      "    \"68\": \"B-STATE\",\n",
      "    \"69\": \"I-STATE\",\n",
      "    \"70\": \"B-URL\",\n",
      "    \"71\": \"I-URL\",\n",
      "    \"72\": \"I-JOBTYPE\",\n",
      "    \"73\": \"B-USERAGENT\",\n",
      "    \"74\": \"I-USERAGENT\",\n",
      "    \"75\": \"I-AGE\",\n",
      "    \"76\": \"B-ORDINALDIRECTION\",\n",
      "    \"77\": \"B-JOBTITLE\",\n",
      "    \"78\": \"I-JOBTITLE\",\n",
      "    \"79\": \"B-ETHEREUMADDRESS\",\n",
      "    \"80\": \"I-ETHEREUMADDRESS\",\n",
      "    \"81\": \"B-VEHICLEVRM\",\n",
      "    \"82\": \"I-VEHICLEVRM\",\n",
      "    \"83\": \"B-VEHICLEVIN\",\n",
      "    \"84\": \"I-VEHICLEVIN\",\n",
      "    \"85\": \"B-JOBAREA\",\n",
      "    \"86\": \"B-PIN\",\n",
      "    \"87\": \"I-PIN\",\n",
      "    \"88\": \"I-LASTNAME\",\n",
      "    \"89\": \"B-AMOUNT\",\n",
      "    \"90\": \"B-CURRENCYCODE\",\n",
      "    \"91\": \"I-CURRENCYCODE\",\n",
      "    \"92\": \"B-TIME\",\n",
      "    \"93\": \"I-TIME\",\n",
      "    \"94\": \"B-HEIGHT\",\n",
      "    \"95\": \"I-HEIGHT\",\n",
      "    \"96\": \"B-EYECOLOR\",\n",
      "    \"97\": \"B-GENDER\",\n",
      "    \"98\": \"I-GENDER\",\n",
      "    \"99\": \"B-BIC\",\n",
      "    \"100\": \"I-BIC\",\n",
      "    \"101\": \"B-CURRENCY\",\n",
      "    \"102\": \"I-CURRENCY\",\n",
      "    \"103\": \"I-CURRENCYSYMBOL\",\n",
      "    \"104\": \"B-CURRENCYNAME\",\n",
      "    \"105\": \"I-CURRENCYNAME\",\n",
      "    \"106\": \"B-LITECOINADDRESS\",\n",
      "    \"107\": \"I-LITECOINADDRESS\",\n",
      "    \"108\": \"I-JOBAREA\",\n",
      "    \"109\": \"I-EYECOLOR\",\n",
      "    \"110\": \"I-CREDITCARDCVV\",\n",
      "    \"111\": \"I-SEX\"\n",
      "  },\n",
      "  \"initializer_range\": 0.02,\n",
      "  \"intermediate_size\": 3072,\n",
      "  \"label2id\": {\n",
      "    \"B-ACCOUNTNAME\": 47,\n",
      "    \"B-ACCOUNTNUMBER\": 45,\n",
      "    \"B-AGE\": 65,\n",
      "    \"B-AMOUNT\": 89,\n",
      "    \"B-BIC\": 99,\n",
      "    \"B-BITCOINADDRESS\": 36,\n",
      "    \"B-BUILDINGNUMBER\": 32,\n",
      "    \"B-CITY\": 1,\n",
      "    \"B-COMPANYNAME\": 53,\n",
      "    \"B-COUNTY\": 63,\n",
      "    \"B-CREDITCARDCVV\": 13,\n",
      "    \"B-CREDITCARDISSUER\": 9,\n",
      "    \"B-CREDITCARDNUMBER\": 11,\n",
      "    \"B-CURRENCY\": 101,\n",
      "    \"B-CURRENCYCODE\": 90,\n",
      "    \"B-CURRENCYNAME\": 104,\n",
      "    \"B-CURRENCYSYMBOL\": 55,\n",
      "    \"B-DATE\": 7,\n",
      "    \"B-DOB\": 28,\n",
      "    \"B-EMAIL\": 20,\n",
      "    \"B-ETHEREUMADDRESS\": 79,\n",
      "    \"B-EYECOLOR\": 96,\n",
      "    \"B-FIRSTNAME\": 3,\n",
      "    \"B-GENDER\": 97,\n",
      "    \"B-HEIGHT\": 94,\n",
      "    \"B-IBAN\": 56,\n",
      "    \"B-IP\": 22,\n",
      "    \"B-IPV4\": 34,\n",
      "    \"B-IPV6\": 59,\n",
      "    \"B-JOBAREA\": 85,\n",
      "    \"B-JOBTITLE\": 77,\n",
      "    \"B-JOBTYPE\": 16,\n",
      "    \"B-LASTNAME\": 19,\n",
      "    \"B-LITECOINADDRESS\": 106,\n",
      "    \"B-MAC\": 26,\n",
      "    \"B-MASKEDNUMBER\": 51,\n",
      "    \"B-MIDDLENAME\": 61,\n",
      "    \"B-NEARBYGPSCOORDINATE\": 30,\n",
      "    \"B-ORDINALDIRECTION\": 76,\n",
      "    \"B-PASSWORD\": 66,\n",
      "    \"B-PHONEIMEI\": 24,\n",
      "    \"B-PHONENUMBER\": 40,\n",
      "    \"B-PIN\": 86,\n",
      "    \"B-PREFIX\": 17,\n",
      "    \"B-SECONDARYADDRESS\": 43,\n",
      "    \"B-SEX\": 42,\n",
      "    \"B-SSN\": 38,\n",
      "    \"B-STATE\": 68,\n",
      "    \"B-STREET\": 49,\n",
      "    \"B-TIME\": 92,\n",
      "    \"B-URL\": 70,\n",
      "    \"B-USERAGENT\": 73,\n",
      "    \"B-USERNAME\": 14,\n",
      "    \"B-VEHICLEVIN\": 83,\n",
      "    \"B-VEHICLEVRM\": 81,\n",
      "    \"B-ZIPCODE\": 5,\n",
      "    \"I-ACCOUNTNAME\": 48,\n",
      "    \"I-ACCOUNTNUMBER\": 46,\n",
      "    \"I-AGE\": 75,\n",
      "    \"I-AMOUNT\": 58,\n",
      "    \"I-BIC\": 100,\n",
      "    \"I-BITCOINADDRESS\": 37,\n",
      "    \"I-BUILDINGNUMBER\": 33,\n",
      "    \"I-CITY\": 2,\n",
      "    \"I-COMPANYNAME\": 54,\n",
      "    \"I-COUNTY\": 64,\n",
      "    \"I-CREDITCARDCVV\": 110,\n",
      "    \"I-CREDITCARDISSUER\": 10,\n",
      "    \"I-CREDITCARDNUMBER\": 12,\n",
      "    \"I-CURRENCY\": 102,\n",
      "    \"I-CURRENCYCODE\": 91,\n",
      "    \"I-CURRENCYNAME\": 105,\n",
      "    \"I-CURRENCYSYMBOL\": 103,\n",
      "    \"I-DATE\": 8,\n",
      "    \"I-DOB\": 29,\n",
      "    \"I-EMAIL\": 21,\n",
      "    \"I-ETHEREUMADDRESS\": 80,\n",
      "    \"I-EYECOLOR\": 109,\n",
      "    \"I-FIRSTNAME\": 4,\n",
      "    \"I-GENDER\": 98,\n",
      "    \"I-HEIGHT\": 95,\n",
      "    \"I-IBAN\": 57,\n",
      "    \"I-IP\": 23,\n",
      "    \"I-IPV4\": 35,\n",
      "    \"I-IPV6\": 60,\n",
      "    \"I-JOBAREA\": 108,\n",
      "    \"I-JOBTITLE\": 78,\n",
      "    \"I-JOBTYPE\": 72,\n",
      "    \"I-LASTNAME\": 88,\n",
      "    \"I-LITECOINADDRESS\": 107,\n",
      "    \"I-MAC\": 27,\n",
      "    \"I-MASKEDNUMBER\": 52,\n",
      "    \"I-MIDDLENAME\": 62,\n",
      "    \"I-NEARBYGPSCOORDINATE\": 31,\n",
      "    \"I-PASSWORD\": 67,\n",
      "    \"I-PHONEIMEI\": 25,\n",
      "    \"I-PHONENUMBER\": 41,\n",
      "    \"I-PIN\": 87,\n",
      "    \"I-PREFIX\": 18,\n",
      "    \"I-SECONDARYADDRESS\": 44,\n",
      "    \"I-SEX\": 111,\n",
      "    \"I-SSN\": 39,\n",
      "    \"I-STATE\": 69,\n",
      "    \"I-STREET\": 50,\n",
      "    \"I-TIME\": 93,\n",
      "    \"I-URL\": 71,\n",
      "    \"I-USERAGENT\": 74,\n",
      "    \"I-USERNAME\": 15,\n",
      "    \"I-VEHICLEVIN\": 84,\n",
      "    \"I-VEHICLEVRM\": 82,\n",
      "    \"I-ZIPCODE\": 6,\n",
      "    \"O\": 0\n",
      "  },\n",
      "  \"layer_norm_eps\": 1e-07,\n",
      "  \"max_position_embeddings\": 512,\n",
      "  \"max_relative_positions\": -1,\n",
      "  \"model_type\": \"deberta-v2\",\n",
      "  \"norm_rel_ebd\": \"layer_norm\",\n",
      "  \"num_attention_heads\": 12,\n",
      "  \"num_hidden_layers\": 12,\n",
      "  \"pad_token_id\": 0,\n",
      "  \"pooler_dropout\": 0,\n",
      "  \"pooler_hidden_act\": \"gelu\",\n",
      "  \"pooler_hidden_size\": 768,\n",
      "  \"pos_att_type\": [\n",
      "    \"p2c\",\n",
      "    \"c2p\"\n",
      "  ],\n",
      "  \"position_biased_input\": false,\n",
      "  \"position_buckets\": 256,\n",
      "  \"relative_attention\": true,\n",
      "  \"share_att_key\": true,\n",
      "  \"transformers_version\": \"4.44.2\",\n",
      "  \"type_vocab_size\": 0,\n",
      "  \"vocab_size\": 251000\n",
      "}\n",
      "\n"
     ]
    }
   ],
   "source": [
    "model = AutoModelForTokenClassification.from_pretrained(model_name, num_labels=len(all_labels), label2id=label2id, id2label=id2label)\n",
    "print(model.config)"
   ]
  },
  {
   "cell_type": "code",
   "execution_count": 34,
   "id": "36bb2c00-a05e-41ca-b60c-e71bc6cdb6c6",
   "metadata": {
    "tags": []
   },
   "outputs": [
    {
     "name": "stderr",
     "output_type": "stream",
     "text": [
      "max_steps is given, it will override any value given in num_train_epochs\n"
     ]
    }
   ],
   "source": [
    "training_arguments = TrainingArguments(\n",
    "    output_dir=\"output_mdeberta_base\",\n",
    "    max_steps=400000,\n",
    "    eval_steps=10000,   \n",
    "    per_device_train_batch_size=4,\n",
    "    per_device_eval_batch_size=2,\n",
    "    overwrite_output_dir=True,\n",
    "    warmup_ratio=0.2,\n",
    "    learning_rate=2e-5,\n",
    "    weight_decay=0.01,\n",
    "    save_strategy=\"steps\",\n",
    "    eval_strategy=\"steps\",\n",
    "    load_best_model_at_end=True,\n",
    "    save_total_limit=1,\n",
    "    save_steps=10000,\n",
    "    lr_scheduler_type=\"cosine\",\n",
    "    warmup_steps=3000,\n",
    "    metric_for_best_model=\"f1\",\n",
    "    greater_is_better=True,\n",
    "    torch_compile=False,\n",
    "    eval_accumulation_steps=16,\n",
    "\n",
    ")\n",
    "from functools import partial\n",
    "\n",
    "trainer = Trainer(\n",
    "    model,\n",
    "    training_arguments,\n",
    "    train_dataset=tokenized_dataset[\"train\"],\n",
    "    eval_dataset=tokenized_dataset[\"test\"],\n",
    "    data_collator=DataCollatorForTokenClassification(tokenizer),\n",
    "    tokenizer=tokenizer,\n",
    "    compute_metrics=compute_metrics\n",
    "    # preprocess_logits_for_metrics=preprocess_logits_for_metrics,\n",
    ")\n"
   ]
  },
  {
   "cell_type": "code",
   "execution_count": 35,
   "id": "b47741cd-e504-4c48-b1c8-b466f2d8c064",
   "metadata": {
    "tags": []
   },
   "outputs": [
    {
     "data": {
      "application/vnd.jupyter.widget-view+json": {
       "model_id": "bd9f8e24c6f94cfda35e6ad05d7bb6cd",
       "version_major": 2,
       "version_minor": 0
      },
      "text/plain": [
       "  0%|          | 0/400000 [00:00<?, ?it/s]"
      ]
     },
     "metadata": {},
     "output_type": "display_data"
    },
    {
     "name": "stdout",
     "output_type": "stream",
     "text": [
      "{'loss': 3.1839, 'grad_norm': 7.745646953582764, 'learning_rate': 3.3333333333333333e-06, 'epoch': 0.01}\n",
      "{'loss': 1.2624, 'grad_norm': 6.828775882720947, 'learning_rate': 6.666666666666667e-06, 'epoch': 0.02}\n",
      "{'loss': 0.7649, 'grad_norm': 4.576783180236816, 'learning_rate': 1e-05, 'epoch': 0.03}\n",
      "{'loss': 0.5121, 'grad_norm': 3.3890411853790283, 'learning_rate': 1.3333333333333333e-05, 'epoch': 0.04}\n",
      "{'loss': 0.3571, 'grad_norm': 2.940311908721924, 'learning_rate': 1.6666666666666667e-05, 'epoch': 0.05}\n",
      "{'loss': 0.2738, 'grad_norm': 3.4379637241363525, 'learning_rate': 2e-05, 'epoch': 0.06}\n",
      "{'loss': 0.2062, 'grad_norm': 4.231479644775391, 'learning_rate': 1.999992172408044e-05, 'epoch': 0.07}\n",
      "{'loss': 0.1856, 'grad_norm': 8.920188903808594, 'learning_rate': 1.999968689754717e-05, 'epoch': 0.08}\n",
      "{'loss': 0.1577, 'grad_norm': 1.1247848272323608, 'learning_rate': 1.9999295524076455e-05, 'epoch': 0.09}\n",
      "{'loss': 0.1524, 'grad_norm': 1.2960718870162964, 'learning_rate': 1.999874760979531e-05, 'epoch': 0.1}\n",
      "{'loss': 0.1388, 'grad_norm': 0.8947241902351379, 'learning_rate': 1.9998043163281435e-05, 'epoch': 0.11}\n",
      "{'loss': 0.1158, 'grad_norm': 2.799908399581909, 'learning_rate': 1.999718219556307e-05, 'epoch': 0.12}\n",
      "{'loss': 0.115, 'grad_norm': 3.0980262756347656, 'learning_rate': 1.999616472011883e-05, 'epoch': 0.13}\n",
      "{'loss': 0.1163, 'grad_norm': 0.7021169066429138, 'learning_rate': 1.9994990752877473e-05, 'epoch': 0.14}\n",
      "{'loss': 0.1024, 'grad_norm': 0.8518216013908386, 'learning_rate': 1.9993660312217674e-05, 'epoch': 0.15}\n",
      "{'loss': 0.1029, 'grad_norm': 1.6059895753860474, 'learning_rate': 1.999217341896772e-05, 'epoch': 0.16}\n",
      "{'loss': 0.0974, 'grad_norm': 7.030076026916504, 'learning_rate': 1.999053009640521e-05, 'epoch': 0.17}\n",
      "{'loss': 0.1018, 'grad_norm': 2.589369058609009, 'learning_rate': 1.9988730370256654e-05, 'epoch': 0.18}\n",
      "{'loss': 0.101, 'grad_norm': 1.5629674196243286, 'learning_rate': 1.9986774268697098e-05, 'epoch': 0.19}\n",
      "{'loss': 0.0936, 'grad_norm': 0.6043143272399902, 'learning_rate': 1.998466182234967e-05, 'epoch': 0.2}\n"
     ]
    },
    {
     "data": {
      "application/vnd.jupyter.widget-view+json": {
       "model_id": "5194b7911c994631a316c42fdf4a215c",
       "version_major": 2,
       "version_minor": 0
      },
      "text/plain": [
       "  0%|          | 0/5231 [00:00<?, ?it/s]"
      ]
     },
     "metadata": {},
     "output_type": "display_data"
    },
    {
     "name": "stderr",
     "output_type": "stream",
     "text": [
      "/home/arnesh/.local/lib/python3.12/site-packages/seqeval/metrics/v1.py:57: UndefinedMetricWarning: Precision and F-score are ill-defined and being set to 0.0 in labels with no predicted samples. Use `zero_division` parameter to control this behavior.\n",
      "  _warn_prf(average, modifier, msg_start, len(result))\n"
     ]
    },
    {
     "name": "stdout",
     "output_type": "stream",
     "text": [
      "{'eval_loss': 0.09239111095666885, 'eval_precision': 0.9134922323898702, 'eval_recall': 0.9294746871075311, 'eval_f1': 0.9214141587601425, 'eval_accuracy': 0.9684061856813415, 'eval_runtime': 116.0891, 'eval_samples_per_second': 90.12, 'eval_steps_per_second': 45.06, 'epoch': 0.2}\n",
      "{'loss': 0.0829, 'grad_norm': 1.6202961206436157, 'learning_rate': 1.9982393064285106e-05, 'epoch': 0.21}\n",
      "{'loss': 0.0953, 'grad_norm': 0.23380757868289948, 'learning_rate': 1.997996803002123e-05, 'epoch': 0.22}\n",
      "{'loss': 0.0923, 'grad_norm': 21.746740341186523, 'learning_rate': 1.99773867575224e-05, 'epoch': 0.23}\n",
      "{'loss': 0.0869, 'grad_norm': 0.755976676940918, 'learning_rate': 1.997464928719892e-05, 'epoch': 0.24}\n",
      "{'loss': 0.09, 'grad_norm': 0.14635367691516876, 'learning_rate': 1.9971755661906376e-05, 'epoch': 0.25}\n",
      "{'loss': 0.0843, 'grad_norm': 0.42474454641342163, 'learning_rate': 1.9968705926945015e-05, 'epoch': 0.26}\n",
      "{'loss': 0.0927, 'grad_norm': 11.507859230041504, 'learning_rate': 1.9965500130058996e-05, 'epoch': 0.27}\n",
      "{'loss': 0.0808, 'grad_norm': 0.8708305358886719, 'learning_rate': 1.9962138321435658e-05, 'epoch': 0.28}\n",
      "{'loss': 0.0869, 'grad_norm': 0.644217312335968, 'learning_rate': 1.9958620553704737e-05, 'epoch': 0.29}\n",
      "{'loss': 0.088, 'grad_norm': 1.7083741426467896, 'learning_rate': 1.9954946881937525e-05, 'epoch': 0.3}\n",
      "{'loss': 0.0926, 'grad_norm': 6.1213507652282715, 'learning_rate': 1.9951117363646036e-05, 'epoch': 0.31}\n",
      "{'loss': 0.0821, 'grad_norm': 1.0457552671432495, 'learning_rate': 1.9947132058782082e-05, 'epoch': 0.32}\n",
      "{'loss': 0.0886, 'grad_norm': 6.430251121520996, 'learning_rate': 1.9942991029736346e-05, 'epoch': 0.33}\n",
      "{'loss': 0.08, 'grad_norm': 1.814572811126709, 'learning_rate': 1.9938694341337398e-05, 'epoch': 0.34}\n",
      "{'loss': 0.0815, 'grad_norm': 5.1544694900512695, 'learning_rate': 1.993424206085068e-05, 'epoch': 0.35}\n",
      "{'loss': 0.0729, 'grad_norm': 0.7144864797592163, 'learning_rate': 1.9929634257977467e-05, 'epoch': 0.36}\n",
      "{'loss': 0.0817, 'grad_norm': 15.684032440185547, 'learning_rate': 1.992487100485376e-05, 'epoch': 0.37}\n",
      "{'loss': 0.0867, 'grad_norm': 11.37711238861084, 'learning_rate': 1.991995237604916e-05, 'epoch': 0.38}\n",
      "{'loss': 0.0819, 'grad_norm': 4.806521892547607, 'learning_rate': 1.9914878448565712e-05, 'epoch': 0.39}\n",
      "{'loss': 0.0776, 'grad_norm': 0.09389317035675049, 'learning_rate': 1.9909649301836675e-05, 'epoch': 0.4}\n"
     ]
    },
    {
     "data": {
      "application/vnd.jupyter.widget-view+json": {
       "model_id": "2fdbc1a7a37a4a26a7a78105f5fc80a1",
       "version_major": 2,
       "version_minor": 0
      },
      "text/plain": [
       "  0%|          | 0/5231 [00:00<?, ?it/s]"
      ]
     },
     "metadata": {},
     "output_type": "display_data"
    },
    {
     "name": "stderr",
     "output_type": "stream",
     "text": [
      "/home/arnesh/.local/lib/python3.12/site-packages/seqeval/metrics/v1.py:57: UndefinedMetricWarning: Precision and F-score are ill-defined and being set to 0.0 in labels with no predicted samples. Use `zero_division` parameter to control this behavior.\n",
      "  _warn_prf(average, modifier, msg_start, len(result))\n"
     ]
    },
    {
     "name": "stdout",
     "output_type": "stream",
     "text": [
      "{'eval_loss': 0.07437550276517868, 'eval_precision': 0.9370146307976145, 'eval_recall': 0.9457797410246417, 'eval_f1': 0.9413767834820467, 'eval_accuracy': 0.9716821221718818, 'eval_runtime': 114.8044, 'eval_samples_per_second': 91.129, 'eval_steps_per_second': 45.564, 'epoch': 0.4}\n",
      "{'loss': 0.082, 'grad_norm': 3.654353380203247, 'learning_rate': 1.990426501772531e-05, 'epoch': 0.41}\n",
      "{'loss': 0.0843, 'grad_norm': 0.9997378587722778, 'learning_rate': 1.989872568052357e-05, 'epoch': 0.42}\n",
      "{'loss': 0.08, 'grad_norm': 1.3765188455581665, 'learning_rate': 1.98930313769508e-05, 'epoch': 0.43}\n",
      "{'loss': 0.0704, 'grad_norm': 1.066423773765564, 'learning_rate': 1.988718219615237e-05, 'epoch': 0.44}\n",
      "{'loss': 0.0722, 'grad_norm': 0.2679244577884674, 'learning_rate': 1.9881178229698278e-05, 'epoch': 0.45}\n",
      "{'loss': 0.0859, 'grad_norm': 0.4628921151161194, 'learning_rate': 1.987501957158173e-05, 'epoch': 0.46}\n",
      "{'loss': 0.0771, 'grad_norm': 0.29729121923446655, 'learning_rate': 1.9868706318217645e-05, 'epoch': 0.47}\n",
      "{'loss': 0.0745, 'grad_norm': 0.8488574028015137, 'learning_rate': 1.9862238568441166e-05, 'epoch': 0.48}\n",
      "{'loss': 0.0845, 'grad_norm': 0.6560720205307007, 'learning_rate': 1.9855616423506106e-05, 'epoch': 0.49}\n",
      "{'loss': 0.0721, 'grad_norm': 0.5099892616271973, 'learning_rate': 1.9848839987083366e-05, 'epoch': 0.5}\n",
      "{'loss': 0.0782, 'grad_norm': 0.24209792912006378, 'learning_rate': 1.98419093652593e-05, 'epoch': 0.51}\n",
      "{'loss': 0.0675, 'grad_norm': 0.4360942542552948, 'learning_rate': 1.9834824666534073e-05, 'epoch': 0.52}\n",
      "{'loss': 0.0655, 'grad_norm': 0.4761504530906677, 'learning_rate': 1.9827586001819933e-05, 'epoch': 0.53}\n",
      "{'loss': 0.0782, 'grad_norm': 0.7152326107025146, 'learning_rate': 1.9820193484439523e-05, 'epoch': 0.54}\n",
      "{'loss': 0.0728, 'grad_norm': 0.42597296833992004, 'learning_rate': 1.981264723012405e-05, 'epoch': 0.55}\n",
      "{'loss': 0.0766, 'grad_norm': 0.35375499725341797, 'learning_rate': 1.9804947357011525e-05, 'epoch': 0.56}\n",
      "{'loss': 0.0693, 'grad_norm': 5.002931594848633, 'learning_rate': 1.9797093985644866e-05, 'epoch': 0.57}\n",
      "{'loss': 0.0707, 'grad_norm': 0.9391627907752991, 'learning_rate': 1.9789087238970056e-05, 'epoch': 0.58}\n",
      "{'loss': 0.0747, 'grad_norm': 0.6964423060417175, 'learning_rate': 1.978092724233418e-05, 'epoch': 0.59}\n",
      "{'loss': 0.071, 'grad_norm': 0.879614531993866, 'learning_rate': 1.9772614123483488e-05, 'epoch': 0.6}\n"
     ]
    },
    {
     "data": {
      "application/vnd.jupyter.widget-view+json": {
       "model_id": "7bd6f0372e3c49d2ac943dae12cd056b",
       "version_major": 2,
       "version_minor": 0
      },
      "text/plain": [
       "  0%|          | 0/5231 [00:00<?, ?it/s]"
      ]
     },
     "metadata": {},
     "output_type": "display_data"
    },
    {
     "name": "stdout",
     "output_type": "stream",
     "text": [
      "{'eval_loss': 0.06865345686674118, 'eval_precision': 0.9379873189958016, 'eval_recall': 0.9481832748689966, 'eval_f1': 0.943057739107962, 'eval_accuracy': 0.9720681020770068, 'eval_runtime': 116.2394, 'eval_samples_per_second': 90.004, 'eval_steps_per_second': 45.002, 'epoch': 0.6}\n",
      "{'loss': 0.0733, 'grad_norm': 1.6005877256393433, 'learning_rate': 1.9764148012561384e-05, 'epoch': 0.61}\n",
      "{'loss': 0.0752, 'grad_norm': 1.2456777095794678, 'learning_rate': 1.9755529042106394e-05, 'epoch': 0.62}\n",
      "{'loss': 0.0694, 'grad_norm': 0.2850947380065918, 'learning_rate': 1.974675734705008e-05, 'epoch': 0.63}\n",
      "{'loss': 0.0704, 'grad_norm': 0.6880046725273132, 'learning_rate': 1.973783306471495e-05, 'epoch': 0.64}\n",
      "{'loss': 0.0798, 'grad_norm': 0.23187550902366638, 'learning_rate': 1.972875633481228e-05, 'epoch': 0.65}\n",
      "{'loss': 0.0715, 'grad_norm': 0.2429242879152298, 'learning_rate': 1.9719527299439944e-05, 'epoch': 0.66}\n",
      "{'loss': 0.0695, 'grad_norm': 0.8351587057113647, 'learning_rate': 1.971014610308019e-05, 'epoch': 0.67}\n",
      "{'loss': 0.0652, 'grad_norm': 0.1279786378145218, 'learning_rate': 1.9700612892597376e-05, 'epoch': 0.68}\n",
      "{'loss': 0.0725, 'grad_norm': 0.25509029626846313, 'learning_rate': 1.969092781723566e-05, 'epoch': 0.69}\n",
      "{'loss': 0.0718, 'grad_norm': 0.11257362365722656, 'learning_rate': 1.968109102861668e-05, 'epoch': 0.7}\n",
      "{'loss': 0.0676, 'grad_norm': 0.5788331627845764, 'learning_rate': 1.9671102680737172e-05, 'epoch': 0.71}\n",
      "{'loss': 0.0781, 'grad_norm': 0.07098229229450226, 'learning_rate': 1.9660962929966553e-05, 'epoch': 0.72}\n",
      "{'loss': 0.0708, 'grad_norm': 0.031218230724334717, 'learning_rate': 1.9650671935044497e-05, 'epoch': 0.73}\n",
      "{'loss': 0.0668, 'grad_norm': 6.59959077835083, 'learning_rate': 1.9640229857078417e-05, 'epoch': 0.74}\n",
      "{'loss': 0.0738, 'grad_norm': 0.7157952189445496, 'learning_rate': 1.9629636859540962e-05, 'epoch': 0.75}\n",
      "{'loss': 0.07, 'grad_norm': 0.4736281633377075, 'learning_rate': 1.9618893108267457e-05, 'epoch': 0.76}\n",
      "{'loss': 0.0658, 'grad_norm': 1.1030620336532593, 'learning_rate': 1.9607998771453306e-05, 'epoch': 0.77}\n",
      "{'loss': 0.0667, 'grad_norm': 1.444017767906189, 'learning_rate': 1.9596954019651354e-05, 'epoch': 0.78}\n",
      "{'loss': 0.0667, 'grad_norm': 1.9163224697113037, 'learning_rate': 1.9585759025769225e-05, 'epoch': 0.79}\n",
      "{'loss': 0.069, 'grad_norm': 18.62563133239746, 'learning_rate': 1.95744139650666e-05, 'epoch': 0.8}\n"
     ]
    },
    {
     "data": {
      "application/vnd.jupyter.widget-view+json": {
       "model_id": "98b5ffc63d584512bed6693d5230fb3d",
       "version_major": 2,
       "version_minor": 0
      },
      "text/plain": [
       "  0%|          | 0/5231 [00:00<?, ?it/s]"
      ]
     },
     "metadata": {},
     "output_type": "display_data"
    },
    {
     "name": "stdout",
     "output_type": "stream",
     "text": [
      "{'eval_loss': 0.0780053362250328, 'eval_precision': 0.9363429615932326, 'eval_recall': 0.9539214412541683, 'eval_f1': 0.9450504660467012, 'eval_accuracy': 0.972343180713617, 'eval_runtime': 115.2268, 'eval_samples_per_second': 90.795, 'eval_steps_per_second': 45.397, 'epoch': 0.8}\n",
      "{'loss': 0.069, 'grad_norm': 2.214747667312622, 'learning_rate': 1.95629190151525e-05, 'epoch': 0.82}\n",
      "{'loss': 0.0638, 'grad_norm': 1.260542631149292, 'learning_rate': 1.955127435598247e-05, 'epoch': 0.83}\n",
      "{'loss': 0.0625, 'grad_norm': 0.048690732568502426, 'learning_rate': 1.95394801698558e-05, 'epoch': 0.84}\n",
      "{'loss': 0.0615, 'grad_norm': 0.3490374684333801, 'learning_rate': 1.9527536641412637e-05, 'epoch': 0.85}\n",
      "{'loss': 0.0662, 'grad_norm': 3.014636993408203, 'learning_rate': 1.951544395763112e-05, 'epoch': 0.86}\n",
      "{'loss': 0.0624, 'grad_norm': 0.5319443941116333, 'learning_rate': 1.9503202307824433e-05, 'epoch': 0.87}\n",
      "{'loss': 0.071, 'grad_norm': 3.738878011703491, 'learning_rate': 1.949081188363786e-05, 'epoch': 0.88}\n",
      "{'loss': 0.0609, 'grad_norm': 1.042778491973877, 'learning_rate': 1.9478272879045764e-05, 'epoch': 0.89}\n",
      "{'loss': 0.0638, 'grad_norm': 0.7719144821166992, 'learning_rate': 1.9465585490348574e-05, 'epoch': 0.9}\n",
      "{'loss': 0.0636, 'grad_norm': 3.2445943355560303, 'learning_rate': 1.945274991616969e-05, 'epoch': 0.91}\n",
      "{'loss': 0.0715, 'grad_norm': 2.9176530838012695, 'learning_rate': 1.9439766357452386e-05, 'epoch': 0.92}\n",
      "{'loss': 0.0713, 'grad_norm': 0.29246023297309875, 'learning_rate': 1.942663501745666e-05, 'epoch': 0.93}\n",
      "{'loss': 0.0611, 'grad_norm': 0.6398261189460754, 'learning_rate': 1.9413356101756063e-05, 'epoch': 0.94}\n",
      "{'loss': 0.0637, 'grad_norm': 4.069896697998047, 'learning_rate': 1.9399929818234457e-05, 'epoch': 0.95}\n",
      "{'loss': 0.0583, 'grad_norm': 0.08983495086431503, 'learning_rate': 1.9386356377082776e-05, 'epoch': 0.96}\n",
      "{'loss': 0.0627, 'grad_norm': 16.302471160888672, 'learning_rate': 1.9372635990795744e-05, 'epoch': 0.97}\n",
      "{'loss': 0.0705, 'grad_norm': 1.6513276100158691, 'learning_rate': 1.935876887416853e-05, 'epoch': 0.98}\n",
      "{'loss': 0.0612, 'grad_norm': 0.6449868679046631, 'learning_rate': 1.934475524429339e-05, 'epoch': 0.99}\n",
      "{'loss': 0.0651, 'grad_norm': 4.5855183601379395, 'learning_rate': 1.9330595320556286e-05, 'epoch': 1.0}\n",
      "{'loss': 0.0594, 'grad_norm': 0.7694848775863647, 'learning_rate': 1.931628932463342e-05, 'epoch': 1.01}\n"
     ]
    },
    {
     "data": {
      "application/vnd.jupyter.widget-view+json": {
       "model_id": "0a058dc88e294087accdfcccf725eb8b",
       "version_major": 2,
       "version_minor": 0
      },
      "text/plain": [
       "  0%|          | 0/5231 [00:00<?, ?it/s]"
      ]
     },
     "metadata": {},
     "output_type": "display_data"
    },
    {
     "name": "stdout",
     "output_type": "stream",
     "text": [
      "{'eval_loss': 0.06368669122457504, 'eval_precision': 0.9491478066499022, 'eval_recall': 0.9562383612662942, 'eval_f1': 0.9526798908412343, 'eval_accuracy': 0.9742252404763536, 'eval_runtime': 115.7649, 'eval_samples_per_second': 90.373, 'eval_steps_per_second': 45.186, 'epoch': 1.01}\n",
      "{'loss': 0.0579, 'grad_norm': 0.1237504705786705, 'learning_rate': 1.9301837480487794e-05, 'epoch': 1.02}\n",
      "{'loss': 0.0642, 'grad_norm': 0.04117631912231445, 'learning_rate': 1.9287240014365682e-05, 'epoch': 1.03}\n",
      "{'loss': 0.0586, 'grad_norm': 0.13211742043495178, 'learning_rate': 1.9272497154793107e-05, 'epoch': 1.04}\n",
      "{'loss': 0.0582, 'grad_norm': 0.1748940348625183, 'learning_rate': 1.925760913257224e-05, 'epoch': 1.05}\n",
      "{'loss': 0.0606, 'grad_norm': 39.33192825317383, 'learning_rate': 1.9242576180777816e-05, 'epoch': 1.06}\n",
      "{'loss': 0.061, 'grad_norm': 0.23406191170215607, 'learning_rate': 1.922739853475345e-05, 'epoch': 1.07}\n",
      "{'loss': 0.0631, 'grad_norm': 0.6728602051734924, 'learning_rate': 1.921207643210799e-05, 'epoch': 1.08}\n",
      "{'loss': 0.0631, 'grad_norm': 0.09198085963726044, 'learning_rate': 1.9196610112711763e-05, 'epoch': 1.09}\n",
      "{'loss': 0.0586, 'grad_norm': 0.14355973899364471, 'learning_rate': 1.918099981869285e-05, 'epoch': 1.1}\n",
      "{'loss': 0.0696, 'grad_norm': 1.8236976861953735, 'learning_rate': 1.9165245794433272e-05, 'epoch': 1.11}\n",
      "{'loss': 0.0541, 'grad_norm': 1.9647964239120483, 'learning_rate': 1.9149348286565176e-05, 'epoch': 1.12}\n",
      "{'loss': 0.0593, 'grad_norm': 7.009792327880859, 'learning_rate': 1.9133307543966976e-05, 'epoch': 1.13}\n",
      "{'loss': 0.0573, 'grad_norm': 0.35203006863594055, 'learning_rate': 1.9117123817759438e-05, 'epoch': 1.14}\n",
      "{'loss': 0.0627, 'grad_norm': 3.427802085876465, 'learning_rate': 1.910079736130178e-05, 'epoch': 1.15}\n",
      "{'loss': 0.0608, 'grad_norm': 0.03935401141643524, 'learning_rate': 1.9084328430187677e-05, 'epoch': 1.16}\n",
      "{'loss': 0.0526, 'grad_norm': 1.8918766975402832, 'learning_rate': 1.906771728224128e-05, 'epoch': 1.17}\n",
      "{'loss': 0.0685, 'grad_norm': 4.381317615509033, 'learning_rate': 1.9050964177513158e-05, 'epoch': 1.18}\n",
      "{'loss': 0.0597, 'grad_norm': 6.829092502593994, 'learning_rate': 1.903406937827625e-05, 'epoch': 1.19}\n",
      "{'loss': 0.06, 'grad_norm': 0.12611037492752075, 'learning_rate': 1.9017033149021747e-05, 'epoch': 1.2}\n",
      "{'loss': 0.0566, 'grad_norm': 0.6547554731369019, 'learning_rate': 1.8999855756454945e-05, 'epoch': 1.21}\n"
     ]
    },
    {
     "data": {
      "application/vnd.jupyter.widget-view+json": {
       "model_id": "87aec862e9094f1c81404be1d1dc33d9",
       "version_major": 2,
       "version_minor": 0
      },
      "text/plain": [
       "  0%|          | 0/5231 [00:00<?, ?it/s]"
      ]
     },
     "metadata": {},
     "output_type": "display_data"
    },
    {
     "name": "stdout",
     "output_type": "stream",
     "text": [
      "{'eval_loss': 0.06618363410234451, 'eval_precision': 0.9418158430699968, 'eval_recall': 0.9512580659131263, 'eval_f1': 0.9465134066597002, 'eval_accuracy': 0.9748612918693061, 'eval_runtime': 115.1996, 'eval_samples_per_second': 90.816, 'eval_steps_per_second': 45.408, 'epoch': 1.21}\n",
      "{'loss': 0.0544, 'grad_norm': 1.3672791719436646, 'learning_rate': 1.898253746949109e-05, 'epoch': 1.22}\n",
      "{'loss': 0.0531, 'grad_norm': 0.38981637358665466, 'learning_rate': 1.8965078559251144e-05, 'epoch': 1.23}\n",
      "{'loss': 0.0565, 'grad_norm': 0.31382498145103455, 'learning_rate': 1.8947479299057562e-05, 'epoch': 1.24}\n",
      "{'loss': 0.0633, 'grad_norm': 1.6281768083572388, 'learning_rate': 1.8929739964430002e-05, 'epoch': 1.25}\n",
      "{'loss': 0.0565, 'grad_norm': 1.1915013790130615, 'learning_rate': 1.8911860833081e-05, 'epoch': 1.26}\n",
      "{'loss': 0.059, 'grad_norm': 0.6666065454483032, 'learning_rate': 1.8893842184911656e-05, 'epoch': 1.27}\n",
      "{'loss': 0.0586, 'grad_norm': 0.3606112599372864, 'learning_rate': 1.8875684302007215e-05, 'epoch': 1.28}\n",
      "{'loss': 0.059, 'grad_norm': 0.3469669222831726, 'learning_rate': 1.8857387468632675e-05, 'epoch': 1.29}\n",
      "{'loss': 0.0583, 'grad_norm': 1.2483630180358887, 'learning_rate': 1.8838951971228326e-05, 'epoch': 1.3}\n",
      "{'loss': 0.0603, 'grad_norm': 0.7345355153083801, 'learning_rate': 1.8820378098405272e-05, 'epoch': 1.31}\n",
      "{'loss': 0.0655, 'grad_norm': 0.08073092252016068, 'learning_rate': 1.880166614094091e-05, 'epoch': 1.32}\n",
      "{'loss': 0.0636, 'grad_norm': 0.48128214478492737, 'learning_rate': 1.878281639177437e-05, 'epoch': 1.33}\n",
      "{'loss': 0.0617, 'grad_norm': 1.1331589221954346, 'learning_rate': 1.876382914600195e-05, 'epoch': 1.34}\n",
      "{'loss': 0.0534, 'grad_norm': 0.17978820204734802, 'learning_rate': 1.8744704700872463e-05, 'epoch': 1.35}\n",
      "{'loss': 0.0535, 'grad_norm': 0.0032248671632260084, 'learning_rate': 1.8725443355782623e-05, 'epoch': 1.36}\n",
      "{'loss': 0.0553, 'grad_norm': 0.6241465210914612, 'learning_rate': 1.870604541227233e-05, 'epoch': 1.37}\n",
      "{'loss': 0.0572, 'grad_norm': 0.5591604113578796, 'learning_rate': 1.8686511174019956e-05, 'epoch': 1.38}\n",
      "{'loss': 0.0592, 'grad_norm': 1.110936164855957, 'learning_rate': 1.866684094683759e-05, 'epoch': 1.39}\n",
      "{'loss': 0.0536, 'grad_norm': 0.2905728220939636, 'learning_rate': 1.864703503866626e-05, 'epoch': 1.4}\n",
      "{'loss': 0.0536, 'grad_norm': 0.12659408152103424, 'learning_rate': 1.86270937595711e-05, 'epoch': 1.41}\n"
     ]
    },
    {
     "data": {
      "application/vnd.jupyter.widget-view+json": {
       "model_id": "e8c868dffc794db5800cb2a0af77deb4",
       "version_major": 2,
       "version_minor": 0
      },
      "text/plain": [
       "  0%|          | 0/5231 [00:00<?, ?it/s]"
      ]
     },
     "metadata": {},
     "output_type": "display_data"
    },
    {
     "name": "stdout",
     "output_type": "stream",
     "text": [
      "{'eval_loss': 0.06276615709066391, 'eval_precision': 0.9535718893811019, 'eval_recall': 0.960179290632714, 'eval_f1': 0.9568641836778733, 'eval_accuracy': 0.9758148253250658, 'eval_runtime': 117.8153, 'eval_samples_per_second': 88.8, 'eval_steps_per_second': 44.4, 'epoch': 1.41}\n",
      "{'loss': 0.0644, 'grad_norm': 4.223626136779785, 'learning_rate': 1.86070174217365e-05, 'epoch': 1.42}\n",
      "{'loss': 0.052, 'grad_norm': 0.3895581364631653, 'learning_rate': 1.8586806339461226e-05, 'epoch': 1.43}\n",
      "{'loss': 0.0613, 'grad_norm': 3.3342690467834473, 'learning_rate': 1.8566460829153484e-05, 'epoch': 1.44}\n",
      "{'loss': 0.0573, 'grad_norm': 2.2596354484558105, 'learning_rate': 1.8545981209325975e-05, 'epoch': 1.45}\n",
      "{'loss': 0.0515, 'grad_norm': 0.03497320041060448, 'learning_rate': 1.8525367800590927e-05, 'epoch': 1.46}\n",
      "{'loss': 0.0581, 'grad_norm': 0.44642335176467896, 'learning_rate': 1.8504620925655034e-05, 'epoch': 1.47}\n",
      "{'loss': 0.0534, 'grad_norm': 1.838703989982605, 'learning_rate': 1.848374090931444e-05, 'epoch': 1.48}\n",
      "{'loss': 0.0659, 'grad_norm': 0.8276681900024414, 'learning_rate': 1.8462728078449642e-05, 'epoch': 1.49}\n",
      "{'loss': 0.0581, 'grad_norm': 0.13076001405715942, 'learning_rate': 1.8441582762020374e-05, 'epoch': 1.5}\n",
      "{'loss': 0.0574, 'grad_norm': 0.016017070040106773, 'learning_rate': 1.8420305291060457e-05, 'epoch': 1.51}\n",
      "{'loss': 0.0527, 'grad_norm': 0.08264867961406708, 'learning_rate': 1.83988959986726e-05, 'epoch': 1.52}\n",
      "{'loss': 0.0553, 'grad_norm': 1.1396942138671875, 'learning_rate': 1.8377355220023223e-05, 'epoch': 1.53}\n",
      "{'loss': 0.0601, 'grad_norm': 0.5216583013534546, 'learning_rate': 1.8355683292337174e-05, 'epoch': 1.54}\n",
      "{'loss': 0.0591, 'grad_norm': 0.4267539381980896, 'learning_rate': 1.8333880554892466e-05, 'epoch': 1.55}\n",
      "{'loss': 0.0613, 'grad_norm': 0.8250176906585693, 'learning_rate': 1.8311947349014968e-05, 'epoch': 1.56}\n",
      "{'loss': 0.0526, 'grad_norm': 1.3365695476531982, 'learning_rate': 1.8289884018073042e-05, 'epoch': 1.57}\n",
      "{'loss': 0.0545, 'grad_norm': 0.012489434331655502, 'learning_rate': 1.82676909074722e-05, 'epoch': 1.58}\n",
      "{'loss': 0.0601, 'grad_norm': 0.06656786054372787, 'learning_rate': 1.8245368364649675e-05, 'epoch': 1.59}\n",
      "{'loss': 0.06, 'grad_norm': 0.10892684012651443, 'learning_rate': 1.8222916739068964e-05, 'epoch': 1.6}\n",
      "{'loss': 0.0602, 'grad_norm': 0.25533512234687805, 'learning_rate': 1.8200336382214406e-05, 'epoch': 1.61}\n"
     ]
    },
    {
     "data": {
      "application/vnd.jupyter.widget-view+json": {
       "model_id": "be15f242e6d746758e701b3b23ce48c8",
       "version_major": 2,
       "version_minor": 0
      },
      "text/plain": [
       "  0%|          | 0/5231 [00:00<?, ?it/s]"
      ]
     },
     "metadata": {},
     "output_type": "display_data"
    },
    {
     "name": "stdout",
     "output_type": "stream",
     "text": [
      "{'eval_loss': 0.057655226439237595, 'eval_precision': 0.9506122623736941, 'eval_recall': 0.9615218050322637, 'eval_f1': 0.9560359118995845, 'eval_accuracy': 0.9765541671151644, 'eval_runtime': 133.5945, 'eval_samples_per_second': 78.312, 'eval_steps_per_second': 39.156, 'epoch': 1.61}\n",
      "{'loss': 0.0601, 'grad_norm': 0.010608909651637077, 'learning_rate': 1.8177627647585644e-05, 'epoch': 1.62}\n",
      "{'loss': 0.0611, 'grad_norm': 0.2352292686700821, 'learning_rate': 1.8154790890692082e-05, 'epoch': 1.63}\n",
      "{'loss': 0.0623, 'grad_norm': 0.12850069999694824, 'learning_rate': 1.813182646904736e-05, 'epoch': 1.64}\n",
      "{'loss': 0.0518, 'grad_norm': 0.6975209712982178, 'learning_rate': 1.8108734742163717e-05, 'epoch': 1.65}\n",
      "{'loss': 0.0554, 'grad_norm': 1.617117166519165, 'learning_rate': 1.8085516071546385e-05, 'epoch': 1.66}\n",
      "{'loss': 0.0555, 'grad_norm': 3.911933660507202, 'learning_rate': 1.8062170820687925e-05, 'epoch': 1.67}\n",
      "{'loss': 0.0566, 'grad_norm': 0.7514381408691406, 'learning_rate': 1.803869935506253e-05, 'epoch': 1.68}\n",
      "{'loss': 0.0601, 'grad_norm': 0.5553057789802551, 'learning_rate': 1.8015102042120314e-05, 'epoch': 1.69}\n",
      "{'loss': 0.0609, 'grad_norm': 0.9679089188575745, 'learning_rate': 1.799137925128155e-05, 'epoch': 1.7}\n",
      "{'loss': 0.057, 'grad_norm': 0.6990070343017578, 'learning_rate': 1.7967531353930893e-05, 'epoch': 1.71}\n",
      "{'loss': 0.059, 'grad_norm': 6.21815299987793, 'learning_rate': 1.7943558723411555e-05, 'epoch': 1.72}\n",
      "{'loss': 0.0584, 'grad_norm': 0.010804363526403904, 'learning_rate': 1.791946173501948e-05, 'epoch': 1.73}\n",
      "{'loss': 0.0559, 'grad_norm': 0.08292732387781143, 'learning_rate': 1.7895240765997455e-05, 'epoch': 1.74}\n",
      "{'loss': 0.0594, 'grad_norm': 5.852674961090088, 'learning_rate': 1.7870896195529205e-05, 'epoch': 1.75}\n",
      "{'loss': 0.0488, 'grad_norm': 0.12029404938220978, 'learning_rate': 1.7846428404733456e-05, 'epoch': 1.76}\n",
      "{'loss': 0.0665, 'grad_norm': 1.2031943798065186, 'learning_rate': 1.7821837776657968e-05, 'epoch': 1.77}\n",
      "{'loss': 0.0584, 'grad_norm': 3.2942585945129395, 'learning_rate': 1.7797124696273553e-05, 'epoch': 1.78}\n",
      "{'loss': 0.0544, 'grad_norm': 0.19726082682609558, 'learning_rate': 1.7772289550468033e-05, 'epoch': 1.79}\n",
      "{'loss': 0.0677, 'grad_norm': 0.9278544187545776, 'learning_rate': 1.774733272804017e-05, 'epoch': 1.8}\n",
      "{'loss': 0.0614, 'grad_norm': 0.023702062666416168, 'learning_rate': 1.772225461969362e-05, 'epoch': 1.81}\n"
     ]
    },
    {
     "data": {
      "application/vnd.jupyter.widget-view+json": {
       "model_id": "5c636b5dbb414b079b1120a1449c6855",
       "version_major": 2,
       "version_minor": 0
      },
      "text/plain": [
       "  0%|          | 0/5231 [00:00<?, ?it/s]"
      ]
     },
     "metadata": {},
     "output_type": "display_data"
    },
    {
     "name": "stdout",
     "output_type": "stream",
     "text": [
      "{'eval_loss': 0.05409751087427139, 'eval_precision': 0.9545834136313998, 'eval_recall': 0.9653111601922827, 'eval_f1': 0.959917315332192, 'eval_accuracy': 0.978313365668664, 'eval_runtime': 119.6884, 'eval_samples_per_second': 87.41, 'eval_steps_per_second': 43.705, 'epoch': 1.81}\n",
      "{'loss': 0.059, 'grad_norm': 2.4024038314819336, 'learning_rate': 1.7697055618030777e-05, 'epoch': 1.82}\n",
      "{'loss': 0.0562, 'grad_norm': 0.2219988852739334, 'learning_rate': 1.7671736117546646e-05, 'epoch': 1.83}\n",
      "{'loss': 0.0568, 'grad_norm': 0.11984561383724213, 'learning_rate': 1.7646296514622666e-05, 'epoch': 1.84}\n",
      "{'loss': 0.0559, 'grad_norm': 0.06376011669635773, 'learning_rate': 1.76207372075205e-05, 'epoch': 1.85}\n",
      "{'loss': 0.061, 'grad_norm': 0.15386025607585907, 'learning_rate': 1.75950585963758e-05, 'epoch': 1.86}\n",
      "{'loss': 0.0606, 'grad_norm': 0.6123985052108765, 'learning_rate': 1.7569261083191942e-05, 'epoch': 1.87}\n",
      "{'loss': 0.0495, 'grad_norm': 0.33027884364128113, 'learning_rate': 1.7543345071833745e-05, 'epoch': 1.88}\n",
      "{'loss': 0.0568, 'grad_norm': 0.4717819094657898, 'learning_rate': 1.751731096802113e-05, 'epoch': 1.89}\n",
      "{'loss': 0.0584, 'grad_norm': 0.6905027627944946, 'learning_rate': 1.7491159179322785e-05, 'epoch': 1.9}\n",
      "{'loss': 0.0607, 'grad_norm': 0.4227207899093628, 'learning_rate': 1.746489011514976e-05, 'epoch': 1.91}\n",
      "{'loss': 0.0579, 'grad_norm': 0.18177515268325806, 'learning_rate': 1.7438504186749105e-05, 'epoch': 1.92}\n",
      "{'loss': 0.0537, 'grad_norm': 0.11939484626054764, 'learning_rate': 1.7412001807197362e-05, 'epoch': 1.93}\n",
      "{'loss': 0.054, 'grad_norm': 1.1362090110778809, 'learning_rate': 1.7385383391394174e-05, 'epoch': 1.94}\n",
      "{'loss': 0.0511, 'grad_norm': 0.042558711022138596, 'learning_rate': 1.735864935605572e-05, 'epoch': 1.95}\n",
      "{'loss': 0.0591, 'grad_norm': 1.798276662826538, 'learning_rate': 1.733180011970825e-05, 'epoch': 1.96}\n",
      "{'loss': 0.0561, 'grad_norm': 1.1523404121398926, 'learning_rate': 1.7304836102681494e-05, 'epoch': 1.97}\n",
      "{'loss': 0.0552, 'grad_norm': 3.467097759246826, 'learning_rate': 1.72777577271021e-05, 'epoch': 1.98}\n",
      "{'loss': 0.0626, 'grad_norm': 0.1300015151500702, 'learning_rate': 1.7250565416887016e-05, 'epoch': 1.99}\n",
      "{'loss': 0.0512, 'grad_norm': 0.8022062182426453, 'learning_rate': 1.7223259597736863e-05, 'epoch': 2.0}\n",
      "{'loss': 0.0513, 'grad_norm': 0.2085297405719757, 'learning_rate': 1.7195840697129252e-05, 'epoch': 2.01}\n"
     ]
    },
    {
     "data": {
      "application/vnd.jupyter.widget-view+json": {
       "model_id": "0485bd984e1d4aeda3b8067c43e7a0c5",
       "version_major": 2,
       "version_minor": 0
      },
      "text/plain": [
       "  0%|          | 0/5231 [00:00<?, ?it/s]"
      ]
     },
     "metadata": {},
     "output_type": "display_data"
    },
    {
     "name": "stdout",
     "output_type": "stream",
     "text": [
      "{'eval_loss': 0.057407550513744354, 'eval_precision': 0.9546981660995912, 'eval_recall': 0.9660473777662293, 'eval_f1': 0.9603392420866833, 'eval_accuracy': 0.9789700751410457, 'eval_runtime': 125.2994, 'eval_samples_per_second': 83.496, 'eval_steps_per_second': 41.748, 'epoch': 2.01}\n",
      "{'loss': 0.0481, 'grad_norm': 11.530097007751465, 'learning_rate': 1.716830914431212e-05, 'epoch': 2.02}\n",
      "{'loss': 0.0481, 'grad_norm': 0.7588798999786377, 'learning_rate': 1.7140665370296995e-05, 'epoch': 2.03}\n",
      "{'loss': 0.0515, 'grad_norm': 0.036355309188365936, 'learning_rate': 1.7112909807852237e-05, 'epoch': 2.04}\n",
      "{'loss': 0.0506, 'grad_norm': 0.41374635696411133, 'learning_rate': 1.7085042891496283e-05, 'epoch': 2.05}\n",
      "{'loss': 0.049, 'grad_norm': 4.579037189483643, 'learning_rate': 1.705706505749083e-05, 'epoch': 2.06}\n",
      "{'loss': 0.0515, 'grad_norm': 0.03868299350142479, 'learning_rate': 1.702897674383402e-05, 'epoch': 2.07}\n",
      "{'loss': 0.043, 'grad_norm': 0.7039440274238586, 'learning_rate': 1.7000778390253566e-05, 'epoch': 2.08}\n",
      "{'loss': 0.0424, 'grad_norm': 0.14683157205581665, 'learning_rate': 1.6972470438199883e-05, 'epoch': 2.09}\n",
      "{'loss': 0.0608, 'grad_norm': 0.07006312906742096, 'learning_rate': 1.6944053330839164e-05, 'epoch': 2.1}\n",
      "{'loss': 0.0504, 'grad_norm': 0.4384790360927582, 'learning_rate': 1.6915527513046445e-05, 'epoch': 2.11}\n",
      "{'loss': 0.0453, 'grad_norm': 10.177322387695312, 'learning_rate': 1.6886893431398664e-05, 'epoch': 2.12}\n",
      "{'loss': 0.0604, 'grad_norm': 0.16105788946151733, 'learning_rate': 1.685815153416762e-05, 'epoch': 2.13}\n",
      "{'loss': 0.0463, 'grad_norm': 0.9162798523902893, 'learning_rate': 1.6829302271313012e-05, 'epoch': 2.14}\n",
      "{'loss': 0.058, 'grad_norm': 0.057976823300123215, 'learning_rate': 1.680034609447535e-05, 'epoch': 2.15}\n",
      "{'loss': 0.0501, 'grad_norm': 0.06040199100971222, 'learning_rate': 1.6771283456968905e-05, 'epoch': 2.16}\n",
      "{'loss': 0.0437, 'grad_norm': 7.14817476272583, 'learning_rate': 1.674211481377462e-05, 'epoch': 2.17}\n",
      "{'loss': 0.053, 'grad_norm': 0.0430317223072052, 'learning_rate': 1.6712840621532963e-05, 'epoch': 2.18}\n",
      "{'loss': 0.0546, 'grad_norm': 0.28557559847831726, 'learning_rate': 1.66834613385368e-05, 'epoch': 2.19}\n",
      "{'loss': 0.0539, 'grad_norm': 0.07757266610860825, 'learning_rate': 1.6653977424724208e-05, 'epoch': 2.2}\n",
      "{'loss': 0.0511, 'grad_norm': 0.08897937089204788, 'learning_rate': 1.662438934167128e-05, 'epoch': 2.21}\n"
     ]
    },
    {
     "data": {
      "application/vnd.jupyter.widget-view+json": {
       "model_id": "5b835d2a17724bf0a0c8bcd435587877",
       "version_major": 2,
       "version_minor": 0
      },
      "text/plain": [
       "  0%|          | 0/5231 [00:00<?, ?it/s]"
      ]
     },
     "metadata": {},
     "output_type": "display_data"
    },
    {
     "name": "stdout",
     "output_type": "stream",
     "text": [
      "{'eval_loss': 0.05541947856545448, 'eval_precision': 0.9578723951633651, 'eval_recall': 0.9674548525399507, 'eval_f1': 0.9626397776485036, 'eval_accuracy': 0.9799899319044466, 'eval_runtime': 127.2312, 'eval_samples_per_second': 82.228, 'eval_steps_per_second': 41.114, 'epoch': 2.21}\n",
      "{'loss': 0.0453, 'grad_norm': 0.03866755962371826, 'learning_rate': 1.65946975525849e-05, 'epoch': 2.22}\n",
      "{'loss': 0.0461, 'grad_norm': 0.2330390065908432, 'learning_rate': 1.6564902522295484e-05, 'epoch': 2.23}\n",
      "{'loss': 0.0479, 'grad_norm': 1.5314092636108398, 'learning_rate': 1.6535004717249713e-05, 'epoch': 2.24}\n",
      "{'loss': 0.0472, 'grad_norm': 9.29635238647461, 'learning_rate': 1.6505004605503227e-05, 'epoch': 2.25}\n",
      "{'loss': 0.053, 'grad_norm': 0.6148428916931152, 'learning_rate': 1.647490265671328e-05, 'epoch': 2.26}\n",
      "{'loss': 0.0586, 'grad_norm': 0.5604026317596436, 'learning_rate': 1.644469934213143e-05, 'epoch': 2.27}\n",
      "{'loss': 0.0461, 'grad_norm': 1.8269143104553223, 'learning_rate': 1.641439513459612e-05, 'epoch': 2.28}\n",
      "{'loss': 0.0592, 'grad_norm': 4.924499034881592, 'learning_rate': 1.6383990508525283e-05, 'epoch': 2.29}\n",
      "{'loss': 0.0433, 'grad_norm': 1.7688230276107788, 'learning_rate': 1.635348593990894e-05, 'epoch': 2.3}\n",
      "{'loss': 0.0425, 'grad_norm': 0.9814755916595459, 'learning_rate': 1.6322881906301724e-05, 'epoch': 2.31}\n",
      "{'loss': 0.0539, 'grad_norm': 0.008907953277230263, 'learning_rate': 1.62921788868154e-05, 'epoch': 2.32}\n",
      "{'loss': 0.0508, 'grad_norm': 0.004447124898433685, 'learning_rate': 1.6261377362111396e-05, 'epoch': 2.33}\n",
      "{'loss': 0.0447, 'grad_norm': 0.5777731537818909, 'learning_rate': 1.623047781439324e-05, 'epoch': 2.34}\n",
      "{'loss': 0.0489, 'grad_norm': 0.8226629495620728, 'learning_rate': 1.6199480727399035e-05, 'epoch': 2.35}\n",
      "{'loss': 0.0438, 'grad_norm': 0.49304813146591187, 'learning_rate': 1.616838658639388e-05, 'epoch': 2.36}\n",
      "{'loss': 0.0575, 'grad_norm': 0.18458816409111023, 'learning_rate': 1.6137195878162267e-05, 'epoch': 2.37}\n",
      "{'loss': 0.0449, 'grad_norm': 0.680635929107666, 'learning_rate': 1.610590909100048e-05, 'epoch': 2.38}\n",
      "{'loss': 0.0513, 'grad_norm': 0.06665246933698654, 'learning_rate': 1.6074526714708913e-05, 'epoch': 2.39}\n",
      "{'loss': 0.0495, 'grad_norm': 0.04653969779610634, 'learning_rate': 1.6043049240584445e-05, 'epoch': 2.4}\n",
      "{'loss': 0.0423, 'grad_norm': 0.13369226455688477, 'learning_rate': 1.6011477161412724e-05, 'epoch': 2.41}\n"
     ]
    },
    {
     "data": {
      "application/vnd.jupyter.widget-view+json": {
       "model_id": "802dfbb9e7d143d5a19e74271a066272",
       "version_major": 2,
       "version_minor": 0
      },
      "text/plain": [
       "  0%|          | 0/5231 [00:00<?, ?it/s]"
      ]
     },
     "metadata": {},
     "output_type": "display_data"
    },
    {
     "name": "stdout",
     "output_type": "stream",
     "text": [
      "{'eval_loss': 0.057794954627752304, 'eval_precision': 0.9610776517993013, 'eval_recall': 0.9709627127452254, 'eval_f1': 0.9659948943870571, 'eval_accuracy': 0.9813870704342654, 'eval_runtime': 116.8732, 'eval_samples_per_second': 89.516, 'eval_steps_per_second': 44.758, 'epoch': 2.41}\n",
      "{'loss': 0.0456, 'grad_norm': 0.11530005931854248, 'learning_rate': 1.597981097146045e-05, 'epoch': 2.42}\n",
      "{'loss': 0.0505, 'grad_norm': 0.1467033177614212, 'learning_rate': 1.594805116646766e-05, 'epoch': 2.43}\n",
      "{'loss': 0.0527, 'grad_norm': 0.5925514101982117, 'learning_rate': 1.5916198243639933e-05, 'epoch': 2.45}\n",
      "{'loss': 0.0462, 'grad_norm': 1.0280697345733643, 'learning_rate': 1.5884252701640638e-05, 'epoch': 2.46}\n",
      "{'loss': 0.0553, 'grad_norm': 0.08197945356369019, 'learning_rate': 1.585221504058311e-05, 'epoch': 2.47}\n",
      "{'loss': 0.052, 'grad_norm': 0.44093215465545654, 'learning_rate': 1.5820085762022827e-05, 'epoch': 2.48}\n",
      "{'loss': 0.049, 'grad_norm': 0.6636143922805786, 'learning_rate': 1.578786536894955e-05, 'epoch': 2.49}\n",
      "{'loss': 0.0424, 'grad_norm': 0.34744295477867126, 'learning_rate': 1.5755554365779458e-05, 'epoch': 2.5}\n",
      "{'loss': 0.0471, 'grad_norm': 10.59044361114502, 'learning_rate': 1.572315325834725e-05, 'epoch': 2.51}\n",
      "{'loss': 0.0449, 'grad_norm': 0.3427976369857788, 'learning_rate': 1.5690662553898224e-05, 'epoch': 2.52}\n",
      "{'loss': 0.0362, 'grad_norm': 0.001957370201125741, 'learning_rate': 1.5658082761080332e-05, 'epoch': 2.53}\n",
      "{'loss': 0.0404, 'grad_norm': 0.25210198760032654, 'learning_rate': 1.562541438993622e-05, 'epoch': 2.54}\n",
      "{'loss': 0.0494, 'grad_norm': 0.12306351959705353, 'learning_rate': 1.559265795189525e-05, 'epoch': 2.55}\n",
      "{'loss': 0.0559, 'grad_norm': 7.288056373596191, 'learning_rate': 1.5559813959765482e-05, 'epoch': 2.56}\n",
      "{'loss': 0.0464, 'grad_norm': 0.21299926936626434, 'learning_rate': 1.5526882927725652e-05, 'epoch': 2.57}\n",
      "{'loss': 0.0372, 'grad_norm': 5.460788726806641, 'learning_rate': 1.5493865371317125e-05, 'epoch': 2.58}\n",
      "{'loss': 0.0456, 'grad_norm': 7.288541793823242, 'learning_rate': 1.5460761807435817e-05, 'epoch': 2.59}\n",
      "{'loss': 0.0474, 'grad_norm': 35.25191879272461, 'learning_rate': 1.542757275432411e-05, 'epoch': 2.6}\n",
      "{'loss': 0.0403, 'grad_norm': 1.423039197921753, 'learning_rate': 1.5394298731562736e-05, 'epoch': 2.61}\n",
      "{'loss': 0.0506, 'grad_norm': 0.27273109555244446, 'learning_rate': 1.536094026006264e-05, 'epoch': 2.62}\n"
     ]
    },
    {
     "data": {
      "application/vnd.jupyter.widget-view+json": {
       "model_id": "c657eaf9b9ba4eaeb3d6e544306ec26a",
       "version_major": 2,
       "version_minor": 0
      },
      "text/plain": [
       "  0%|          | 0/5231 [00:00<?, ?it/s]"
      ]
     },
     "metadata": {},
     "output_type": "display_data"
    },
    {
     "name": "stdout",
     "output_type": "stream",
     "text": [
      "{'eval_loss': 0.04991332069039345, 'eval_precision': 0.9600188752091288, 'eval_recall': 0.9691654757264735, 'eval_f1': 0.9645704926511789, 'eval_accuracy': 0.9821405466997631, 'eval_runtime': 135.1289, 'eval_samples_per_second': 77.422, 'eval_steps_per_second': 38.711, 'epoch': 2.62}\n",
      "{'loss': 0.0488, 'grad_norm': 9.42935562133789, 'learning_rate': 1.5327497862056825e-05, 'epoch': 2.63}\n",
      "{'loss': 0.0434, 'grad_norm': 0.976401686668396, 'learning_rate': 1.5293972061092187e-05, 'epoch': 2.64}\n",
      "{'loss': 0.0548, 'grad_norm': 0.27260997891426086, 'learning_rate': 1.52603633820213e-05, 'epoch': 2.65}\n",
      "{'loss': 0.0498, 'grad_norm': 0.5080810189247131, 'learning_rate': 1.5226672350994222e-05, 'epoch': 2.66}\n",
      "{'loss': 0.0553, 'grad_norm': 3.9507596492767334, 'learning_rate': 1.5192899495450237e-05, 'epoch': 2.67}\n",
      "{'loss': 0.0516, 'grad_norm': 0.31694746017456055, 'learning_rate': 1.5159045344109613e-05, 'epoch': 2.68}\n",
      "{'loss': 0.0456, 'grad_norm': 0.02705240435898304, 'learning_rate': 1.512511042696531e-05, 'epoch': 2.69}\n",
      "{'loss': 0.0442, 'grad_norm': 2.2367796897888184, 'learning_rate': 1.5091095275274701e-05, 'epoch': 2.7}\n",
      "{'loss': 0.0494, 'grad_norm': 0.08043534308671951, 'learning_rate': 1.505700042155124e-05, 'epoch': 2.71}\n",
      "{'loss': 0.0434, 'grad_norm': 0.24060240387916565, 'learning_rate': 1.5022826399556135e-05, 'epoch': 2.72}\n",
      "{'loss': 0.0393, 'grad_norm': 3.1080880165100098, 'learning_rate': 1.498857374428998e-05, 'epoch': 2.73}\n",
      "{'loss': 0.048, 'grad_norm': 0.23403318226337433, 'learning_rate': 1.4954242991984398e-05, 'epoch': 2.74}\n",
      "{'loss': 0.0387, 'grad_norm': 0.6134685277938843, 'learning_rate': 1.4919834680093628e-05, 'epoch': 2.75}\n",
      "{'loss': 0.0453, 'grad_norm': 0.022180188447237015, 'learning_rate': 1.4885349347286118e-05, 'epoch': 2.76}\n",
      "{'loss': 0.0457, 'grad_norm': 3.4594454765319824, 'learning_rate': 1.4850787533436101e-05, 'epoch': 2.77}\n",
      "{'loss': 0.049, 'grad_norm': 1.7389971017837524, 'learning_rate': 1.4816149779615128e-05, 'epoch': 2.78}\n",
      "{'loss': 0.0532, 'grad_norm': 0.3435394763946533, 'learning_rate': 1.4781436628083601e-05, 'epoch': 2.79}\n",
      "{'loss': 0.042, 'grad_norm': 0.11857691407203674, 'learning_rate': 1.4746648622282294e-05, 'epoch': 2.8}\n",
      "{'loss': 0.0442, 'grad_norm': 3.1917288303375244, 'learning_rate': 1.4711786306823838e-05, 'epoch': 2.81}\n",
      "{'loss': 0.0482, 'grad_norm': 0.5426455140113831, 'learning_rate': 1.4676850227484191e-05, 'epoch': 2.82}\n"
     ]
    },
    {
     "data": {
      "application/vnd.jupyter.widget-view+json": {
       "model_id": "6fd89e9365fe423da3cba57fbb313afe",
       "version_major": 2,
       "version_minor": 0
      },
      "text/plain": [
       "  0%|          | 0/5231 [00:00<?, ?it/s]"
      ]
     },
     "metadata": {},
     "output_type": "display_data"
    },
    {
     "name": "stdout",
     "output_type": "stream",
     "text": [
      "{'eval_loss': 0.04634736850857735, 'eval_precision': 0.9666164766616476, 'eval_recall': 0.9730630981767788, 'eval_f1': 0.9698290745856353, 'eval_accuracy': 0.9835083290114457, 'eval_runtime': 120.6187, 'eval_samples_per_second': 86.736, 'eval_steps_per_second': 43.368, 'epoch': 2.82}\n",
      "{'loss': 0.0431, 'grad_norm': 0.9072665572166443, 'learning_rate': 1.46418409311941e-05, 'epoch': 2.83}\n",
      "{'loss': 0.0459, 'grad_norm': 0.2188379317522049, 'learning_rate': 1.4606758966030536e-05, 'epoch': 2.84}\n",
      "{'loss': 0.0463, 'grad_norm': 3.430931806564331, 'learning_rate': 1.4571604881208118e-05, 'epoch': 2.85}\n",
      "{'loss': 0.0517, 'grad_norm': 0.2015545666217804, 'learning_rate': 1.453637922707051e-05, 'epoch': 2.86}\n",
      "{'loss': 0.0484, 'grad_norm': 0.6365119218826294, 'learning_rate': 1.4501082555081802e-05, 'epoch': 2.87}\n",
      "{'loss': 0.0397, 'grad_norm': 0.017021188512444496, 'learning_rate': 1.4465715417817889e-05, 'epoch': 2.88}\n",
      "{'loss': 0.0459, 'grad_norm': 0.10542774200439453, 'learning_rate': 1.4430278368957809e-05, 'epoch': 2.89}\n",
      "{'loss': 0.045, 'grad_norm': 0.0017005105037242174, 'learning_rate': 1.4394771963275079e-05, 'epoch': 2.9}\n",
      "{'loss': 0.0393, 'grad_norm': 0.037161920219659805, 'learning_rate': 1.4359196756629006e-05, 'epoch': 2.91}\n",
      "{'loss': 0.0486, 'grad_norm': 0.47353607416152954, 'learning_rate': 1.4323553305956e-05, 'epoch': 2.92}\n",
      "{'loss': 0.046, 'grad_norm': 1.156104564666748, 'learning_rate': 1.4287842169260827e-05, 'epoch': 2.93}\n",
      "{'loss': 0.0413, 'grad_norm': 0.7348589897155762, 'learning_rate': 1.425206390560791e-05, 'epoch': 2.94}\n",
      "{'loss': 0.0441, 'grad_norm': 9.579811096191406, 'learning_rate': 1.4216219075112542e-05, 'epoch': 2.95}\n",
      "{'loss': 0.0472, 'grad_norm': 1.723067283630371, 'learning_rate': 1.4180308238932137e-05, 'epoch': 2.96}\n",
      "{'loss': 0.0435, 'grad_norm': 0.00620484771206975, 'learning_rate': 1.4144331959257438e-05, 'epoch': 2.97}\n",
      "{'loss': 0.0531, 'grad_norm': 0.6229153871536255, 'learning_rate': 1.4108290799303721e-05, 'epoch': 2.98}\n",
      "{'loss': 0.0387, 'grad_norm': 0.2668023109436035, 'learning_rate': 1.4072185323301977e-05, 'epoch': 2.99}\n",
      "{'loss': 0.0442, 'grad_norm': 6.254310607910156, 'learning_rate': 1.4036016096490066e-05, 'epoch': 3.0}\n",
      "{'loss': 0.0318, 'grad_norm': 0.4854004383087158, 'learning_rate': 1.3999783685103893e-05, 'epoch': 3.01}\n",
      "{'loss': 0.0401, 'grad_norm': 0.08107570558786392, 'learning_rate': 1.3963488656368518e-05, 'epoch': 3.02}\n"
     ]
    },
    {
     "data": {
      "application/vnd.jupyter.widget-view+json": {
       "model_id": "e2a37668a0d0408bba0373f9353be40a",
       "version_major": 2,
       "version_minor": 0
      },
      "text/plain": [
       "  0%|          | 0/5231 [00:00<?, ?it/s]"
      ]
     },
     "metadata": {},
     "output_type": "display_data"
    },
    {
     "name": "stdout",
     "output_type": "stream",
     "text": [
      "{'eval_loss': 0.05119127407670021, 'eval_precision': 0.9669659969420936, 'eval_recall': 0.9723052271447751, 'eval_f1': 0.969628262019672, 'eval_accuracy': 0.9845118767647708, 'eval_runtime': 118.8262, 'eval_samples_per_second': 88.045, 'eval_steps_per_second': 44.022, 'epoch': 3.02}\n",
      "{'loss': 0.0356, 'grad_norm': 0.348777174949646, 'learning_rate': 1.3927131578489292e-05, 'epoch': 3.03}\n",
      "{'loss': 0.0411, 'grad_norm': 5.423452854156494, 'learning_rate': 1.3890713020642951e-05, 'epoch': 3.04}\n",
      "{'loss': 0.0423, 'grad_norm': 0.4425978660583496, 'learning_rate': 1.3854233552968726e-05, 'epoch': 3.05}\n",
      "{'loss': 0.0334, 'grad_norm': 0.33797186613082886, 'learning_rate': 1.3817693746559382e-05, 'epoch': 3.06}\n",
      "{'loss': 0.0413, 'grad_norm': 0.07983748614788055, 'learning_rate': 1.3781094173452316e-05, 'epoch': 3.07}\n",
      "{'loss': 0.0421, 'grad_norm': 0.5914078950881958, 'learning_rate': 1.3744435406620571e-05, 'epoch': 3.08}\n",
      "{'loss': 0.0306, 'grad_norm': 1.0687031745910645, 'learning_rate': 1.3707718019963887e-05, 'epoch': 3.09}\n",
      "{'loss': 0.0404, 'grad_norm': 15.549293518066406, 'learning_rate': 1.3670942588299708e-05, 'epoch': 3.1}\n",
      "{'loss': 0.0363, 'grad_norm': 0.0026457200292497873, 'learning_rate': 1.3634109687354169e-05, 'epoch': 3.11}\n",
      "{'loss': 0.0311, 'grad_norm': 0.005369649268686771, 'learning_rate': 1.3597219893753119e-05, 'epoch': 3.12}\n",
      "{'loss': 0.0399, 'grad_norm': 0.04743495583534241, 'learning_rate': 1.3560273785013057e-05, 'epoch': 3.13}\n",
      "{'loss': 0.042, 'grad_norm': 0.04425980523228645, 'learning_rate': 1.3523271939532112e-05, 'epoch': 3.14}\n",
      "{'loss': 0.036, 'grad_norm': 4.803664207458496, 'learning_rate': 1.3486214936580977e-05, 'epoch': 3.15}\n",
      "{'loss': 0.0419, 'grad_norm': 0.0777648538351059, 'learning_rate': 1.3449103356293853e-05, 'epoch': 3.16}\n",
      "{'loss': 0.0299, 'grad_norm': 0.006348988972604275, 'learning_rate': 1.341193777965935e-05, 'epoch': 3.17}\n",
      "{'loss': 0.029, 'grad_norm': 0.9489040970802307, 'learning_rate': 1.3374718788511412e-05, 'epoch': 3.18}\n",
      "{'loss': 0.0362, 'grad_norm': 8.810626983642578, 'learning_rate': 1.3337446965520183e-05, 'epoch': 3.19}\n",
      "{'loss': 0.0343, 'grad_norm': 0.04079609364271164, 'learning_rate': 1.330012289418291e-05, 'epoch': 3.2}\n",
      "{'loss': 0.0365, 'grad_norm': 0.1025942787528038, 'learning_rate': 1.3262747158814791e-05, 'epoch': 3.21}\n",
      "{'loss': 0.0375, 'grad_norm': 0.8892359733581543, 'learning_rate': 1.3225320344539845e-05, 'epoch': 3.22}\n"
     ]
    },
    {
     "data": {
      "application/vnd.jupyter.widget-view+json": {
       "model_id": "10146aa6dc4947579522a3b773fcb7d7",
       "version_major": 2,
       "version_minor": 0
      },
      "text/plain": [
       "  0%|          | 0/5231 [00:00<?, ?it/s]"
      ]
     },
     "metadata": {},
     "output_type": "display_data"
    },
    {
     "name": "stdout",
     "output_type": "stream",
     "text": [
      "{'eval_loss': 0.04428469017148018, 'eval_precision': 0.9678015250778649, 'eval_recall': 0.9756182062275346, 'eval_f1': 0.9716941458101945, 'eval_accuracy': 0.9853751670314449, 'eval_runtime': 116.6807, 'eval_samples_per_second': 89.663, 'eval_steps_per_second': 44.832, 'epoch': 3.22}\n",
      "{'loss': 0.0329, 'grad_norm': 0.05782166123390198, 'learning_rate': 1.3187843037281725e-05, 'epoch': 3.23}\n",
      "{'loss': 0.0389, 'grad_norm': 0.1334911584854126, 'learning_rate': 1.3150315823754572e-05, 'epoch': 3.24}\n",
      "{'loss': 0.0328, 'grad_norm': 0.03711235150694847, 'learning_rate': 1.3112739291453812e-05, 'epoch': 3.25}\n",
      "{'loss': 0.0325, 'grad_norm': 0.012754647061228752, 'learning_rate': 1.3075114028646976e-05, 'epoch': 3.26}\n",
      "{'loss': 0.0411, 'grad_norm': 0.02883356809616089, 'learning_rate': 1.3037440624364468e-05, 'epoch': 3.27}\n",
      "{'loss': 0.0342, 'grad_norm': 0.04014752060174942, 'learning_rate': 1.299971966839036e-05, 'epoch': 3.28}\n",
      "{'loss': 0.0362, 'grad_norm': 0.7619212865829468, 'learning_rate': 1.2961951751253158e-05, 'epoch': 3.29}\n",
      "{'loss': 0.0271, 'grad_norm': 0.04324999451637268, 'learning_rate': 1.292413746421655e-05, 'epoch': 3.3}\n",
      "{'loss': 0.0342, 'grad_norm': 4.746636867523193, 'learning_rate': 1.2886277399270153e-05, 'epoch': 3.31}\n",
      "{'loss': 0.0326, 'grad_norm': 0.337188184261322, 'learning_rate': 1.2848372149120248e-05, 'epoch': 3.32}\n",
      "{'loss': 0.0331, 'grad_norm': 0.023618068546056747, 'learning_rate': 1.2810422307180497e-05, 'epoch': 3.33}\n",
      "{'loss': 0.0377, 'grad_norm': 0.06277861446142197, 'learning_rate': 1.2772428467562653e-05, 'epoch': 3.34}\n",
      "{'loss': 0.0273, 'grad_norm': 0.06795718520879745, 'learning_rate': 1.2734391225067264e-05, 'epoch': 3.35}\n",
      "{'loss': 0.0395, 'grad_norm': 0.013447177596390247, 'learning_rate': 1.2696311175174358e-05, 'epoch': 3.36}\n",
      "{'loss': 0.0293, 'grad_norm': 0.24487446248531342, 'learning_rate': 1.265818891403412e-05, 'epoch': 3.37}\n",
      "{'loss': 0.0315, 'grad_norm': 0.02011081576347351, 'learning_rate': 1.2620025038457555e-05, 'epoch': 3.38}\n",
      "{'loss': 0.0311, 'grad_norm': 0.0017861773958429694, 'learning_rate': 1.258182014590716e-05, 'epoch': 3.39}\n",
      "{'loss': 0.0339, 'grad_norm': 7.942133903503418, 'learning_rate': 1.2543574834487551e-05, 'epoch': 3.4}\n",
      "{'loss': 0.0397, 'grad_norm': 0.10868243873119354, 'learning_rate': 1.2505289702936109e-05, 'epoch': 3.41}\n",
      "{'loss': 0.0378, 'grad_norm': 0.09905017912387848, 'learning_rate': 1.2466965350613615e-05, 'epoch': 3.42}\n"
     ]
    },
    {
     "data": {
      "application/vnd.jupyter.widget-view+json": {
       "model_id": "cd859a8899a648979fb5859854f22d3e",
       "version_major": 2,
       "version_minor": 0
      },
      "text/plain": [
       "  0%|          | 0/5231 [00:00<?, ?it/s]"
      ]
     },
     "metadata": {},
     "output_type": "display_data"
    },
    {
     "name": "stdout",
     "output_type": "stream",
     "text": [
      "{'eval_loss': 0.05166586861014366, 'eval_precision': 0.9695293839168514, 'eval_recall': 0.9755965527694773, 'eval_f1': 0.9725535060926253, 'eval_accuracy': 0.9855828350930755, 'eval_runtime': 115.0535, 'eval_samples_per_second': 90.932, 'eval_steps_per_second': 45.466, 'epoch': 3.42}\n",
      "{'loss': 0.0325, 'grad_norm': 0.20835472643375397, 'learning_rate': 1.2428602377494851e-05, 'epoch': 3.43}\n",
      "{'loss': 0.0347, 'grad_norm': 0.9957342743873596, 'learning_rate': 1.239020138415922e-05, 'epoch': 3.44}\n",
      "{'loss': 0.0298, 'grad_norm': 0.1924087554216385, 'learning_rate': 1.2351762971781324e-05, 'epoch': 3.45}\n",
      "{'loss': 0.0324, 'grad_norm': 16.123960494995117, 'learning_rate': 1.2313287742121592e-05, 'epoch': 3.46}\n",
      "{'loss': 0.0318, 'grad_norm': 0.015086277388036251, 'learning_rate': 1.227477629751681e-05, 'epoch': 3.47}\n",
      "{'loss': 0.0229, 'grad_norm': 0.4036799669265747, 'learning_rate': 1.2236229240870731e-05, 'epoch': 3.48}\n",
      "{'loss': 0.025, 'grad_norm': 4.308757781982422, 'learning_rate': 1.2197647175644618e-05, 'epoch': 3.49}\n",
      "{'loss': 0.034, 'grad_norm': 0.029198115691542625, 'learning_rate': 1.2159030705847792e-05, 'epoch': 3.5}\n",
      "{'loss': 0.0296, 'grad_norm': 0.0005432601901702583, 'learning_rate': 1.2120380436028194e-05, 'epoch': 3.51}\n",
      "{'loss': 0.037, 'grad_norm': 0.14850781857967377, 'learning_rate': 1.2081696971262905e-05, 'epoch': 3.52}\n",
      "{'loss': 0.0328, 'grad_norm': 0.18234863877296448, 'learning_rate': 1.204298091714868e-05, 'epoch': 3.53}\n",
      "{'loss': 0.0342, 'grad_norm': 4.15460205078125, 'learning_rate': 1.2004232879792465e-05, 'epoch': 3.54}\n",
      "{'loss': 0.0329, 'grad_norm': 0.021004678681492805, 'learning_rate': 1.1965453465801916e-05, 'epoch': 3.55}\n",
      "{'loss': 0.0296, 'grad_norm': 4.716324806213379, 'learning_rate': 1.1926643282275884e-05, 'epoch': 3.56}\n",
      "{'loss': 0.027, 'grad_norm': 0.4432028532028198, 'learning_rate': 1.1887802936794938e-05, 'epoch': 3.57}\n",
      "{'loss': 0.0267, 'grad_norm': 0.030620668083429337, 'learning_rate': 1.1848933037411825e-05, 'epoch': 3.58}\n",
      "{'loss': 0.0294, 'grad_norm': 0.0014984571607783437, 'learning_rate': 1.1810034192641969e-05, 'epoch': 3.59}\n",
      "{'loss': 0.0305, 'grad_norm': 1.1870028972625732, 'learning_rate': 1.1771107011453934e-05, 'epoch': 3.6}\n",
      "{'loss': 0.0335, 'grad_norm': 0.006934472359716892, 'learning_rate': 1.1732152103259913e-05, 'epoch': 3.61}\n",
      "{'loss': 0.0256, 'grad_norm': 0.015273643657565117, 'learning_rate': 1.1693170077906145e-05, 'epoch': 3.62}\n"
     ]
    },
    {
     "data": {
      "application/vnd.jupyter.widget-view+json": {
       "model_id": "941cadc493f44408b2a7fdf7193e9c7d",
       "version_major": 2,
       "version_minor": 0
      },
      "text/plain": [
       "  0%|          | 0/5231 [00:00<?, ?it/s]"
      ]
     },
     "metadata": {},
     "output_type": "display_data"
    },
    {
     "name": "stdout",
     "output_type": "stream",
     "text": [
      "{'eval_loss': 0.04419612139463425, 'eval_precision': 0.9712609088173337, 'eval_recall': 0.97841150231692, 'eval_f1': 0.9748230928546772, 'eval_accuracy': 0.9875464399061906, 'eval_runtime': 115.3477, 'eval_samples_per_second': 90.7, 'eval_steps_per_second': 45.35, 'epoch': 3.62}\n",
      "{'loss': 0.0253, 'grad_norm': 1.8990216255187988, 'learning_rate': 1.1654161545663413e-05, 'epoch': 3.63}\n",
      "{'loss': 0.0335, 'grad_norm': 5.636123180389404, 'learning_rate': 1.1615127117217465e-05, 'epoch': 3.64}\n",
      "{'loss': 0.0326, 'grad_norm': 0.08378349989652634, 'learning_rate': 1.157606740365945e-05, 'epoch': 3.65}\n",
      "{'loss': 0.0265, 'grad_norm': 0.08294930309057236, 'learning_rate': 1.1536983016476375e-05, 'epoch': 3.66}\n",
      "{'loss': 0.0337, 'grad_norm': 0.014081605710089207, 'learning_rate': 1.1497874567541505e-05, 'epoch': 3.67}\n",
      "{'loss': 0.0335, 'grad_norm': 0.028790734708309174, 'learning_rate': 1.1458742669104806e-05, 'epoch': 3.68}\n",
      "{'loss': 0.0242, 'grad_norm': 0.2350052148103714, 'learning_rate': 1.1419587933783334e-05, 'epoch': 3.69}\n",
      "{'loss': 0.0327, 'grad_norm': 1.516420602798462, 'learning_rate': 1.1380410974551683e-05, 'epoch': 3.7}\n",
      "{'loss': 0.038, 'grad_norm': 1.6748623847961426, 'learning_rate': 1.1341212404732348e-05, 'epoch': 3.71}\n",
      "{'loss': 0.0292, 'grad_norm': 0.16527776420116425, 'learning_rate': 1.1301992837986154e-05, 'epoch': 3.72}\n",
      "{'loss': 0.0282, 'grad_norm': 0.007281240075826645, 'learning_rate': 1.1262752888302624e-05, 'epoch': 3.73}\n",
      "{'loss': 0.0265, 'grad_norm': 0.005829821806401014, 'learning_rate': 1.1223493169990394e-05, 'epoch': 3.74}\n",
      "{'loss': 0.0337, 'grad_norm': 0.0003508148656692356, 'learning_rate': 1.1184214297667571e-05, 'epoch': 3.75}\n",
      "{'loss': 0.0195, 'grad_norm': 1.303845763206482, 'learning_rate': 1.1144916886252126e-05, 'epoch': 3.76}\n",
      "{'loss': 0.0378, 'grad_norm': 21.380786895751953, 'learning_rate': 1.110560155095226e-05, 'epoch': 3.77}\n",
      "{'loss': 0.0271, 'grad_norm': 0.022456735372543335, 'learning_rate': 1.1066268907256783e-05, 'epoch': 3.78}\n",
      "{'loss': 0.0334, 'grad_norm': 1.3105478286743164, 'learning_rate': 1.1026919570925463e-05, 'epoch': 3.79}\n",
      "{'loss': 0.0272, 'grad_norm': 0.08728928864002228, 'learning_rate': 1.0987554157979392e-05, 'epoch': 3.8}\n",
      "{'loss': 0.0261, 'grad_norm': 0.24369792640209198, 'learning_rate': 1.0948173284691359e-05, 'epoch': 3.81}\n",
      "{'loss': 0.035, 'grad_norm': 8.104955673217773, 'learning_rate': 1.090877756757617e-05, 'epoch': 3.82}\n"
     ]
    },
    {
     "data": {
      "application/vnd.jupyter.widget-view+json": {
       "model_id": "6f5bf79b50d04e1b961384c703f73137",
       "version_major": 2,
       "version_minor": 0
      },
      "text/plain": [
       "  0%|          | 0/5231 [00:00<?, ?it/s]"
      ]
     },
     "metadata": {},
     "output_type": "display_data"
    },
    {
     "name": "stdout",
     "output_type": "stream",
     "text": [
      "{'eval_loss': 0.046388860791921616, 'eval_precision': 0.972626874650853, 'eval_recall': 0.9802087393356719, 'eval_f1': 0.9764030887364652, 'eval_accuracy': 0.9873920479441406, 'eval_runtime': 114.8744, 'eval_samples_per_second': 91.073, 'eval_steps_per_second': 45.537, 'epoch': 3.82}\n",
      "{'loss': 0.0371, 'grad_norm': 9.103324890136719, 'learning_rate': 1.0869367623381026e-05, 'epoch': 3.83}\n",
      "{'loss': 0.0233, 'grad_norm': 0.057558730244636536, 'learning_rate': 1.0829944069075848e-05, 'epoch': 3.84}\n",
      "{'loss': 0.0328, 'grad_norm': 1.239003300666809, 'learning_rate': 1.0790507521843636e-05, 'epoch': 3.85}\n",
      "{'loss': 0.0341, 'grad_norm': 0.08936189115047455, 'learning_rate': 1.0751058599070782e-05, 'epoch': 3.86}\n",
      "{'loss': 0.0299, 'grad_norm': 6.166310787200928, 'learning_rate': 1.071159791833743e-05, 'epoch': 3.87}\n",
      "{'loss': 0.0335, 'grad_norm': 0.09541486203670502, 'learning_rate': 1.0672126097407796e-05, 'epoch': 3.88}\n",
      "{'loss': 0.0286, 'grad_norm': 0.0310906283557415, 'learning_rate': 1.0632643754220496e-05, 'epoch': 3.89}\n",
      "{'loss': 0.0315, 'grad_norm': 0.09296497702598572, 'learning_rate': 1.0593151506878868e-05, 'epoch': 3.9}\n",
      "{'loss': 0.0269, 'grad_norm': 0.010859079658985138, 'learning_rate': 1.0553649973641314e-05, 'epoch': 3.91}\n",
      "{'loss': 0.0294, 'grad_norm': 1.3327149152755737, 'learning_rate': 1.0514139772911598e-05, 'epoch': 3.92}\n",
      "{'loss': 0.0345, 'grad_norm': 0.0004508662677835673, 'learning_rate': 1.0474621523229182e-05, 'epoch': 3.93}\n",
      "{'loss': 0.0262, 'grad_norm': 0.22688385844230652, 'learning_rate': 1.0435095843259531e-05, 'epoch': 3.94}\n",
      "{'loss': 0.0355, 'grad_norm': 0.11480932682752609, 'learning_rate': 1.0395563351784433e-05, 'epoch': 3.95}\n",
      "{'loss': 0.0282, 'grad_norm': 0.3642628490924835, 'learning_rate': 1.0356024667692314e-05, 'epoch': 3.96}\n",
      "{'loss': 0.029, 'grad_norm': 1.7720623016357422, 'learning_rate': 1.0316480409968543e-05, 'epoch': 3.97}\n",
      "{'loss': 0.0272, 'grad_norm': 0.1139143705368042, 'learning_rate': 1.0276931197685753e-05, 'epoch': 3.98}\n",
      "{'loss': 0.027, 'grad_norm': 0.5223049521446228, 'learning_rate': 1.0237377649994129e-05, 'epoch': 3.99}\n",
      "{'loss': 0.0177, 'grad_norm': 0.003915149252861738, 'learning_rate': 1.0197820386111738e-05, 'epoch': 4.0}\n",
      "{'loss': 0.0213, 'grad_norm': 0.05493488907814026, 'learning_rate': 1.0158260025314821e-05, 'epoch': 4.01}\n",
      "{'loss': 0.0144, 'grad_norm': 0.004853568971157074, 'learning_rate': 1.0118697186928107e-05, 'epoch': 4.02}\n"
     ]
    },
    {
     "data": {
      "application/vnd.jupyter.widget-view+json": {
       "model_id": "623f708e8bd34f59a3924fe6c1046f64",
       "version_major": 2,
       "version_minor": 0
      },
      "text/plain": [
       "  0%|          | 0/5231 [00:00<?, ?it/s]"
      ]
     },
     "metadata": {},
     "output_type": "display_data"
    },
    {
     "name": "stdout",
     "output_type": "stream",
     "text": [
      "{'eval_loss': 0.047641150653362274, 'eval_precision': 0.9752389975023684, 'eval_recall': 0.9807717292451604, 'eval_f1': 0.9779975384881135, 'eval_accuracy': 0.9888913896037672, 'eval_runtime': 115.8859, 'eval_samples_per_second': 90.278, 'eval_steps_per_second': 45.139, 'epoch': 4.02}\n",
      "{'loss': 0.0259, 'grad_norm': 0.01921096071600914, 'learning_rate': 1.0079132490315095e-05, 'epoch': 4.03}\n",
      "{'loss': 0.0215, 'grad_norm': 0.14369723200798035, 'learning_rate': 1.0039566554868393e-05, 'epoch': 4.04}\n",
      "{'loss': 0.0167, 'grad_norm': 0.038189373910427094, 'learning_rate': 1e-05, 'epoch': 4.05}\n",
      "{'loss': 0.0145, 'grad_norm': 1.2643101215362549, 'learning_rate': 9.960433445131608e-06, 'epoch': 4.07}\n",
      "{'loss': 0.0197, 'grad_norm': 0.15603101253509521, 'learning_rate': 9.92086750968491e-06, 'epoch': 4.08}\n",
      "{'loss': 0.0117, 'grad_norm': 0.5540866255760193, 'learning_rate': 9.881302813071898e-06, 'epoch': 4.09}\n",
      "{'loss': 0.0305, 'grad_norm': 0.06702626496553421, 'learning_rate': 9.841739974685179e-06, 'epoch': 4.1}\n",
      "{'loss': 0.0215, 'grad_norm': 0.0010006001684814692, 'learning_rate': 9.802179613888264e-06, 'epoch': 4.11}\n",
      "{'loss': 0.015, 'grad_norm': 0.002644071588292718, 'learning_rate': 9.762622350005873e-06, 'epoch': 4.12}\n",
      "{'loss': 0.0145, 'grad_norm': 0.004577412735670805, 'learning_rate': 9.723068802314247e-06, 'epoch': 4.13}\n",
      "{'loss': 0.0211, 'grad_norm': 0.29078254103660583, 'learning_rate': 9.683519590031459e-06, 'epoch': 4.14}\n",
      "{'loss': 0.0191, 'grad_norm': 0.005428237374871969, 'learning_rate': 9.643975332307687e-06, 'epoch': 4.15}\n",
      "{'loss': 0.0158, 'grad_norm': 0.009169214405119419, 'learning_rate': 9.604436648215572e-06, 'epoch': 4.16}\n",
      "{'loss': 0.0168, 'grad_norm': 0.002435648813843727, 'learning_rate': 9.564904156740474e-06, 'epoch': 4.17}\n",
      "{'loss': 0.0205, 'grad_norm': 3.7218892574310303, 'learning_rate': 9.525378476770821e-06, 'epoch': 4.18}\n",
      "{'loss': 0.0239, 'grad_norm': 0.0037437542341649532, 'learning_rate': 9.485860227088406e-06, 'epoch': 4.19}\n",
      "{'loss': 0.0153, 'grad_norm': 0.12078896909952164, 'learning_rate': 9.44635002635869e-06, 'epoch': 4.2}\n",
      "{'loss': 0.0225, 'grad_norm': 0.0011407319689169526, 'learning_rate': 9.406848493121134e-06, 'epoch': 4.21}\n",
      "{'loss': 0.0133, 'grad_norm': 0.2029055804014206, 'learning_rate': 9.36735624577951e-06, 'epoch': 4.22}\n",
      "{'loss': 0.0169, 'grad_norm': 0.015247520059347153, 'learning_rate': 9.327873902592207e-06, 'epoch': 4.23}\n"
     ]
    },
    {
     "data": {
      "application/vnd.jupyter.widget-view+json": {
       "model_id": "247f89606d6e460f98ecee11d8547ddd",
       "version_major": 2,
       "version_minor": 0
      },
      "text/plain": [
       "  0%|          | 0/5231 [00:00<?, ?it/s]"
      ]
     },
     "metadata": {},
     "output_type": "display_data"
    },
    {
     "name": "stdout",
     "output_type": "stream",
     "text": [
      "{'eval_loss': 0.04223816841840744, 'eval_precision': 0.9784189740380258, 'eval_recall': 0.9817028279416222, 'eval_f1': 0.9800581502177931, 'eval_accuracy': 0.9895828916309771, 'eval_runtime': 115.2189, 'eval_samples_per_second': 90.801, 'eval_steps_per_second': 45.401, 'epoch': 4.23}\n",
      "{'loss': 0.0258, 'grad_norm': 20.789491653442383, 'learning_rate': 9.288402081662571e-06, 'epoch': 4.24}\n",
      "{'loss': 0.015, 'grad_norm': 0.17219844460487366, 'learning_rate': 9.248941400929223e-06, 'epoch': 4.25}\n",
      "{'loss': 0.0146, 'grad_norm': 0.009316821582615376, 'learning_rate': 9.209492478156367e-06, 'epoch': 4.26}\n",
      "{'loss': 0.0158, 'grad_norm': 0.02066739834845066, 'learning_rate': 9.170055930924152e-06, 'epoch': 4.27}\n",
      "{'loss': 0.0188, 'grad_norm': 0.0073417313396930695, 'learning_rate': 9.130632376618978e-06, 'epoch': 4.28}\n",
      "{'loss': 0.0213, 'grad_norm': 0.05562576279044151, 'learning_rate': 9.091222432423832e-06, 'epoch': 4.29}\n",
      "{'loss': 0.0215, 'grad_norm': 36.261009216308594, 'learning_rate': 9.051826715308646e-06, 'epoch': 4.3}\n",
      "{'loss': 0.0146, 'grad_norm': 0.03863867372274399, 'learning_rate': 9.012445842020611e-06, 'epoch': 4.31}\n",
      "{'loss': 0.0163, 'grad_norm': 0.1440749168395996, 'learning_rate': 8.97308042907454e-06, 'epoch': 4.32}\n",
      "{'loss': 0.0211, 'grad_norm': 2.0369441509246826, 'learning_rate': 8.93373109274322e-06, 'epoch': 4.33}\n",
      "{'loss': 0.0154, 'grad_norm': 0.1409148871898651, 'learning_rate': 8.894398449047741e-06, 'epoch': 4.34}\n",
      "{'loss': 0.0207, 'grad_norm': 15.737571716308594, 'learning_rate': 8.855083113747876e-06, 'epoch': 4.35}\n",
      "{'loss': 0.0157, 'grad_norm': 0.02503928169608116, 'learning_rate': 8.815785702332434e-06, 'epoch': 4.36}\n",
      "{'loss': 0.0203, 'grad_norm': 0.0020760786719620228, 'learning_rate': 8.776506830009607e-06, 'epoch': 4.37}\n",
      "{'loss': 0.0203, 'grad_norm': 0.1944633573293686, 'learning_rate': 8.737247111697378e-06, 'epoch': 4.38}\n",
      "{'loss': 0.0206, 'grad_norm': 0.006611049175262451, 'learning_rate': 8.698007162013851e-06, 'epoch': 4.39}\n",
      "{'loss': 0.0177, 'grad_norm': 0.48498839139938354, 'learning_rate': 8.658787595267654e-06, 'epoch': 4.4}\n",
      "{'loss': 0.0142, 'grad_norm': 0.01651214249432087, 'learning_rate': 8.619589025448318e-06, 'epoch': 4.41}\n",
      "{'loss': 0.0231, 'grad_norm': 2.5881614685058594, 'learning_rate': 8.58041206621667e-06, 'epoch': 4.42}\n",
      "{'loss': 0.0178, 'grad_norm': 0.016511807218194008, 'learning_rate': 8.541257330895198e-06, 'epoch': 4.43}\n"
     ]
    },
    {
     "data": {
      "application/vnd.jupyter.widget-view+json": {
       "model_id": "4288fe69927c4618bd34e3a40eb62028",
       "version_major": 2,
       "version_minor": 0
      },
      "text/plain": [
       "  0%|          | 0/5231 [00:00<?, ?it/s]"
      ]
     },
     "metadata": {},
     "output_type": "display_data"
    },
    {
     "name": "stdout",
     "output_type": "stream",
     "text": [
      "{'eval_loss': 0.037966009229421616, 'eval_precision': 0.9769805551368462, 'eval_recall': 0.9824173920575116, 'eval_f1': 0.9796914306690708, 'eval_accuracy': 0.9906070974637314, 'eval_runtime': 114.9036, 'eval_samples_per_second': 91.05, 'eval_steps_per_second': 45.525, 'epoch': 4.43}\n",
      "{'loss': 0.0207, 'grad_norm': 0.0012323168339207768, 'learning_rate': 8.502125432458495e-06, 'epoch': 4.44}\n",
      "{'loss': 0.0159, 'grad_norm': 0.020733391866087914, 'learning_rate': 8.463016983523629e-06, 'epoch': 4.45}\n",
      "{'loss': 0.0175, 'grad_norm': 0.03035879135131836, 'learning_rate': 8.423932596340551e-06, 'epoch': 4.46}\n",
      "{'loss': 0.0155, 'grad_norm': 0.40905365347862244, 'learning_rate': 8.384872882782542e-06, 'epoch': 4.47}\n",
      "{'loss': 0.0209, 'grad_norm': 0.006371523253619671, 'learning_rate': 8.345838454336589e-06, 'epoch': 4.48}\n",
      "{'loss': 0.0159, 'grad_norm': 0.048817235976457596, 'learning_rate': 8.306829922093857e-06, 'epoch': 4.49}\n",
      "{'loss': 0.0162, 'grad_norm': 0.4049968719482422, 'learning_rate': 8.267847896740092e-06, 'epoch': 4.5}\n",
      "{'loss': 0.0237, 'grad_norm': 0.05271861329674721, 'learning_rate': 8.228892988546067e-06, 'epoch': 4.51}\n",
      "{'loss': 0.0102, 'grad_norm': 0.5318290591239929, 'learning_rate': 8.189965807358033e-06, 'epoch': 4.52}\n",
      "{'loss': 0.0143, 'grad_norm': 0.0015438615810126066, 'learning_rate': 8.151066962588181e-06, 'epoch': 4.53}\n",
      "{'loss': 0.0216, 'grad_norm': 0.012719262391328812, 'learning_rate': 8.112197063205063e-06, 'epoch': 4.54}\n",
      "{'loss': 0.0194, 'grad_norm': 0.041200920939445496, 'learning_rate': 8.073356717724116e-06, 'epoch': 4.55}\n",
      "{'loss': 0.0187, 'grad_norm': 0.0009969776729121804, 'learning_rate': 8.034546534198087e-06, 'epoch': 4.56}\n",
      "{'loss': 0.0137, 'grad_norm': 0.06361851841211319, 'learning_rate': 7.995767120207537e-06, 'epoch': 4.57}\n",
      "{'loss': 0.0146, 'grad_norm': 0.037823308259248734, 'learning_rate': 7.957019082851322e-06, 'epoch': 4.58}\n",
      "{'loss': 0.0158, 'grad_norm': 0.029439564794301987, 'learning_rate': 7.918303028737097e-06, 'epoch': 4.59}\n",
      "{'loss': 0.0233, 'grad_norm': 0.029806621372699738, 'learning_rate': 7.879619563971808e-06, 'epoch': 4.6}\n",
      "{'loss': 0.0075, 'grad_norm': 0.07582245022058487, 'learning_rate': 7.840969294152212e-06, 'epoch': 4.61}\n",
      "{'loss': 0.0156, 'grad_norm': 0.008656940422952175, 'learning_rate': 7.802352824355385e-06, 'epoch': 4.62}\n",
      "{'loss': 0.0172, 'grad_norm': 0.01966218650341034, 'learning_rate': 7.76377075912927e-06, 'epoch': 4.63}\n"
     ]
    },
    {
     "data": {
      "application/vnd.jupyter.widget-view+json": {
       "model_id": "1efaf08600b542a8bc5372d06fc637ac",
       "version_major": 2,
       "version_minor": 0
      },
      "text/plain": [
       "  0%|          | 0/5231 [00:00<?, ?it/s]"
      ]
     },
     "metadata": {},
     "output_type": "display_data"
    },
    {
     "name": "stdout",
     "output_type": "stream",
     "text": [
      "{'eval_loss': 0.04081491008400917, 'eval_precision': 0.9795262340352089, 'eval_recall': 0.9831319561734009, 'eval_f1': 0.9813257829554543, 'eval_accuracy': 0.9905266396806913, 'eval_runtime': 116.6274, 'eval_samples_per_second': 89.704, 'eval_steps_per_second': 44.852, 'epoch': 4.63}\n",
      "{'loss': 0.0207, 'grad_norm': 0.08729708194732666, 'learning_rate': 7.725223702483193e-06, 'epoch': 4.64}\n",
      "{'loss': 0.0146, 'grad_norm': 0.0012449678033590317, 'learning_rate': 7.68671225787841e-06, 'epoch': 4.65}\n",
      "{'loss': 0.015, 'grad_norm': 0.10522884875535965, 'learning_rate': 7.648237028218676e-06, 'epoch': 4.66}\n",
      "{'loss': 0.0161, 'grad_norm': 0.04743553698062897, 'learning_rate': 7.609798615840785e-06, 'epoch': 4.67}\n",
      "{'loss': 0.0199, 'grad_norm': 0.007333891000598669, 'learning_rate': 7.571397622505151e-06, 'epoch': 4.68}\n",
      "{'loss': 0.0122, 'grad_norm': 0.024911275133490562, 'learning_rate': 7.533034649386385e-06, 'epoch': 4.69}\n",
      "{'loss': 0.0192, 'grad_norm': 0.029001053422689438, 'learning_rate': 7.494710297063894e-06, 'epoch': 4.7}\n",
      "{'loss': 0.0156, 'grad_norm': 0.6521345973014832, 'learning_rate': 7.456425165512453e-06, 'epoch': 4.71}\n",
      "{'loss': 0.016, 'grad_norm': 0.10608088970184326, 'learning_rate': 7.418179854092842e-06, 'epoch': 4.72}\n",
      "{'loss': 0.0217, 'grad_norm': 0.01670672371983528, 'learning_rate': 7.379974961542447e-06, 'epoch': 4.73}\n",
      "{'loss': 0.0152, 'grad_norm': 0.009546776302158833, 'learning_rate': 7.341811085965884e-06, 'epoch': 4.74}\n",
      "{'loss': 0.0201, 'grad_norm': 0.7442081570625305, 'learning_rate': 7.303688824825648e-06, 'epoch': 4.75}\n",
      "{'loss': 0.0184, 'grad_norm': 0.8047497868537903, 'learning_rate': 7.2656087749327385e-06, 'epoch': 4.76}\n",
      "{'loss': 0.0132, 'grad_norm': 0.7233045697212219, 'learning_rate': 7.22757153243735e-06, 'epoch': 4.77}\n",
      "{'loss': 0.017, 'grad_norm': 0.02593483030796051, 'learning_rate': 7.189577692819508e-06, 'epoch': 4.78}\n",
      "{'loss': 0.0176, 'grad_norm': 0.04547872394323349, 'learning_rate': 7.151627850879757e-06, 'epoch': 4.79}\n",
      "{'loss': 0.016, 'grad_norm': 0.0007244262960739434, 'learning_rate': 7.113722600729848e-06, 'epoch': 4.8}\n",
      "{'loss': 0.0194, 'grad_norm': 0.0034279783722013235, 'learning_rate': 7.075862535783454e-06, 'epoch': 4.81}\n",
      "{'loss': 0.0154, 'grad_norm': 0.01899717189371586, 'learning_rate': 7.038048248746842e-06, 'epoch': 4.82}\n",
      "{'loss': 0.0168, 'grad_norm': 3.176520824432373, 'learning_rate': 7.000280331609641e-06, 'epoch': 4.83}\n"
     ]
    },
    {
     "data": {
      "application/vnd.jupyter.widget-view+json": {
       "model_id": "421f87d7369f420e826e1023930137bb",
       "version_major": 2,
       "version_minor": 0
      },
      "text/plain": [
       "  0%|          | 0/5231 [00:00<?, ?it/s]"
      ]
     },
     "metadata": {},
     "output_type": "display_data"
    },
    {
     "name": "stdout",
     "output_type": "stream",
     "text": [
      "{'eval_loss': 0.038552917540073395, 'eval_precision': 0.9808749649625909, 'eval_recall': 0.9850591139404963, 'eval_f1': 0.982962586834628, 'eval_accuracy': 0.991088756894634, 'eval_runtime': 115.3368, 'eval_samples_per_second': 90.708, 'eval_steps_per_second': 45.354, 'epoch': 4.83}\n",
      "{'loss': 0.0177, 'grad_norm': 0.006999872624874115, 'learning_rate': 6.962559375635536e-06, 'epoch': 4.84}\n",
      "{'loss': 0.021, 'grad_norm': 0.0017165454337373376, 'learning_rate': 6.924885971353027e-06, 'epoch': 4.85}\n",
      "{'loss': 0.0154, 'grad_norm': 0.0023559799883514643, 'learning_rate': 6.8872607085461875e-06, 'epoch': 4.86}\n",
      "{'loss': 0.0196, 'grad_norm': 0.39592862129211426, 'learning_rate': 6.849684176245432e-06, 'epoch': 4.87}\n",
      "{'loss': 0.0179, 'grad_norm': 0.018204858526587486, 'learning_rate': 6.812156962718279e-06, 'epoch': 4.88}\n",
      "{'loss': 0.015, 'grad_norm': 0.0410643070936203, 'learning_rate': 6.774679655460159e-06, 'epoch': 4.89}\n",
      "{'loss': 0.0128, 'grad_norm': 0.02416056953370571, 'learning_rate': 6.737252841185212e-06, 'epoch': 4.9}\n",
      "{'loss': 0.0135, 'grad_norm': 0.4422537088394165, 'learning_rate': 6.699877105817093e-06, 'epoch': 4.91}\n",
      "{'loss': 0.0201, 'grad_norm': 0.07640312612056732, 'learning_rate': 6.662553034479824e-06, 'epoch': 4.92}\n",
      "{'loss': 0.0153, 'grad_norm': 0.8953277468681335, 'learning_rate': 6.625281211488592e-06, 'epoch': 4.93}\n",
      "{'loss': 0.0149, 'grad_norm': 0.007172225043177605, 'learning_rate': 6.588062220340651e-06, 'epoch': 4.94}\n",
      "{'loss': 0.0128, 'grad_norm': 9.506000518798828, 'learning_rate': 6.55089664370615e-06, 'epoch': 4.95}\n",
      "{'loss': 0.011, 'grad_norm': 0.009336783550679684, 'learning_rate': 6.513785063419025e-06, 'epoch': 4.96}\n",
      "{'loss': 0.0202, 'grad_norm': 0.03636927902698517, 'learning_rate': 6.47672806046789e-06, 'epoch': 4.97}\n",
      "{'loss': 0.0111, 'grad_norm': 0.007999141700565815, 'learning_rate': 6.4397262149869475e-06, 'epoch': 4.98}\n",
      "{'loss': 0.011, 'grad_norm': 5.714156627655029, 'learning_rate': 6.402780106246884e-06, 'epoch': 4.99}\n",
      "{'loss': 0.0175, 'grad_norm': 0.010173059068620205, 'learning_rate': 6.365890312645833e-06, 'epoch': 5.0}\n",
      "{'loss': 0.0074, 'grad_norm': 0.003471118863672018, 'learning_rate': 6.329057411700299e-06, 'epoch': 5.01}\n",
      "{'loss': 0.0096, 'grad_norm': 0.00018884822202380747, 'learning_rate': 6.292281980036116e-06, 'epoch': 5.02}\n",
      "{'loss': 0.0085, 'grad_norm': 0.11057229340076447, 'learning_rate': 6.25556459337943e-06, 'epoch': 5.03}\n"
     ]
    },
    {
     "data": {
      "application/vnd.jupyter.widget-view+json": {
       "model_id": "e4398135b75746a0b4f3558011f38fa7",
       "version_major": 2,
       "version_minor": 0
      },
      "text/plain": [
       "  0%|          | 0/5231 [00:00<?, ?it/s]"
      ]
     },
     "metadata": {},
     "output_type": "display_data"
    },
    {
     "name": "stdout",
     "output_type": "stream",
     "text": [
      "{'eval_loss': 0.041695743799209595, 'eval_precision': 0.9825337881601105, 'eval_recall': 0.9854272227274696, 'eval_f1': 0.9839783783783784, 'eval_accuracy': 0.9918280986847327, 'eval_runtime': 114.9473, 'eval_samples_per_second': 91.016, 'eval_steps_per_second': 45.508, 'epoch': 5.03}\n",
      "{'loss': 0.0055, 'grad_norm': 0.0017608345951884985, 'learning_rate': 6.218905826547688e-06, 'epoch': 5.04}\n",
      "{'loss': 0.014, 'grad_norm': 0.008603096939623356, 'learning_rate': 6.1823062534406196e-06, 'epoch': 5.05}\n",
      "{'loss': 0.0057, 'grad_norm': 0.025231966748833656, 'learning_rate': 6.14576644703128e-06, 'epoch': 5.06}\n",
      "{'loss': 0.0026, 'grad_norm': 0.03246598690748215, 'learning_rate': 6.109286979357052e-06, 'epoch': 5.07}\n",
      "{'loss': 0.0055, 'grad_norm': 0.028248410671949387, 'learning_rate': 6.072868421510711e-06, 'epoch': 5.08}\n",
      "{'loss': 0.0068, 'grad_norm': 0.46517229080200195, 'learning_rate': 6.036511343631488e-06, 'epoch': 5.09}\n",
      "{'loss': 0.0103, 'grad_norm': 0.04094608873128891, 'learning_rate': 6.00021631489611e-06, 'epoch': 5.1}\n",
      "{'loss': 0.0092, 'grad_norm': 0.002536588814109564, 'learning_rate': 5.963983903509936e-06, 'epoch': 5.11}\n",
      "{'loss': 0.008, 'grad_norm': 0.0014529115287587047, 'learning_rate': 5.927814676698027e-06, 'epoch': 5.12}\n",
      "{'loss': 0.0091, 'grad_norm': 2.8149149417877197, 'learning_rate': 5.891709200696281e-06, 'epoch': 5.13}\n",
      "{'loss': 0.0065, 'grad_norm': 0.003855487098917365, 'learning_rate': 5.855668040742564e-06, 'epoch': 5.14}\n",
      "{'loss': 0.0069, 'grad_norm': 0.002176731126382947, 'learning_rate': 5.819691761067866e-06, 'epoch': 5.15}\n",
      "{'loss': 0.0128, 'grad_norm': 0.002986624836921692, 'learning_rate': 5.783780924887462e-06, 'epoch': 5.16}\n",
      "{'loss': 0.0106, 'grad_norm': 0.12908931076526642, 'learning_rate': 5.74793609439209e-06, 'epoch': 5.17}\n",
      "{'loss': 0.0116, 'grad_norm': 0.04855968803167343, 'learning_rate': 5.712157830739176e-06, 'epoch': 5.18}\n",
      "{'loss': 0.0155, 'grad_norm': 0.0008858222863636911, 'learning_rate': 5.676446694044003e-06, 'epoch': 5.19}\n",
      "{'loss': 0.0092, 'grad_norm': 0.0064804586581885815, 'learning_rate': 5.640803243370997e-06, 'epoch': 5.2}\n",
      "{'loss': 0.0061, 'grad_norm': 0.0004924273234792054, 'learning_rate': 5.605228036724928e-06, 'epoch': 5.21}\n",
      "{'loss': 0.0082, 'grad_norm': 0.005958345253020525, 'learning_rate': 5.569721631042193e-06, 'epoch': 5.22}\n",
      "{'loss': 0.0129, 'grad_norm': 0.011408472433686256, 'learning_rate': 5.5342845821821145e-06, 'epoch': 5.23}\n"
     ]
    },
    {
     "data": {
      "application/vnd.jupyter.widget-view+json": {
       "model_id": "ec88c3fccefa433da875eb97931d5875",
       "version_major": 2,
       "version_minor": 0
      },
      "text/plain": [
       "  0%|          | 0/5231 [00:00<?, ?it/s]"
      ]
     },
     "metadata": {},
     "output_type": "display_data"
    },
    {
     "name": "stdout",
     "output_type": "stream",
     "text": [
      "{'eval_loss': 0.039407189935445786, 'eval_precision': 0.9827679168374059, 'eval_recall': 0.9867047767528474, 'eval_f1': 0.9847324120195788, 'eval_accuracy': 0.9925500441974173, 'eval_runtime': 114.4863, 'eval_samples_per_second': 91.382, 'eval_steps_per_second': 45.691, 'epoch': 5.23}\n",
      "{'loss': 0.01, 'grad_norm': 0.0008273331914097071, 'learning_rate': 5.498917444918199e-06, 'epoch': 5.24}\n",
      "{'loss': 0.0083, 'grad_norm': 0.06366710364818573, 'learning_rate': 5.463620772929494e-06, 'epoch': 5.25}\n",
      "{'loss': 0.0053, 'grad_norm': 0.0007768280920572579, 'learning_rate': 5.428395118791887e-06, 'epoch': 5.26}\n",
      "{'loss': 0.0133, 'grad_norm': 0.0048397984355688095, 'learning_rate': 5.393241033969466e-06, 'epoch': 5.27}\n",
      "{'loss': 0.0095, 'grad_norm': 0.008586389012634754, 'learning_rate': 5.358159068805902e-06, 'epoch': 5.28}\n",
      "{'loss': 0.0061, 'grad_norm': 50.190616607666016, 'learning_rate': 5.323149772515812e-06, 'epoch': 5.29}\n",
      "{'loss': 0.0061, 'grad_norm': 0.0018695900216698647, 'learning_rate': 5.288213693176165e-06, 'epoch': 5.3}\n",
      "{'loss': 0.0117, 'grad_norm': 0.009738459251821041, 'learning_rate': 5.253351377717707e-06, 'epoch': 5.31}\n",
      "{'loss': 0.0084, 'grad_norm': 0.007499213330447674, 'learning_rate': 5.218563371916403e-06, 'epoch': 5.32}\n",
      "{'loss': 0.0053, 'grad_norm': 0.008773067966103554, 'learning_rate': 5.183850220384874e-06, 'epoch': 5.33}\n",
      "{'loss': 0.0074, 'grad_norm': 0.002083044033497572, 'learning_rate': 5.149212466563901e-06, 'epoch': 5.34}\n",
      "{'loss': 0.0082, 'grad_norm': 0.004205650649964809, 'learning_rate': 5.114650652713885e-06, 'epoch': 5.35}\n",
      "{'loss': 0.0106, 'grad_norm': 0.25222375988960266, 'learning_rate': 5.0801653199063745e-06, 'epoch': 5.36}\n",
      "{'loss': 0.0086, 'grad_norm': 0.013378435745835304, 'learning_rate': 5.045757008015606e-06, 'epoch': 5.37}\n",
      "{'loss': 0.0121, 'grad_norm': 0.02439202554523945, 'learning_rate': 5.0114262557100246e-06, 'epoch': 5.38}\n",
      "{'loss': 0.013, 'grad_norm': 0.0009751834440976381, 'learning_rate': 4.9771736004438685e-06, 'epoch': 5.39}\n",
      "{'loss': 0.0088, 'grad_norm': 0.011065294966101646, 'learning_rate': 4.942999578448763e-06, 'epoch': 5.4}\n",
      "{'loss': 0.0142, 'grad_norm': 0.0021612539421766996, 'learning_rate': 4.908904724725299e-06, 'epoch': 5.41}\n",
      "{'loss': 0.0072, 'grad_norm': 0.006718464195728302, 'learning_rate': 4.874889573034693e-06, 'epoch': 5.42}\n",
      "{'loss': 0.0089, 'grad_norm': 0.00033513925154693425, 'learning_rate': 4.840954655890392e-06, 'epoch': 5.43}\n"
     ]
    },
    {
     "data": {
      "application/vnd.jupyter.widget-view+json": {
       "model_id": "35eaaac765024decabf7f66c5c736b79",
       "version_major": 2,
       "version_minor": 0
      },
      "text/plain": [
       "  0%|          | 0/5231 [00:00<?, ?it/s]"
      ]
     },
     "metadata": {},
     "output_type": "display_data"
    },
    {
     "name": "stdout",
     "output_type": "stream",
     "text": [
      "{'eval_loss': 0.03729533776640892, 'eval_precision': 0.9836093895091454, 'eval_recall': 0.9862717075917024, 'eval_f1': 0.9849387494729103, 'eval_accuracy': 0.9926946507534219, 'eval_runtime': 115.1137, 'eval_samples_per_second': 90.884, 'eval_steps_per_second': 45.442, 'epoch': 5.43}\n",
      "{'loss': 0.008, 'grad_norm': 0.00287894019857049, 'learning_rate': 4.8071005045497644e-06, 'epoch': 5.44}\n",
      "{'loss': 0.0076, 'grad_norm': 0.0016585270641371608, 'learning_rate': 4.773327649005778e-06, 'epoch': 5.45}\n",
      "{'loss': 0.0081, 'grad_norm': 0.009524356573820114, 'learning_rate': 4.739636617978701e-06, 'epoch': 5.46}\n",
      "{'loss': 0.0089, 'grad_norm': 0.05862889811396599, 'learning_rate': 4.706027938907819e-06, 'epoch': 5.47}\n",
      "{'loss': 0.0097, 'grad_norm': 0.016580019146203995, 'learning_rate': 4.6725021379431764e-06, 'epoch': 5.48}\n",
      "{'loss': 0.0108, 'grad_norm': 0.10217620432376862, 'learning_rate': 4.639059739937365e-06, 'epoch': 5.49}\n",
      "{'loss': 0.0142, 'grad_norm': 0.003997276537120342, 'learning_rate': 4.605701268437265e-06, 'epoch': 5.5}\n",
      "{'loss': 0.0093, 'grad_norm': 0.003912392072379589, 'learning_rate': 4.572427245675891e-06, 'epoch': 5.51}\n",
      "{'loss': 0.0068, 'grad_norm': 0.021837282925844193, 'learning_rate': 4.539238192564187e-06, 'epoch': 5.52}\n",
      "{'loss': 0.0069, 'grad_norm': 0.0011910340981557965, 'learning_rate': 4.506134628682878e-06, 'epoch': 5.53}\n",
      "{'loss': 0.0062, 'grad_norm': 0.006349935196340084, 'learning_rate': 4.473117072274352e-06, 'epoch': 5.54}\n",
      "{'loss': 0.0114, 'grad_norm': 0.20100155472755432, 'learning_rate': 4.440186040234524e-06, 'epoch': 5.55}\n",
      "{'loss': 0.0087, 'grad_norm': 0.009779334999620914, 'learning_rate': 4.407342048104753e-06, 'epoch': 5.56}\n",
      "{'loss': 0.0115, 'grad_norm': 0.014493044465780258, 'learning_rate': 4.374585610063784e-06, 'epoch': 5.57}\n",
      "{'loss': 0.0083, 'grad_norm': 0.0009214092278853059, 'learning_rate': 4.341917238919671e-06, 'epoch': 5.58}\n",
      "{'loss': 0.0058, 'grad_norm': 0.0038992208428680897, 'learning_rate': 4.309337446101779e-06, 'epoch': 5.59}\n",
      "{'loss': 0.0072, 'grad_norm': 0.019644826650619507, 'learning_rate': 4.2768467416527536e-06, 'epoch': 5.6}\n",
      "{'loss': 0.0116, 'grad_norm': 1.3807833194732666, 'learning_rate': 4.244445634220545e-06, 'epoch': 5.61}\n",
      "{'loss': 0.0082, 'grad_norm': 0.002020907588303089, 'learning_rate': 4.212134631050453e-06, 'epoch': 5.62}\n",
      "{'loss': 0.0092, 'grad_norm': 0.013412635773420334, 'learning_rate': 4.179914237977177e-06, 'epoch': 5.63}\n"
     ]
    },
    {
     "data": {
      "application/vnd.jupyter.widget-view+json": {
       "model_id": "5a1fb8c43d50491eb15a3a0dcf946529",
       "version_major": 2,
       "version_minor": 0
      },
      "text/plain": [
       "  0%|          | 0/5231 [00:00<?, ?it/s]"
      ]
     },
     "metadata": {},
     "output_type": "display_data"
    },
    {
     "name": "stdout",
     "output_type": "stream",
     "text": [
      "{'eval_loss': 0.04095623269677162, 'eval_precision': 0.9833865538966082, 'eval_recall': 0.98692131133342, 'eval_f1': 0.9851507619150547, 'eval_accuracy': 0.9926826908126997, 'eval_runtime': 115.0009, 'eval_samples_per_second': 90.973, 'eval_steps_per_second': 45.487, 'epoch': 5.63}\n",
      "{'loss': 0.0106, 'grad_norm': 0.8466982245445251, 'learning_rate': 4.147784959416894e-06, 'epoch': 5.64}\n",
      "{'loss': 0.0092, 'grad_norm': 0.02412934973835945, 'learning_rate': 4.1157472983593636e-06, 'epoch': 5.65}\n",
      "{'loss': 0.0036, 'grad_norm': 0.002548149786889553, 'learning_rate': 4.083801756360071e-06, 'epoch': 5.66}\n",
      "{'loss': 0.0073, 'grad_norm': 0.00047975851339288056, 'learning_rate': 4.051948833532342e-06, 'epoch': 5.67}\n",
      "{'loss': 0.0041, 'grad_norm': 0.0005606739432550967, 'learning_rate': 4.02018902853955e-06, 'epoch': 5.69}\n",
      "{'loss': 0.0097, 'grad_norm': 0.015921512618660927, 'learning_rate': 3.988522838587281e-06, 'epoch': 5.7}\n",
      "{'loss': 0.0042, 'grad_norm': 0.1513761281967163, 'learning_rate': 3.956950759415556e-06, 'epoch': 5.71}\n",
      "{'loss': 0.0028, 'grad_norm': 0.056026920676231384, 'learning_rate': 3.925473285291092e-06, 'epoch': 5.72}\n",
      "{'loss': 0.0035, 'grad_norm': 0.010067840106785297, 'learning_rate': 3.894090908999524e-06, 'epoch': 5.73}\n",
      "{'loss': 0.0058, 'grad_norm': 0.009505425579845905, 'learning_rate': 3.862804121837733e-06, 'epoch': 5.74}\n",
      "{'loss': 0.0153, 'grad_norm': 0.000357621640432626, 'learning_rate': 3.831613413606124e-06, 'epoch': 5.75}\n",
      "{'loss': 0.003, 'grad_norm': 0.007363180164247751, 'learning_rate': 3.8005192726009664e-06, 'epoch': 5.76}\n",
      "{'loss': 0.0036, 'grad_norm': 0.10343942791223526, 'learning_rate': 3.7695221856067597e-06, 'epoch': 5.77}\n",
      "{'loss': 0.0077, 'grad_norm': 0.00016674809739924967, 'learning_rate': 3.7386226378886082e-06, 'epoch': 5.78}\n",
      "{'loss': 0.0088, 'grad_norm': 0.012300071306526661, 'learning_rate': 3.707821113184601e-06, 'epoch': 5.79}\n",
      "{'loss': 0.0055, 'grad_norm': 5.922865867614746, 'learning_rate': 3.6771180936982785e-06, 'epoch': 5.8}\n",
      "{'loss': 0.0024, 'grad_norm': 0.0205882266163826, 'learning_rate': 3.646514060091061e-06, 'epoch': 5.81}\n",
      "{'loss': 0.0083, 'grad_norm': 0.02418629266321659, 'learning_rate': 3.61600949147472e-06, 'epoch': 5.82}\n",
      "{'loss': 0.004, 'grad_norm': 0.005087702069431543, 'learning_rate': 3.5856048654038867e-06, 'epoch': 5.83}\n",
      "{'loss': 0.0096, 'grad_norm': 17.96820640563965, 'learning_rate': 3.555300657868571e-06, 'epoch': 5.84}\n"
     ]
    },
    {
     "data": {
      "application/vnd.jupyter.widget-view+json": {
       "model_id": "d094ea6cf07542babf4e28fa30fe5872",
       "version_major": 2,
       "version_minor": 0
      },
      "text/plain": [
       "  0%|          | 0/5231 [00:00<?, ?it/s]"
      ]
     },
     "metadata": {},
     "output_type": "display_data"
    },
    {
     "name": "stdout",
     "output_type": "stream",
     "text": [
      "{'eval_loss': 0.041999008506536484, 'eval_precision': 0.983585313174946, 'eval_recall': 0.9860984799272444, 'eval_f1': 0.9848402932462533, 'eval_accuracy': 0.9926174547723969, 'eval_runtime': 115.7488, 'eval_samples_per_second': 90.385, 'eval_steps_per_second': 45.193, 'epoch': 5.84}\n",
      "{'loss': 0.0123, 'grad_norm': 8.867790222167969, 'learning_rate': 3.5250973432867195e-06, 'epoch': 5.85}\n",
      "{'loss': 0.0083, 'grad_norm': 0.0002646261709742248, 'learning_rate': 3.4949953944967785e-06, 'epoch': 5.86}\n",
      "{'loss': 0.0097, 'grad_norm': 8.922911643981934, 'learning_rate': 3.46499528275029e-06, 'epoch': 5.87}\n",
      "{'loss': 0.0055, 'grad_norm': 0.0024645309895277023, 'learning_rate': 3.4350974777045175e-06, 'epoch': 5.88}\n",
      "{'loss': 0.01, 'grad_norm': 0.010869958437979221, 'learning_rate': 3.4053024474151032e-06, 'epoch': 5.89}\n",
      "{'loss': 0.0075, 'grad_norm': 0.021629542112350464, 'learning_rate': 3.3756106583287206e-06, 'epoch': 5.9}\n",
      "{'loss': 0.0065, 'grad_norm': 1.1314290761947632, 'learning_rate': 3.346022575275795e-06, 'epoch': 5.91}\n",
      "{'loss': 0.0072, 'grad_norm': 0.001007961924187839, 'learning_rate': 3.3165386614632045e-06, 'epoch': 5.92}\n",
      "{'loss': 0.0032, 'grad_norm': 0.04256302863359451, 'learning_rate': 3.2871593784670386e-06, 'epoch': 5.93}\n",
      "{'loss': 0.0042, 'grad_norm': 0.004231233615428209, 'learning_rate': 3.2578851862253802e-06, 'epoch': 5.94}\n",
      "{'loss': 0.0042, 'grad_norm': 0.007180399261415005, 'learning_rate': 3.2287165430310985e-06, 'epoch': 5.95}\n",
      "{'loss': 0.0046, 'grad_norm': 0.026875963434576988, 'learning_rate': 3.1996539055246543e-06, 'epoch': 5.96}\n",
      "{'loss': 0.006, 'grad_norm': 0.19757980108261108, 'learning_rate': 3.17069772868699e-06, 'epoch': 5.97}\n",
      "{'loss': 0.005, 'grad_norm': 0.0008193052490241826, 'learning_rate': 3.141848465832381e-06, 'epoch': 5.98}\n",
      "{'loss': 0.0094, 'grad_norm': 0.007493247743695974, 'learning_rate': 3.1131065686013417e-06, 'epoch': 5.99}\n",
      "{'loss': 0.0098, 'grad_norm': 3.0376343727111816, 'learning_rate': 3.084472486953558e-06, 'epoch': 6.0}\n",
      "{'loss': 0.0026, 'grad_norm': 0.023969294503331184, 'learning_rate': 3.055946669160841e-06, 'epoch': 6.01}\n",
      "{'loss': 0.0049, 'grad_norm': 0.1431424915790558, 'learning_rate': 3.0275295618001177e-06, 'epoch': 6.02}\n",
      "{'loss': 0.0039, 'grad_norm': 0.0005247710505500436, 'learning_rate': 2.9992216097464346e-06, 'epoch': 6.03}\n",
      "{'loss': 0.0041, 'grad_norm': 0.0001591628388268873, 'learning_rate': 2.9710232561659834e-06, 'epoch': 6.04}\n"
     ]
    },
    {
     "data": {
      "application/vnd.jupyter.widget-view+json": {
       "model_id": "169db504eac84801afd0750d723213b8",
       "version_major": 2,
       "version_minor": 0
      },
      "text/plain": [
       "  0%|          | 0/5231 [00:00<?, ?it/s]"
      ]
     },
     "metadata": {},
     "output_type": "display_data"
    },
    {
     "name": "stdout",
     "output_type": "stream",
     "text": [
      "{'eval_loss': 0.04117940366268158, 'eval_precision': 0.9841746189386416, 'eval_recall': 0.9870728855398208, 'eval_f1': 0.9856216216216217, 'eval_accuracy': 0.9931763101843244, 'eval_runtime': 116.5383, 'eval_samples_per_second': 89.773, 'eval_steps_per_second': 44.887, 'epoch': 6.04}\n",
      "{'loss': 0.0059, 'grad_norm': 0.0005338359624147415, 'learning_rate': 2.942934942509171e-06, 'epoch': 6.05}\n",
      "{'loss': 0.0023, 'grad_norm': 0.00019953699666075408, 'learning_rate': 2.914957108503722e-06, 'epoch': 6.06}\n",
      "{'loss': 0.0011, 'grad_norm': 0.0003969695244450122, 'learning_rate': 2.8870901921477656e-06, 'epoch': 6.07}\n",
      "{'loss': 0.0042, 'grad_norm': 136.90921020507812, 'learning_rate': 2.8593346297030077e-06, 'epoch': 6.08}\n",
      "{'loss': 0.0027, 'grad_norm': 3.0196447372436523, 'learning_rate': 2.831690855687882e-06, 'epoch': 6.09}\n",
      "{'loss': 0.0029, 'grad_norm': 0.0009481729939579964, 'learning_rate': 2.8041593028707513e-06, 'epoch': 6.1}\n",
      "{'loss': 0.0033, 'grad_norm': 0.0006036604172550142, 'learning_rate': 2.7767404022631404e-06, 'epoch': 6.11}\n",
      "{'loss': 0.0089, 'grad_norm': 0.0012373710051178932, 'learning_rate': 2.749434583112984e-06, 'epoch': 6.12}\n",
      "{'loss': 0.0045, 'grad_norm': 0.003775293007493019, 'learning_rate': 2.7222422728979015e-06, 'epoch': 6.13}\n",
      "{'loss': 0.0034, 'grad_norm': 0.05850047245621681, 'learning_rate': 2.695163897318508e-06, 'epoch': 6.14}\n",
      "{'loss': 0.0036, 'grad_norm': 0.0013797522988170385, 'learning_rate': 2.668199880291751e-06, 'epoch': 6.15}\n",
      "{'loss': 0.0028, 'grad_norm': 0.000532567675691098, 'learning_rate': 2.6413506439442804e-06, 'epoch': 6.16}\n",
      "{'loss': 0.0016, 'grad_norm': 0.0011824294924736023, 'learning_rate': 2.614616608605833e-06, 'epoch': 6.17}\n",
      "{'loss': 0.001, 'grad_norm': 0.002273303223773837, 'learning_rate': 2.587998192802639e-06, 'epoch': 6.18}\n",
      "{'loss': 0.0059, 'grad_norm': 0.00028660870157182217, 'learning_rate': 2.5614958132508983e-06, 'epoch': 6.19}\n",
      "{'loss': 0.0051, 'grad_norm': 0.00046074530109763145, 'learning_rate': 2.5351098848502385e-06, 'epoch': 6.2}\n",
      "{'loss': 0.0053, 'grad_norm': 0.0009207917028106749, 'learning_rate': 2.508840820677221e-06, 'epoch': 6.21}\n",
      "{'loss': 0.0011, 'grad_norm': 0.002162633230909705, 'learning_rate': 2.482689031978872e-06, 'epoch': 6.22}\n",
      "{'loss': 0.0017, 'grad_norm': 0.001909859012812376, 'learning_rate': 2.4566549281662587e-06, 'epoch': 6.23}\n",
      "{'loss': 0.0045, 'grad_norm': 0.0003289298911113292, 'learning_rate': 2.430738916808061e-06, 'epoch': 6.24}\n"
     ]
    },
    {
     "data": {
      "application/vnd.jupyter.widget-view+json": {
       "model_id": "2003389aab9d4b769e301b7e6950efa0",
       "version_major": 2,
       "version_minor": 0
      },
      "text/plain": [
       "  0%|          | 0/5231 [00:00<?, ?it/s]"
      ]
     },
     "metadata": {},
     "output_type": "display_data"
    },
    {
     "name": "stdout",
     "output_type": "stream",
     "text": [
      "{'eval_loss': 0.044598232954740524, 'eval_precision': 0.9849103037368047, 'eval_recall': 0.9879173704040535, 'eval_f1': 0.9864115453218746, 'eval_accuracy': 0.9933959381866773, 'eval_runtime': 115.8188, 'eval_samples_per_second': 90.331, 'eval_steps_per_second': 45.165, 'epoch': 6.24}\n",
      "{'loss': 0.0006, 'grad_norm': 0.00043678979272954166, 'learning_rate': 2.4049414036242057e-06, 'epoch': 6.25}\n",
      "{'loss': 0.0017, 'grad_norm': 0.3724506199359894, 'learning_rate': 2.379262792479504e-06, 'epoch': 6.26}\n",
      "{'loss': 0.0073, 'grad_norm': 0.00048407024587504566, 'learning_rate': 2.3537034853773357e-06, 'epoch': 6.27}\n",
      "{'loss': 0.0035, 'grad_norm': 0.005040855146944523, 'learning_rate': 2.328263882453353e-06, 'epoch': 6.28}\n",
      "{'loss': 0.0011, 'grad_norm': 0.0027064448222517967, 'learning_rate': 2.3029443819692255e-06, 'epoch': 6.29}\n",
      "{'loss': 0.007, 'grad_norm': 0.0030472457874566317, 'learning_rate': 2.2777453803063834e-06, 'epoch': 6.3}\n",
      "{'loss': 0.0011, 'grad_norm': 0.036084357649087906, 'learning_rate': 2.252667271959834e-06, 'epoch': 6.31}\n",
      "{'loss': 0.0028, 'grad_norm': 0.00026906278799287975, 'learning_rate': 2.2277104495319714e-06, 'epoch': 6.32}\n",
      "{'loss': 0.0063, 'grad_norm': 0.0011233869008719921, 'learning_rate': 2.202875303726445e-06, 'epoch': 6.33}\n",
      "{'loss': 0.0033, 'grad_norm': 0.08957342058420181, 'learning_rate': 2.1781622233420353e-06, 'epoch': 6.34}\n",
      "{'loss': 0.002, 'grad_norm': 0.0006803228170610964, 'learning_rate': 2.1535715952665494e-06, 'epoch': 6.35}\n",
      "{'loss': 0.0034, 'grad_norm': 0.00015743401309009641, 'learning_rate': 2.129103804470797e-06, 'epoch': 6.36}\n",
      "{'loss': 0.0066, 'grad_norm': 0.0010415579890832305, 'learning_rate': 2.1047592340025456e-06, 'epoch': 6.37}\n",
      "{'loss': 0.0013, 'grad_norm': 0.0002715950249694288, 'learning_rate': 2.080538264980523e-06, 'epoch': 6.38}\n",
      "{'loss': 0.0062, 'grad_norm': 0.07029358297586441, 'learning_rate': 2.056441276588448e-06, 'epoch': 6.39}\n",
      "{'loss': 0.0054, 'grad_norm': 0.0004282960726413876, 'learning_rate': 2.0324686460691124e-06, 'epoch': 6.4}\n",
      "{'loss': 0.0012, 'grad_norm': 0.003077932633459568, 'learning_rate': 2.0086207487184504e-06, 'epoch': 6.41}\n",
      "{'loss': 0.0085, 'grad_norm': 0.012253433465957642, 'learning_rate': 1.984897957879687e-06, 'epoch': 6.42}\n",
      "{'loss': 0.0058, 'grad_norm': 0.0016586527926847339, 'learning_rate': 1.9613006449374715e-06, 'epoch': 6.43}\n",
      "{'loss': 0.0022, 'grad_norm': 0.026903340592980385, 'learning_rate': 1.937829179312076e-06, 'epoch': 6.44}\n"
     ]
    },
    {
     "data": {
      "application/vnd.jupyter.widget-view+json": {
       "model_id": "de88aee37c374d8ebecc8a0ff2977b68",
       "version_major": 2,
       "version_minor": 0
      },
      "text/plain": [
       "  0%|          | 0/5231 [00:00<?, ?it/s]"
      ]
     },
     "metadata": {},
     "output_type": "display_data"
    },
    {
     "name": "stdout",
     "output_type": "stream",
     "text": [
      "{'eval_loss': 0.044236920773983, 'eval_precision': 0.9846937674057124, 'eval_recall': 0.9876575289073665, 'eval_f1': 0.9861734214025492, 'eval_accuracy': 0.9932143645411677, 'eval_runtime': 115.48, 'eval_samples_per_second': 90.596, 'eval_steps_per_second': 45.298, 'epoch': 6.44}\n",
      "{'loss': 0.0014, 'grad_norm': 0.0037304668221622705, 'learning_rate': 1.9144839284536177e-06, 'epoch': 6.45}\n",
      "{'loss': 0.0011, 'grad_norm': 0.3985676169395447, 'learning_rate': 1.8912652578362857e-06, 'epoch': 6.46}\n",
      "{'loss': 0.006, 'grad_norm': 0.0027015123050659895, 'learning_rate': 1.8681735309526438e-06, 'epoch': 6.47}\n",
      "{'loss': 0.0019, 'grad_norm': 0.0003821970894932747, 'learning_rate': 1.8452091093079217e-06, 'epoch': 6.48}\n",
      "{'loss': 0.0053, 'grad_norm': 0.7266119122505188, 'learning_rate': 1.822372352414361e-06, 'epoch': 6.49}\n",
      "{'loss': 0.0022, 'grad_norm': 0.0018061378505080938, 'learning_rate': 1.7996636177855931e-06, 'epoch': 6.5}\n",
      "{'loss': 0.0021, 'grad_norm': 0.0001268090563826263, 'learning_rate': 1.7770832609310374e-06, 'epoch': 6.51}\n",
      "{'loss': 0.0039, 'grad_norm': 0.005315326154232025, 'learning_rate': 1.75463163535033e-06, 'epoch': 6.52}\n",
      "{'loss': 0.0045, 'grad_norm': 0.08299336582422256, 'learning_rate': 1.7323090925277986e-06, 'epoch': 6.53}\n",
      "{'loss': 0.0019, 'grad_norm': 0.00027873722137883306, 'learning_rate': 1.7101159819269585e-06, 'epoch': 6.54}\n",
      "{'loss': 0.0067, 'grad_norm': 0.003950648009777069, 'learning_rate': 1.6880526509850347e-06, 'epoch': 6.55}\n",
      "{'loss': 0.0013, 'grad_norm': 0.0017780810594558716, 'learning_rate': 1.6661194451075346e-06, 'epoch': 6.56}\n",
      "{'loss': 0.0034, 'grad_norm': 0.0010117064230144024, 'learning_rate': 1.6443167076628285e-06, 'epoch': 6.57}\n",
      "{'loss': 0.0047, 'grad_norm': 0.36911264061927795, 'learning_rate': 1.6226447799767775e-06, 'epoch': 6.58}\n",
      "{'loss': 0.006, 'grad_norm': 0.00010853680578293279, 'learning_rate': 1.6011040013274015e-06, 'epoch': 6.59}\n",
      "{'loss': 0.0016, 'grad_norm': 0.01202135905623436, 'learning_rate': 1.5796947089395475e-06, 'epoch': 6.6}\n",
      "{'loss': 0.0021, 'grad_norm': 0.0007119986112229526, 'learning_rate': 1.5584172379796247e-06, 'epoch': 6.61}\n",
      "{'loss': 0.0036, 'grad_norm': 0.31296756863594055, 'learning_rate': 1.5372719215503584e-06, 'epoch': 6.62}\n",
      "{'loss': 0.0013, 'grad_norm': 0.0039993878453969955, 'learning_rate': 1.5162590906855612e-06, 'epoch': 6.63}\n"
     ]
    }
   ],
   "source": [
    "trainer.train()\n",
    "\n"
   ]
  },
  {
   "cell_type": "markdown",
   "id": "dcb474aa",
   "metadata": {},
   "source": []
  },
  {
   "cell_type": "code",
   "execution_count": null,
   "id": "cbd2c9e5",
   "metadata": {},
   "outputs": [],
   "source": [
    "{'eval_loss': 0.044236920773983, 'eval_precision': 0.9846937674057124, 'eval_recall': 0.9876575289073665, 'eval_f1': 0.9861734214025492, 'eval_accuracy': 0.9932143645411677, 'eval_runtime': 115.48, 'eval_samples_per_second': 90.596, 'eval_steps_per_second': 45.298, 'epoch': 6.44}\n"
   ]
  }
 ],
 "metadata": {
  "kernelspec": {
   "display_name": "py10",
   "language": "python",
   "name": "python3"
  },
  "language_info": {
   "codemirror_mode": {
    "name": "ipython",
    "version": 3
   },
   "file_extension": ".py",
   "mimetype": "text/x-python",
   "name": "python",
   "nbconvert_exporter": "python",
   "pygments_lexer": "ipython3",
   "version": "3.12.6"
  }
 },
 "nbformat": 4,
 "nbformat_minor": 5
}
