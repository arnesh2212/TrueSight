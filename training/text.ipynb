{
 "cells": [
  {
   "cell_type": "code",
   "execution_count": 1,
   "metadata": {},
   "outputs": [
    {
     "name": "stderr",
     "output_type": "stream",
     "text": [
      "/usr/lib/python3.12/site-packages/tqdm/auto.py:21: TqdmWarning: IProgress not found. Please update jupyter and ipywidgets. See https://ipywidgets.readthedocs.io/en/stable/user_install.html\n",
      "  from .autonotebook import tqdm as notebook_tqdm\n",
      "2024-09-21 13:57:27.829353: E external/local_xla/xla/stream_executor/cuda/cuda_fft.cc:485] Unable to register cuFFT factory: Attempting to register factory for plugin cuFFT when one has already been registered\n",
      "2024-09-21 13:57:27.913210: E external/local_xla/xla/stream_executor/cuda/cuda_dnn.cc:8454] Unable to register cuDNN factory: Attempting to register factory for plugin cuDNN when one has already been registered\n",
      "2024-09-21 13:57:27.926945: E external/local_xla/xla/stream_executor/cuda/cuda_blas.cc:1452] Unable to register cuBLAS factory: Attempting to register factory for plugin cuBLAS when one has already been registered\n",
      "2024-09-21 13:57:28.019258: I tensorflow/core/platform/cpu_feature_guard.cc:210] This TensorFlow binary is optimized to use available CPU instructions in performance-critical operations.\n",
      "To enable the following instructions: AVX2 FMA, in other operations, rebuild TensorFlow with the appropriate compiler flags.\n",
      "2024-09-21 13:57:29.130300: W tensorflow/compiler/tf2tensorrt/utils/py_utils.cc:38] TF-TRT Warning: Could not find TensorRT\n"
     ]
    }
   ],
   "source": [
    "import uuid\n",
    "from functools import partial\n",
    "\n",
    "import evaluate\n",
    "import numpy as np\n",
    "from datasets import load_dataset\n",
    "from transformers import (\n",
    "    AutoModelForTokenClassification,\n",
    "    AutoTokenizer,\n",
    "    DataCollatorForTokenClassification,\n",
    "    Trainer,\n",
    "    TrainingArguments,\n",
    ")\n",
    "\n",
    "\n",
    "def is_subword(text, tokenized, tokenizer, index):\n",
    "    word = tokenizer.convert_ids_to_tokens(tokenized[\"input_ids\"][index])\n",
    "    start_ind, end_ind = tokenized[\"offset_mapping\"][index]\n",
    "    word_ref = text[start_ind:end_ind]\n",
    "    is_subword = len(word) != len(word_ref)\n",
    "    return is_subword\n",
    "\n",
    "\n",
    "def tokenize(example, labels2int, tokenizer, iob=True, ignore_subwords=True):\n",
    "\n",
    "    text, labels = example[\"source_text\"], example[\"privacy_mask\"]\n",
    "\n",
    "    i = 0\n",
    "    token_labels = []\n",
    "\n",
    "    tokenized = tokenizer(text, return_offsets_mapping=True, return_special_tokens_mask=True)\n",
    "    start_token_to_label = {\n",
    "        tokenized.char_to_token(label[\"start\"]): (label[\"start\"], label[\"end\"], label[\"label\"]) for label in labels\n",
    "    }\n",
    "    while i < len(tokenized[\"input_ids\"]):\n",
    "        if tokenized[\"special_tokens_mask\"][i] == 1:\n",
    "            token_labels.append(-100)\n",
    "            i += 1\n",
    "        elif i not in start_token_to_label:\n",
    "            if ignore_subwords and is_subword(text, tokenized, tokenizer, i):\n",
    "                token_labels.append(-100)\n",
    "            else:\n",
    "                token_labels.append(labels2int[\"O\"])\n",
    "            i += 1\n",
    "        else:\n",
    "            start, end, label = start_token_to_label[i]\n",
    "            start_token = tokenized.char_to_token(start)\n",
    "            assert start_token == i\n",
    "            j = start_token\n",
    "            while j < (len(tokenized[\"input_ids\"]) - 1) and tokenized.token_to_chars(j).start < end:\n",
    "                if j == start_token:\n",
    "                    if iob:\n",
    "                        token_labels.append(labels2int[\"B-\" + label])\n",
    "                    else:\n",
    "                        token_labels.append(labels2int[label])\n",
    "                elif ignore_subwords and is_subword(text, tokenized, tokenizer, j):\n",
    "                    token_labels.append(-100)\n",
    "                else:\n",
    "                    if iob:\n",
    "                        token_labels.append(labels2int[\"I-\" + label])\n",
    "                    else:\n",
    "                        token_labels.append(labels2int[label])\n",
    "\n",
    "                j += 1\n",
    "            i = j\n",
    "    tokenized[\"labels\"] = token_labels\n",
    "    return tokenized\n",
    "\n",
    "\n",
    "def compute_metrics(eval_pred, label_list, seqeval_metric):\n",
    "    predictions, labels = eval_pred\n",
    "    predictions = np.argmax(predictions, axis=2)\n",
    "\n",
    "    # Remove ignored index (special tokens)\n",
    "    true_predictions = [\n",
    "        [label_list[p] for (p, l) in zip(prediction, label) if l != -100]\n",
    "        for prediction, label in zip(predictions, labels)\n",
    "    ]\n",
    "    true_labels = [\n",
    "        [label_list[l] for (p, l) in zip(prediction, label) if l != -100]\n",
    "        for prediction, label in zip(predictions, labels)\n",
    "    ]\n",
    "\n",
    "    results = seqeval_metric.compute(predictions=true_predictions, references=true_labels)\n",
    "    results_flat = {f\"{k}_f1\": v[\"f1\"] for k, v in results.items() if isinstance(v, dict)}\n",
    "    results_flat.update(\n",
    "        {\n",
    "            \"precision\": results[\"overall_precision\"],\n",
    "            \"recall\": results[\"overall_recall\"],\n",
    "            \"f1\": results[\"overall_f1\"],\n",
    "            \"accuracy\": results[\"overall_accuracy\"],\n",
    "        }\n",
    "    )\n",
    "    return results_flat\n"
   ]
  },
  {
   "cell_type": "code",
   "execution_count": 2,
   "metadata": {},
   "outputs": [
    {
     "name": "stderr",
     "output_type": "stream",
     "text": [
      "/home/arnesh/.local/lib/python3.12/site-packages/transformers/tokenization_utils_base.py:1601: FutureWarning: `clean_up_tokenization_spaces` was not set. It will be set to `True` by default. This behavior will be depracted in transformers v4.45, and will be then set to `False` by default. For more details check this issue: https://github.com/huggingface/transformers/issues/31884\n",
      "  warnings.warn(\n",
      "Some weights of DistilBertForTokenClassification were not initialized from the model checkpoint at distilbert-base-cased and are newly initialized: ['classifier.bias', 'classifier.weight']\n",
      "You should probably TRAIN this model on a down-stream task to be able to use it for predictions and inference.\n",
      "Using the latest cached version of the dataset since ai4privacy/pii-masking-300k couldn't be found on the Hugging Face Hub\n",
      "Found the latest cached dataset configuration 'default' at /home/arnesh/.cache/huggingface/datasets/ai4privacy___pii-masking-300k/default/0.0.0/3b99ae5980049a0dff660f424916afa9954e809b (last modified on Sat Sep 21 12:03:45 2024).\n"
     ]
    }
   ],
   "source": [
    "labels = [\n",
    "    \"BOD\",\n",
    "    \"BUILDING\",\n",
    "    \"CARDISSUER\",\n",
    "    \"CITY\",\n",
    "    \"COUNTRY\",\n",
    "    \"DATE\",\n",
    "    \"DRIVERLICENSE\",\n",
    "    \"EMAIL\",\n",
    "    \"GEOCOORD\",\n",
    "    \"GIVENNAME1\",\n",
    "    \"GIVENNAME2\",\n",
    "    \"IDCARD\",\n",
    "    \"IP\",\n",
    "    \"LASTNAME1\",\n",
    "    \"LASTNAME2\",\n",
    "    \"LASTNAME3\",\n",
    "    \"PASS\",\n",
    "    \"PASSPORT\",\n",
    "    \"POSTCODE\",\n",
    "    \"SECADDRESS\",\n",
    "    \"SEX\",\n",
    "    \"SOCIALNUMBER\",\n",
    "    \"STATE\",\n",
    "    \"STREET\",\n",
    "    \"TEL\",\n",
    "    \"TIME\",\n",
    "    \"TITLE\",\n",
    "    \"USERNAME\",\n",
    "]\n",
    "\n",
    "labels = [f\"I-{label}\" for label in labels] + [f\"B-{label}\" for label in labels] + [\"O\"]\n",
    "label2id = {label: i for i, label in enumerate(labels)}\n",
    "id2label = {v: k for k, v in label2id.items()}\n",
    "pretrained_name = \"distilbert-base-cased\"\n",
    "tokenizer = AutoTokenizer.from_pretrained(pretrained_name)\n",
    "model = AutoModelForTokenClassification.from_pretrained(pretrained_name, num_labels=len(labels), id2label=id2label)\n",
    "\n",
    "ds = load_dataset(\"ai4privacy/pii-masking-300k\")\n",
    "ds = ds.filter(lambda x: x[\"language\"] == \"English\", num_proc=4)\n",
    "ds = ds.map(\n",
    "    partial(tokenize, labels2int=label2id, tokenizer=tokenizer, iob=True, ignore_subwords=True),\n",
    "    batched=False,\n",
    "    remove_columns=[\n",
    "        \"source_text\",\n",
    "        \"target_text\",\n",
    "        \"privacy_mask\",\n",
    "        \"span_labels\",\n",
    "        \"mbert_text_tokens\",\n",
    "        \"mbert_bio_labels\",\n",
    "        \"id\",\n",
    "        \"language\",\n",
    "        \"set\",\n",
    "    ],\n",
    "    num_proc=8,\n",
    ").remove_columns([\"offset_mapping\"])\n",
    "\n",
    "training_arguments = TrainingArguments(\n",
    "    output_dir=\"output\",\n",
    "    num_train_epochs=50,\n",
    "    per_device_train_batch_size=32,\n",
    "    per_device_eval_batch_size=32,\n",
    "    overwrite_output_dir=True,\n",
    "    warmup_ratio=0.2,\n",
    "    learning_rate=2e-5,\n",
    "    weight_decay=0.01,\n",
    "    save_strategy=\"epoch\",\n",
    "    eval_strategy=\"epoch\",\n",
    "    load_best_model_at_end=True,\n",
    "    lr_scheduler_type=\"cosine\",\n",
    "    warmup_steps=3000,\n",
    "    metric_for_best_model=\"f1\",\n",
    "    greater_is_better=True,\n",
    "    torch_compile=False,\n",
    ")\n",
    "trainer = Trainer(\n",
    "    model,\n",
    "    training_arguments,\n",
    "    train_dataset=ds[\"train\"],\n",
    "    eval_dataset=ds[\"validation\"],\n",
    "    data_collator=DataCollatorForTokenClassification(tokenizer),\n",
    "    tokenizer=tokenizer,\n",
    "    compute_metrics=partial(compute_metrics, label_list=labels, seqeval_metric=evaluate.load(\"seqeval\")),\n",
    ")\n"
   ]
  },
  {
   "cell_type": "code",
   "execution_count": 3,
   "metadata": {},
   "outputs": [
    {
     "name": "stderr",
     "output_type": "stream",
     "text": [
      "  1%|          | 500/46750 [02:25<3:31:26,  3.65it/s]"
     ]
    },
    {
     "name": "stdout",
     "output_type": "stream",
     "text": [
      "{'loss': 1.8906, 'grad_norm': 1.5857051610946655, 'learning_rate': 3.3333333333333333e-06, 'epoch': 0.53}\n"
     ]
    },
    {
     "name": "stderr",
     "output_type": "stream",
     "text": [
      "  2%|▏         | 935/46750 [04:30<3:11:14,  3.99it/s]/home/arnesh/.local/lib/python3.12/site-packages/seqeval/metrics/v1.py:57: UndefinedMetricWarning: Precision and F-score are ill-defined and being set to 0.0 in labels with no predicted samples. Use `zero_division` parameter to control this behavior.\n",
      "  _warn_prf(average, modifier, msg_start, len(result))\n",
      "                                                     \n",
      "  2%|▏         | 935/46750 [05:04<3:11:14,  3.99it/s]"
     ]
    },
    {
     "name": "stdout",
     "output_type": "stream",
     "text": [
      "{'eval_loss': 0.15687373280525208, 'eval_BOD_f1': 0.8350714561606798, 'eval_BUILDING_f1': 0.8203125, 'eval_CARDISSUER_f1': 0.0, 'eval_CITY_f1': 0.475298126064736, 'eval_COUNTRY_f1': 0.7111431662459431, 'eval_DATE_f1': 0.674775557486244, 'eval_DRIVERLICENSE_f1': 0.5127231295100645, 'eval_EMAIL_f1': 0.8675543097407148, 'eval_GEOCOORD_f1': 0.2532188841201717, 'eval_GIVENNAME1_f1': 0.42192853646598144, 'eval_GIVENNAME2_f1': 0.0, 'eval_IDCARD_f1': 0.3282051282051282, 'eval_IP_f1': 0.8661864221785637, 'eval_LASTNAME1_f1': 0.4767580452920143, 'eval_LASTNAME2_f1': 0.0, 'eval_LASTNAME3_f1': 0.0, 'eval_PASS_f1': 0.5112866817155756, 'eval_PASSPORT_f1': 0.5995800839832034, 'eval_POSTCODE_f1': 0.626850168787328, 'eval_SECADDRESS_f1': 0.14598540145985403, 'eval_SEX_f1': 0.7146829810901001, 'eval_SOCIALNUMBER_f1': 0.5713782164258018, 'eval_STATE_f1': 0.7562836624775583, 'eval_STREET_f1': 0.4586220953933958, 'eval_TEL_f1': 0.6178059666431759, 'eval_TIME_f1': 0.8856878551605656, 'eval_TITLE_f1': 0.5777281607591404, 'eval_USERNAME_f1': 0.6845261895241903, 'eval_precision': 0.5994996426018585, 'eval_recall': 0.656336815745197, 'eval_f1': 0.6266320488634028, 'eval_accuracy': 0.9604199026580101, 'eval_runtime': 33.5019, 'eval_samples_per_second': 237.181, 'eval_steps_per_second': 7.432, 'epoch': 1.0}\n"
     ]
    },
    {
     "name": "stderr",
     "output_type": "stream",
     "text": [
      "  2%|▏         | 1000/46750 [05:24<3:43:52,  3.41it/s] "
     ]
    },
    {
     "name": "stdout",
     "output_type": "stream",
     "text": [
      "{'loss': 0.2844, 'grad_norm': 1.108330488204956, 'learning_rate': 6.666666666666667e-06, 'epoch': 1.07}\n"
     ]
    },
    {
     "name": "stderr",
     "output_type": "stream",
     "text": [
      "  3%|▎         | 1500/46750 [07:49<3:45:12,  3.35it/s]"
     ]
    },
    {
     "name": "stdout",
     "output_type": "stream",
     "text": [
      "{'loss': 0.1285, 'grad_norm': 1.0395864248275757, 'learning_rate': 1e-05, 'epoch': 1.6}\n"
     ]
    },
    {
     "name": "stderr",
     "output_type": "stream",
     "text": [
      "  4%|▍         | 1870/46750 [09:37<3:16:44,  3.80it/s]/home/arnesh/.local/lib/python3.12/site-packages/seqeval/metrics/v1.py:57: UndefinedMetricWarning: Precision and F-score are ill-defined and being set to 0.0 in labels with no predicted samples. Use `zero_division` parameter to control this behavior.\n",
      "  _warn_prf(average, modifier, msg_start, len(result))\n",
      "                                                      \n",
      "  4%|▍         | 1870/46750 [10:09<3:16:44,  3.80it/s]"
     ]
    },
    {
     "name": "stdout",
     "output_type": "stream",
     "text": [
      "{'eval_loss': 0.06610789149999619, 'eval_BOD_f1': 0.9261772568373433, 'eval_BUILDING_f1': 0.9602430995188654, 'eval_CARDISSUER_f1': 0.0, 'eval_CITY_f1': 0.8779482482253264, 'eval_COUNTRY_f1': 0.9348101265822785, 'eval_DATE_f1': 0.8484136310223267, 'eval_DRIVERLICENSE_f1': 0.8279895140149224, 'eval_EMAIL_f1': 0.9721909056745585, 'eval_GEOCOORD_f1': 0.9339407744874715, 'eval_GIVENNAME1_f1': 0.6681931723563697, 'eval_GIVENNAME2_f1': 0.09256198347107437, 'eval_IDCARD_f1': 0.8298404153047491, 'eval_IP_f1': 0.9441786283891547, 'eval_LASTNAME1_f1': 0.5937172774869109, 'eval_LASTNAME2_f1': 0.0889487870619946, 'eval_LASTNAME3_f1': 0.0, 'eval_PASS_f1': 0.7784642541924095, 'eval_PASSPORT_f1': 0.8467238689547582, 'eval_POSTCODE_f1': 0.9356603282104714, 'eval_SECADDRESS_f1': 0.9211428571428572, 'eval_SEX_f1': 0.9386963896292706, 'eval_SOCIALNUMBER_f1': 0.8376383763837638, 'eval_STATE_f1': 0.9316109422492401, 'eval_STREET_f1': 0.881653746770026, 'eval_TEL_f1': 0.9200193892389724, 'eval_TIME_f1': 0.9368762151652624, 'eval_TITLE_f1': 0.8983094928478542, 'eval_USERNAME_f1': 0.8876264867743653, 'eval_precision': 0.8406629502411923, 'eval_recall': 0.876237430058301, 'eval_f1': 0.858081635390024, 'eval_accuracy': 0.9834005492706934, 'eval_runtime': 32.9522, 'eval_samples_per_second': 241.137, 'eval_steps_per_second': 7.556, 'epoch': 2.0}\n"
     ]
    },
    {
     "name": "stderr",
     "output_type": "stream",
     "text": [
      "  4%|▍         | 2000/46750 [10:50<3:28:13,  3.58it/s]  "
     ]
    },
    {
     "name": "stdout",
     "output_type": "stream",
     "text": [
      "{'loss': 0.0862, 'grad_norm': 0.9649495482444763, 'learning_rate': 1.3333333333333333e-05, 'epoch': 2.14}\n"
     ]
    },
    {
     "name": "stderr",
     "output_type": "stream",
     "text": [
      "  5%|▌         | 2500/46750 [13:14<3:50:02,  3.21it/s]"
     ]
    },
    {
     "name": "stdout",
     "output_type": "stream",
     "text": [
      "{'loss': 0.0691, 'grad_norm': 0.5306574106216431, 'learning_rate': 1.6666666666666667e-05, 'epoch': 2.67}\n"
     ]
    },
    {
     "name": "stderr",
     "output_type": "stream",
     "text": [
      "  6%|▌         | 2805/46750 [14:42<3:04:42,  3.97it/s]/home/arnesh/.local/lib/python3.12/site-packages/seqeval/metrics/v1.py:57: UndefinedMetricWarning: Precision and F-score are ill-defined and being set to 0.0 in labels with no predicted samples. Use `zero_division` parameter to control this behavior.\n",
      "  _warn_prf(average, modifier, msg_start, len(result))\n",
      "                                                      \n",
      "  6%|▌         | 2805/46750 [15:15<3:04:42,  3.97it/s]"
     ]
    },
    {
     "name": "stdout",
     "output_type": "stream",
     "text": [
      "{'eval_loss': 0.04948381334543228, 'eval_BOD_f1': 0.9475032010243278, 'eval_BUILDING_f1': 0.9759097898513582, 'eval_CARDISSUER_f1': 0.0, 'eval_CITY_f1': 0.9261418853255587, 'eval_COUNTRY_f1': 0.9516728624535314, 'eval_DATE_f1': 0.8861696072851452, 'eval_DRIVERLICENSE_f1': 0.8876068376068376, 'eval_EMAIL_f1': 0.9790954009882175, 'eval_GEOCOORD_f1': 0.9515011547344111, 'eval_GIVENNAME1_f1': 0.74565560821485, 'eval_GIVENNAME2_f1': 0.4069431051108968, 'eval_IDCARD_f1': 0.8401796108431732, 'eval_IP_f1': 0.9762399077277971, 'eval_LASTNAME1_f1': 0.685282140779523, 'eval_LASTNAME2_f1': 0.3489813994685562, 'eval_LASTNAME3_f1': 0.0, 'eval_PASS_f1': 0.8436754176610978, 'eval_PASSPORT_f1': 0.8673311184939091, 'eval_POSTCODE_f1': 0.96248382923674, 'eval_SECADDRESS_f1': 0.9675174013921114, 'eval_SEX_f1': 0.9636184857423796, 'eval_SOCIALNUMBER_f1': 0.8945777061076396, 'eval_STATE_f1': 0.9594829729057918, 'eval_STREET_f1': 0.9249370277078085, 'eval_TEL_f1': 0.9356181150550795, 'eval_TIME_f1': 0.9549431892386052, 'eval_TITLE_f1': 0.9395518499218344, 'eval_USERNAME_f1': 0.9295314202687976, 'eval_precision': 0.8824279083923001, 'eval_recall': 0.9075987009429902, 'eval_f1': 0.8948363327739521, 'eval_accuracy': 0.9871124867453374, 'eval_runtime': 32.8889, 'eval_samples_per_second': 241.601, 'eval_steps_per_second': 7.571, 'epoch': 3.0}\n"
     ]
    },
    {
     "name": "stderr",
     "output_type": "stream",
     "text": [
      "  6%|▋         | 3000/46750 [16:13<3:47:03,  3.21it/s]  "
     ]
    },
    {
     "name": "stdout",
     "output_type": "stream",
     "text": [
      "{'loss': 0.0561, 'grad_norm': 0.5773890614509583, 'learning_rate': 2e-05, 'epoch': 3.21}\n"
     ]
    },
    {
     "name": "stderr",
     "output_type": "stream",
     "text": [
      "  7%|▋         | 3500/46750 [18:36<3:31:31,  3.41it/s]"
     ]
    },
    {
     "name": "stdout",
     "output_type": "stream",
     "text": [
      "{'loss': 0.0491, 'grad_norm': 0.6346962451934814, 'learning_rate': 1.9993555236433216e-05, 'epoch': 3.74}\n"
     ]
    },
    {
     "name": "stderr",
     "output_type": "stream",
     "text": [
      "  8%|▊         | 3740/46750 [19:47<2:57:59,  4.03it/s]/home/arnesh/.local/lib/python3.12/site-packages/seqeval/metrics/v1.py:57: UndefinedMetricWarning: Precision and F-score are ill-defined and being set to 0.0 in labels with no predicted samples. Use `zero_division` parameter to control this behavior.\n",
      "  _warn_prf(average, modifier, msg_start, len(result))\n",
      "                                                      \n",
      "  8%|▊         | 3740/46750 [20:20<2:57:59,  4.03it/s]"
     ]
    },
    {
     "name": "stdout",
     "output_type": "stream",
     "text": [
      "{'eval_loss': 0.044348739087581635, 'eval_BOD_f1': 0.9469387755102041, 'eval_BUILDING_f1': 0.9762573398008679, 'eval_CARDISSUER_f1': 0.0, 'eval_CITY_f1': 0.9373639661426844, 'eval_COUNTRY_f1': 0.9634990560100692, 'eval_DATE_f1': 0.8933102652825837, 'eval_DRIVERLICENSE_f1': 0.8933391380060948, 'eval_EMAIL_f1': 0.9804591159172832, 'eval_GEOCOORD_f1': 0.9699769053117783, 'eval_GIVENNAME1_f1': 0.7837419924895075, 'eval_GIVENNAME2_f1': 0.4580645161290323, 'eval_IDCARD_f1': 0.8880714661061481, 'eval_IP_f1': 0.9756992205410363, 'eval_LASTNAME1_f1': 0.7258873069981954, 'eval_LASTNAME2_f1': 0.44247787610619477, 'eval_LASTNAME3_f1': 0.028985507246376812, 'eval_PASS_f1': 0.876645240281604, 'eval_PASSPORT_f1': 0.9094600081201787, 'eval_POSTCODE_f1': 0.9624254988338947, 'eval_SECADDRESS_f1': 0.9736995908825248, 'eval_SEX_f1': 0.9677578144228401, 'eval_SOCIALNUMBER_f1': 0.906312826698834, 'eval_STATE_f1': 0.9662195727769498, 'eval_STREET_f1': 0.9523318732285493, 'eval_TEL_f1': 0.9380872079017103, 'eval_TIME_f1': 0.9632749769645913, 'eval_TITLE_f1': 0.9480153649167734, 'eval_USERNAME_f1': 0.9327836529844059, 'eval_precision': 0.8991266542084588, 'eval_recall': 0.9224869898657901, 'eval_f1': 0.9106570358067132, 'eval_accuracy': 0.9885305302749766, 'eval_runtime': 33.1323, 'eval_samples_per_second': 239.827, 'eval_steps_per_second': 7.515, 'epoch': 4.0}\n"
     ]
    },
    {
     "name": "stderr",
     "output_type": "stream",
     "text": [
      "  9%|▊         | 4000/46750 [21:37<3:42:58,  3.20it/s]  "
     ]
    },
    {
     "name": "stdout",
     "output_type": "stream",
     "text": [
      "{'loss': 0.0399, 'grad_norm': 0.24771149456501007, 'learning_rate': 1.9974229252728345e-05, 'epoch': 4.28}\n"
     ]
    },
    {
     "name": "stderr",
     "output_type": "stream",
     "text": [
      " 10%|▉         | 4500/46750 [24:03<3:20:23,  3.51it/s]"
     ]
    },
    {
     "name": "stdout",
     "output_type": "stream",
     "text": [
      "{'loss': 0.0374, 'grad_norm': 0.41228941082954407, 'learning_rate': 1.9942046959164516e-05, 'epoch': 4.81}\n"
     ]
    },
    {
     "name": "stderr",
     "output_type": "stream",
     "text": [
      " 10%|█         | 4675/46750 [24:53<2:50:04,  4.12it/s]/home/arnesh/.local/lib/python3.12/site-packages/seqeval/metrics/v1.py:57: UndefinedMetricWarning: Precision and F-score are ill-defined and being set to 0.0 in labels with no predicted samples. Use `zero_division` parameter to control this behavior.\n",
      "  _warn_prf(average, modifier, msg_start, len(result))\n",
      "                                                      \n",
      " 10%|█         | 4675/46750 [25:26<2:50:04,  4.12it/s]"
     ]
    },
    {
     "name": "stdout",
     "output_type": "stream",
     "text": [
      "{'eval_loss': 0.04065316915512085, 'eval_BOD_f1': 0.9471184977336499, 'eval_BUILDING_f1': 0.9781209781209781, 'eval_CARDISSUER_f1': 0.0, 'eval_CITY_f1': 0.9480137322216774, 'eval_COUNTRY_f1': 0.9691823899371069, 'eval_DATE_f1': 0.9054209919261822, 'eval_DRIVERLICENSE_f1': 0.9165239726027398, 'eval_EMAIL_f1': 0.9791587722622206, 'eval_GEOCOORD_f1': 0.928888888888889, 'eval_GIVENNAME1_f1': 0.8139759036144578, 'eval_GIVENNAME2_f1': 0.5938494167550371, 'eval_IDCARD_f1': 0.9181969949916527, 'eval_IP_f1': 0.9741122565864834, 'eval_LASTNAME1_f1': 0.7556368068251065, 'eval_LASTNAME2_f1': 0.5245441795231416, 'eval_LASTNAME3_f1': 0.1181818181818182, 'eval_PASS_f1': 0.8806835520292952, 'eval_PASSPORT_f1': 0.9226464121527084, 'eval_POSTCODE_f1': 0.9737532808398951, 'eval_SECADDRESS_f1': 0.9748096074985355, 'eval_SEX_f1': 0.9734557181840734, 'eval_SOCIALNUMBER_f1': 0.929024583663759, 'eval_STATE_f1': 0.9745635910224438, 'eval_STREET_f1': 0.9527458492975734, 'eval_TEL_f1': 0.9497536945812808, 'eval_TIME_f1': 0.9617010036978342, 'eval_TITLE_f1': 0.955981356809943, 'eval_USERNAME_f1': 0.9410698096101542, 'eval_precision': 0.9170321708047532, 'eval_recall': 0.9285323003482412, 'eval_f1': 0.9227464056226852, 'eval_accuracy': 0.9897514126721526, 'eval_runtime': 32.9968, 'eval_samples_per_second': 240.811, 'eval_steps_per_second': 7.546, 'epoch': 5.0}\n"
     ]
    },
    {
     "name": "stderr",
     "output_type": "stream",
     "text": [
      " 11%|█         | 5000/46750 [27:01<3:23:08,  3.43it/s]  "
     ]
    },
    {
     "name": "stdout",
     "output_type": "stream",
     "text": [
      "{'loss': 0.0337, 'grad_norm': 0.34941795468330383, 'learning_rate': 1.989704983719635e-05, 'epoch': 5.35}\n"
     ]
    },
    {
     "name": "stderr",
     "output_type": "stream",
     "text": [
      " 12%|█▏        | 5500/46750 [29:26<3:11:09,  3.60it/s]"
     ]
    },
    {
     "name": "stdout",
     "output_type": "stream",
     "text": [
      "{'loss': 0.0315, 'grad_norm': 0.505343496799469, 'learning_rate': 1.98392958859863e-05, 'epoch': 5.88}\n"
     ]
    },
    {
     "name": "stderr",
     "output_type": "stream",
     "text": [
      " 12%|█▏        | 5610/46750 [29:58<2:54:09,  3.94it/s]/home/arnesh/.local/lib/python3.12/site-packages/seqeval/metrics/v1.py:57: UndefinedMetricWarning: Precision and F-score are ill-defined and being set to 0.0 in labels with no predicted samples. Use `zero_division` parameter to control this behavior.\n",
      "  _warn_prf(average, modifier, msg_start, len(result))\n",
      "                                                      \n",
      " 12%|█▏        | 5610/46750 [30:31<2:54:09,  3.94it/s]"
     ]
    },
    {
     "name": "stdout",
     "output_type": "stream",
     "text": [
      "{'eval_loss': 0.042270295321941376, 'eval_BOD_f1': 0.9576070583171938, 'eval_BUILDING_f1': 0.9799485861182519, 'eval_CARDISSUER_f1': 0.0, 'eval_CITY_f1': 0.9577187807276302, 'eval_COUNTRY_f1': 0.9653870358716173, 'eval_DATE_f1': 0.8843689049874616, 'eval_DRIVERLICENSE_f1': 0.8862973760932945, 'eval_EMAIL_f1': 0.9823696682464456, 'eval_GEOCOORD_f1': 0.9675925925925926, 'eval_GIVENNAME1_f1': 0.8221667045196457, 'eval_GIVENNAME2_f1': 0.6606170598911071, 'eval_IDCARD_f1': 0.9118416137467314, 'eval_IP_f1': 0.977194194885971, 'eval_LASTNAME1_f1': 0.7631018321261184, 'eval_LASTNAME2_f1': 0.546225614927905, 'eval_LASTNAME3_f1': 0.4252873563218391, 'eval_PASS_f1': 0.8856968215158925, 'eval_PASSPORT_f1': 0.9075777485764345, 'eval_POSTCODE_f1': 0.9709543568464729, 'eval_SECADDRESS_f1': 0.9772329246935202, 'eval_SEX_f1': 0.9730538922155688, 'eval_SOCIALNUMBER_f1': 0.9207304836443909, 'eval_STATE_f1': 0.9741422178020885, 'eval_STREET_f1': 0.9604753293722551, 'eval_TEL_f1': 0.9534883720930233, 'eval_TIME_f1': 0.9633660737987788, 'eval_TITLE_f1': 0.9573633272299241, 'eval_USERNAME_f1': 0.9479642139857586, 'eval_precision': 0.9190707767422936, 'eval_recall': 0.9280431975583989, 'eval_f1': 0.9235351952261821, 'eval_accuracy': 0.9897627873528717, 'eval_runtime': 32.9341, 'eval_samples_per_second': 241.27, 'eval_steps_per_second': 7.561, 'epoch': 6.0}\n"
     ]
    },
    {
     "name": "stderr",
     "output_type": "stream",
     "text": [
      " 13%|█▎        | 6000/46750 [32:26<2:55:06,  3.88it/s]  "
     ]
    },
    {
     "name": "stdout",
     "output_type": "stream",
     "text": [
      "{'loss': 0.0248, 'grad_norm': 0.4960438013076782, 'learning_rate': 1.9768859547646476e-05, 'epoch': 6.42}\n"
     ]
    },
    {
     "name": "stderr",
     "output_type": "stream",
     "text": [
      " 14%|█▍        | 6500/46750 [34:51<3:05:17,  3.62it/s]"
     ]
    },
    {
     "name": "stdout",
     "output_type": "stream",
     "text": [
      "{'loss': 0.0253, 'grad_norm': 0.35618138313293457, 'learning_rate': 1.9685831611286312e-05, 'epoch': 6.95}\n"
     ]
    },
    {
     "name": "stderr",
     "output_type": "stream",
     "text": [
      " 14%|█▍        | 6545/46750 [35:03<2:49:04,  3.96it/s]/home/arnesh/.local/lib/python3.12/site-packages/seqeval/metrics/v1.py:57: UndefinedMetricWarning: Precision and F-score are ill-defined and being set to 0.0 in labels with no predicted samples. Use `zero_division` parameter to control this behavior.\n",
      "  _warn_prf(average, modifier, msg_start, len(result))\n",
      "                                                      \n",
      " 14%|█▍        | 6545/46750 [35:36<2:49:04,  3.96it/s]"
     ]
    },
    {
     "name": "stdout",
     "output_type": "stream",
     "text": [
      "{'eval_loss': 0.044187162071466446, 'eval_BOD_f1': 0.9543604028283694, 'eval_BUILDING_f1': 0.9710108394252585, 'eval_CARDISSUER_f1': 0.0, 'eval_CITY_f1': 0.94564152791381, 'eval_COUNTRY_f1': 0.9580505860579889, 'eval_DATE_f1': 0.9009843659525187, 'eval_DRIVERLICENSE_f1': 0.9208163265306123, 'eval_EMAIL_f1': 0.982362981225109, 'eval_GEOCOORD_f1': 0.9744779582366588, 'eval_GIVENNAME1_f1': 0.8065023597273204, 'eval_GIVENNAME2_f1': 0.6624737945492662, 'eval_IDCARD_f1': 0.9254122938530734, 'eval_IP_f1': 0.978440366972477, 'eval_LASTNAME1_f1': 0.7690561755248723, 'eval_LASTNAME2_f1': 0.6041131105398458, 'eval_LASTNAME3_f1': 0.20689655172413793, 'eval_PASS_f1': 0.8869300911854103, 'eval_PASSPORT_f1': 0.933501153765471, 'eval_POSTCODE_f1': 0.9619537275064268, 'eval_SECADDRESS_f1': 0.971627099015634, 'eval_SEX_f1': 0.9650281242357543, 'eval_SOCIALNUMBER_f1': 0.9253616200578592, 'eval_STATE_f1': 0.9716399506781751, 'eval_STREET_f1': 0.946487446107025, 'eval_TEL_f1': 0.9547038327526132, 'eval_TIME_f1': 0.9619692628288617, 'eval_TITLE_f1': 0.9483282674772037, 'eval_USERNAME_f1': 0.9452898550724638, 'eval_precision': 0.9119381969022339, 'eval_recall': 0.9376296122393082, 'eval_f1': 0.924605471312266, 'eval_accuracy': 0.9897413018448469, 'eval_runtime': 33.1073, 'eval_samples_per_second': 240.007, 'eval_steps_per_second': 7.521, 'epoch': 7.0}\n"
     ]
    },
    {
     "name": "stderr",
     "output_type": "stream",
     "text": [
      " 15%|█▍        | 7000/46750 [37:49<2:56:39,  3.75it/s]  "
     ]
    },
    {
     "name": "stdout",
     "output_type": "stream",
     "text": [
      "{'loss': 0.0211, 'grad_norm': 0.2956547737121582, 'learning_rate': 1.959031909598966e-05, 'epoch': 7.49}\n"
     ]
    },
    {
     "name": "stderr",
     "output_type": "stream",
     "text": [
      " 16%|█▌        | 7480/46750 [40:09<2:55:31,  3.73it/s]/home/arnesh/.local/lib/python3.12/site-packages/seqeval/metrics/v1.py:57: UndefinedMetricWarning: Precision and F-score are ill-defined and being set to 0.0 in labels with no predicted samples. Use `zero_division` parameter to control this behavior.\n",
      "  _warn_prf(average, modifier, msg_start, len(result))\n",
      "                                                      \n",
      " 16%|█▌        | 7480/46750 [40:42<2:55:31,  3.73it/s]"
     ]
    },
    {
     "name": "stdout",
     "output_type": "stream",
     "text": [
      "{'eval_loss': 0.04365336149930954, 'eval_BOD_f1': 0.9437609841827768, 'eval_BUILDING_f1': 0.9808526933877968, 'eval_CARDISSUER_f1': 0.0, 'eval_CITY_f1': 0.9558823529411765, 'eval_COUNTRY_f1': 0.9631710362047441, 'eval_DATE_f1': 0.8939686036904434, 'eval_DRIVERLICENSE_f1': 0.9211843202668891, 'eval_EMAIL_f1': 0.9813546423135464, 'eval_GEOCOORD_f1': 0.9675925925925926, 'eval_GIVENNAME1_f1': 0.8369898560981364, 'eval_GIVENNAME2_f1': 0.6915725456125108, 'eval_IDCARD_f1': 0.9266873545384019, 'eval_IP_f1': 0.9770957398076042, 'eval_LASTNAME1_f1': 0.7831687419493345, 'eval_LASTNAME2_f1': 0.6102449888641426, 'eval_LASTNAME3_f1': 0.3882783882783883, 'eval_PASS_f1': 0.8968883465527762, 'eval_PASSPORT_f1': 0.9133216986620127, 'eval_POSTCODE_f1': 0.9766476388168137, 'eval_SECADDRESS_f1': 0.9795441262419637, 'eval_SEX_f1': 0.9715838893007166, 'eval_SOCIALNUMBER_f1': 0.929024583663759, 'eval_STATE_f1': 0.9759125900173826, 'eval_STREET_f1': 0.9545686574783052, 'eval_TEL_f1': 0.9539308963445168, 'eval_TIME_f1': 0.9612852251777718, 'eval_TITLE_f1': 0.9526490913744561, 'eval_USERNAME_f1': 0.9467242620590353, 'eval_precision': 0.9205681119311193, 'eval_recall': 0.9371013812262785, 'eval_f1': 0.9287611734822485, 'eval_accuracy': 0.989943518390963, 'eval_runtime': 33.0407, 'eval_samples_per_second': 240.491, 'eval_steps_per_second': 7.536, 'epoch': 8.0}\n"
     ]
    },
    {
     "name": "stderr",
     "output_type": "stream",
     "text": [
      " 16%|█▌        | 7500/46750 [40:49<3:22:47,  3.23it/s]  "
     ]
    },
    {
     "name": "stdout",
     "output_type": "stream",
     "text": [
      "{'loss': 0.0203, 'grad_norm': 1.1502939462661743, 'learning_rate': 1.9482445112872265e-05, 'epoch': 8.02}\n"
     ]
    },
    {
     "name": "stderr",
     "output_type": "stream",
     "text": [
      " 17%|█▋        | 8000/46750 [43:14<2:58:01,  3.63it/s]"
     ]
    },
    {
     "name": "stdout",
     "output_type": "stream",
     "text": [
      "{'loss': 0.017, 'grad_norm': 0.3819848299026489, 'learning_rate': 1.9362348706397374e-05, 'epoch': 8.56}\n"
     ]
    },
    {
     "name": "stderr",
     "output_type": "stream",
     "text": [
      " 18%|█▊        | 8415/46750 [45:14<3:03:57,  3.47it/s]/home/arnesh/.local/lib/python3.12/site-packages/seqeval/metrics/v1.py:57: UndefinedMetricWarning: Precision and F-score are ill-defined and being set to 0.0 in labels with no predicted samples. Use `zero_division` parameter to control this behavior.\n",
      "  _warn_prf(average, modifier, msg_start, len(result))\n",
      "                                                      \n",
      " 18%|█▊        | 8415/46750 [45:48<3:03:57,  3.47it/s]"
     ]
    },
    {
     "name": "stdout",
     "output_type": "stream",
     "text": [
      "{'eval_loss': 0.04294256865978241, 'eval_BOD_f1': 0.9527288354103995, 'eval_BUILDING_f1': 0.9785056294779938, 'eval_CARDISSUER_f1': 0.0, 'eval_CITY_f1': 0.9609240599655934, 'eval_COUNTRY_f1': 0.9696780243826195, 'eval_DATE_f1': 0.9109609168380841, 'eval_DRIVERLICENSE_f1': 0.9324867724867725, 'eval_EMAIL_f1': 0.9864632983794089, 'eval_GEOCOORD_f1': 0.960919540229885, 'eval_GIVENNAME1_f1': 0.8376068376068376, 'eval_GIVENNAME2_f1': 0.6976744186046512, 'eval_IDCARD_f1': 0.9246268656716418, 'eval_IP_f1': 0.9813062543272559, 'eval_LASTNAME1_f1': 0.7864693446088795, 'eval_LASTNAME2_f1': 0.6236722306525039, 'eval_LASTNAME3_f1': 0.445993031358885, 'eval_PASS_f1': 0.8958076448828607, 'eval_PASSPORT_f1': 0.9301860372074415, 'eval_POSTCODE_f1': 0.9753054328047829, 'eval_SECADDRESS_f1': 0.9748978400467017, 'eval_SEX_f1': 0.9751861042183623, 'eval_SOCIALNUMBER_f1': 0.940688018979834, 'eval_STATE_f1': 0.9776230730979611, 'eval_STREET_f1': 0.9653567735263702, 'eval_TEL_f1': 0.9620441577772265, 'eval_TIME_f1': 0.9634691195795007, 'eval_TITLE_f1': 0.9589889089502192, 'eval_USERNAME_f1': 0.9478621685008118, 'eval_precision': 0.927971582462982, 'eval_recall': 0.9404077160856126, 'eval_f1': 0.9341482611526242, 'eval_accuracy': 0.9910140022319651, 'eval_runtime': 33.175, 'eval_samples_per_second': 239.517, 'eval_steps_per_second': 7.506, 'epoch': 9.0}\n"
     ]
    },
    {
     "name": "stderr",
     "output_type": "stream",
     "text": [
      " 18%|█▊        | 8500/46750 [46:13<3:26:57,  3.08it/s]  "
     ]
    },
    {
     "name": "stdout",
     "output_type": "stream",
     "text": [
      "{'loss': 0.0152, 'grad_norm': 0.18649035692214966, 'learning_rate': 1.9230184675153974e-05, 'epoch': 9.09}\n"
     ]
    },
    {
     "name": "stderr",
     "output_type": "stream",
     "text": [
      " 19%|█▉        | 9000/46750 [48:40<3:00:10,  3.49it/s]"
     ]
    },
    {
     "name": "stdout",
     "output_type": "stream",
     "text": [
      "{'loss': 0.014, 'grad_norm': 0.20294900238513947, 'learning_rate': 1.9086123372328748e-05, 'epoch': 9.63}\n"
     ]
    },
    {
     "name": "stderr",
     "output_type": "stream",
     "text": [
      " 20%|██        | 9350/46750 [50:21<3:01:06,  3.44it/s]/home/arnesh/.local/lib/python3.12/site-packages/seqeval/metrics/v1.py:57: UndefinedMetricWarning: Precision and F-score are ill-defined and being set to 0.0 in labels with no predicted samples. Use `zero_division` parameter to control this behavior.\n",
      "  _warn_prf(average, modifier, msg_start, len(result))\n",
      "                                                      \n",
      " 20%|██        | 9350/46750 [50:54<3:01:06,  3.44it/s]"
     ]
    },
    {
     "name": "stdout",
     "output_type": "stream",
     "text": [
      "{'eval_loss': 0.045545462518930435, 'eval_BOD_f1': 0.9569500963803812, 'eval_BUILDING_f1': 0.9785823559408464, 'eval_CARDISSUER_f1': 0.0, 'eval_CITY_f1': 0.9599413776257939, 'eval_COUNTRY_f1': 0.9679027734496728, 'eval_DATE_f1': 0.9163046626122212, 'eval_DRIVERLICENSE_f1': 0.9255784865540962, 'eval_EMAIL_f1': 0.9830766305381251, 'eval_GEOCOORD_f1': 0.9629629629629629, 'eval_GIVENNAME1_f1': 0.845984866975836, 'eval_GIVENNAME2_f1': 0.7146974063400576, 'eval_IDCARD_f1': 0.9206762028608583, 'eval_IP_f1': 0.9820193637621023, 'eval_LASTNAME1_f1': 0.798440065681445, 'eval_LASTNAME2_f1': 0.6577974870657798, 'eval_LASTNAME3_f1': 0.5813333333333333, 'eval_PASS_f1': 0.9034819792302994, 'eval_PASSPORT_f1': 0.9305954825462013, 'eval_POSTCODE_f1': 0.9766233766233767, 'eval_SECADDRESS_f1': 0.9767171129220024, 'eval_SEX_f1': 0.9752352649826647, 'eval_SOCIALNUMBER_f1': 0.9304959000390473, 'eval_STATE_f1': 0.9774473358116481, 'eval_STREET_f1': 0.9603705609881625, 'eval_TEL_f1': 0.9575848303393214, 'eval_TIME_f1': 0.9598850124134327, 'eval_TITLE_f1': 0.9548717948717949, 'eval_USERNAME_f1': 0.9440258342303552, 'eval_precision': 0.9253104070314149, 'eval_recall': 0.9433227687130727, 'eval_f1': 0.9342297743719907, 'eval_accuracy': 0.990699302732072, 'eval_runtime': 32.9763, 'eval_samples_per_second': 240.961, 'eval_steps_per_second': 7.551, 'epoch': 10.0}\n"
     ]
    },
    {
     "name": "stderr",
     "output_type": "stream",
     "text": [
      " 20%|██        | 9500/46750 [51:39<3:05:04,  3.35it/s]  "
     ]
    },
    {
     "name": "stdout",
     "output_type": "stream",
     "text": [
      "{'loss': 0.0127, 'grad_norm': 0.3332175314426422, 'learning_rate': 1.8930350486128855e-05, 'epoch': 10.16}\n"
     ]
    },
    {
     "name": "stderr",
     "output_type": "stream",
     "text": [
      " 21%|██▏       | 10000/46750 [54:04<2:45:34,  3.70it/s]"
     ]
    },
    {
     "name": "stdout",
     "output_type": "stream",
     "text": [
      "{'loss': 0.0121, 'grad_norm': 0.3113662302494049, 'learning_rate': 1.8763066800438638e-05, 'epoch': 10.7}\n"
     ]
    },
    {
     "name": "stderr",
     "output_type": "stream",
     "text": [
      " 22%|██▏       | 10285/46750 [55:26<2:36:51,  3.87it/s]/home/arnesh/.local/lib/python3.12/site-packages/seqeval/metrics/v1.py:57: UndefinedMetricWarning: Precision and F-score are ill-defined and being set to 0.0 in labels with no predicted samples. Use `zero_division` parameter to control this behavior.\n",
      "  _warn_prf(average, modifier, msg_start, len(result))\n",
      "                                                       \n",
      " 22%|██▏       | 10285/46750 [55:59<2:36:51,  3.87it/s]"
     ]
    },
    {
     "name": "stdout",
     "output_type": "stream",
     "text": [
      "{'eval_loss': 0.044887855648994446, 'eval_BOD_f1': 0.9562216950614622, 'eval_BUILDING_f1': 0.9788103140158284, 'eval_CARDISSUER_f1': 0.0, 'eval_CITY_f1': 0.9555446995603321, 'eval_COUNTRY_f1': 0.9676405906377631, 'eval_DATE_f1': 0.9005847953216375, 'eval_DRIVERLICENSE_f1': 0.9341093327790481, 'eval_EMAIL_f1': 0.9804219730089337, 'eval_GEOCOORD_f1': 0.9722222222222222, 'eval_GIVENNAME1_f1': 0.8422090729783037, 'eval_GIVENNAME2_f1': 0.718296224588577, 'eval_IDCARD_f1': 0.928153875165001, 'eval_IP_f1': 0.984295612009238, 'eval_LASTNAME1_f1': 0.7978853192354616, 'eval_LASTNAME2_f1': 0.6583072100313481, 'eval_LASTNAME3_f1': 0.5984251968503937, 'eval_PASS_f1': 0.9041769041769042, 'eval_PASSPORT_f1': 0.9373983739837399, 'eval_POSTCODE_f1': 0.9758253184299454, 'eval_SECADDRESS_f1': 0.9784004670169294, 'eval_SEX_f1': 0.9735867686990868, 'eval_SOCIALNUMBER_f1': 0.9429358520267612, 'eval_STATE_f1': 0.9775561097256857, 'eval_STREET_f1': 0.9638802889576884, 'eval_TEL_f1': 0.9589108910891089, 'eval_TIME_f1': 0.9680570221752903, 'eval_TITLE_f1': 0.9594455852156057, 'eval_USERNAME_f1': 0.9484460694698356, 'eval_precision': 0.9313607864385789, 'eval_recall': 0.9416011268928278, 'eval_f1': 0.9364529623504232, 'eval_accuracy': 0.9910898334367587, 'eval_runtime': 33.0866, 'eval_samples_per_second': 240.158, 'eval_steps_per_second': 7.526, 'epoch': 11.0}\n"
     ]
    },
    {
     "name": "stderr",
     "output_type": "stream",
     "text": [
      " 22%|██▏       | 10500/46750 [57:03<2:46:19,  3.63it/s]  "
     ]
    },
    {
     "name": "stdout",
     "output_type": "stream",
     "text": [
      "{'loss': 0.0105, 'grad_norm': 0.0853949710726738, 'learning_rate': 1.8584487936018663e-05, 'epoch': 11.23}\n"
     ]
    },
    {
     "name": "stderr",
     "output_type": "stream",
     "text": [
      " 24%|██▎       | 11000/46750 [59:28<2:35:33,  3.83it/s]"
     ]
    },
    {
     "name": "stdout",
     "output_type": "stream",
     "text": [
      "{'loss': 0.0092, 'grad_norm': 0.2126826047897339, 'learning_rate': 1.8394844072580772e-05, 'epoch': 11.76}\n"
     ]
    },
    {
     "name": "stderr",
     "output_type": "stream",
     "text": [
      " 24%|██▍       | 11220/46750 [1:00:32<2:26:00,  4.06it/s]/home/arnesh/.local/lib/python3.12/site-packages/seqeval/metrics/v1.py:57: UndefinedMetricWarning: Precision and F-score are ill-defined and being set to 0.0 in labels with no predicted samples. Use `zero_division` parameter to control this behavior.\n",
      "  _warn_prf(average, modifier, msg_start, len(result))\n",
      "                                                         \n",
      " 24%|██▍       | 11220/46750 [1:01:05<2:26:00,  4.06it/s]"
     ]
    },
    {
     "name": "stdout",
     "output_type": "stream",
     "text": [
      "{'eval_loss': 0.047881633043289185, 'eval_BOD_f1': 0.9603789836347977, 'eval_BUILDING_f1': 0.9818460751725901, 'eval_CARDISSUER_f1': 0.0, 'eval_CITY_f1': 0.9626168224299065, 'eval_COUNTRY_f1': 0.9695064445143037, 'eval_DATE_f1': 0.9105309474919331, 'eval_DRIVERLICENSE_f1': 0.933870284018652, 'eval_EMAIL_f1': 0.9830766305381251, 'eval_GEOCOORD_f1': 0.963302752293578, 'eval_GIVENNAME1_f1': 0.8321067157313707, 'eval_GIVENNAME2_f1': 0.7026143790849674, 'eval_IDCARD_f1': 0.9266089574708318, 'eval_IP_f1': 0.9852330410706046, 'eval_LASTNAME1_f1': 0.7800171526586622, 'eval_LASTNAME2_f1': 0.6490939044481054, 'eval_LASTNAME3_f1': 0.6029850746268657, 'eval_PASS_f1': 0.9000609384521633, 'eval_PASSPORT_f1': 0.9328015952143568, 'eval_POSTCODE_f1': 0.9768650896802703, 'eval_SECADDRESS_f1': 0.9784758580570099, 'eval_SEX_f1': 0.9740163325909429, 'eval_SOCIALNUMBER_f1': 0.941945710322964, 'eval_STATE_f1': 0.9751737835153923, 'eval_STREET_f1': 0.9658914728682171, 'eval_TEL_f1': 0.9653970624844411, 'eval_TIME_f1': 0.9682351390536443, 'eval_TITLE_f1': 0.9575508103936198, 'eval_USERNAME_f1': 0.9457755359394704, 'eval_precision': 0.9291212501205749, 'eval_recall': 0.942227178463826, 'eval_f1': 0.9356283208190463, 'eval_accuracy': 0.990929324053279, 'eval_runtime': 33.0304, 'eval_samples_per_second': 240.566, 'eval_steps_per_second': 7.539, 'epoch': 12.0}\n"
     ]
    },
    {
     "name": "stderr",
     "output_type": "stream",
     "text": [
      " 25%|██▍       | 11500/46750 [1:02:28<2:45:02,  3.56it/s]  "
     ]
    },
    {
     "name": "stdout",
     "output_type": "stream",
     "text": [
      "{'loss': 0.0075, 'grad_norm': 0.1442120373249054, 'learning_rate': 1.819437965209732e-05, 'epoch': 12.3}\n"
     ]
    },
    {
     "name": "stderr",
     "output_type": "stream",
     "text": [
      " 26%|██▌       | 12000/46750 [1:04:53<2:28:33,  3.90it/s]"
     ]
    },
    {
     "name": "stdout",
     "output_type": "stream",
     "text": [
      "{'loss': 0.008, 'grad_norm': 0.08684003353118896, 'learning_rate': 1.7983353063727014e-05, 'epoch': 12.83}\n"
     ]
    },
    {
     "name": "stderr",
     "output_type": "stream",
     "text": [
      "                                                         \n",
      " 26%|██▌       | 12155/46750 [1:06:11<2:24:04,  4.00it/s]"
     ]
    },
    {
     "name": "stdout",
     "output_type": "stream",
     "text": [
      "{'eval_loss': 0.049103423953056335, 'eval_BOD_f1': 0.9559802447927851, 'eval_BUILDING_f1': 0.9808233188442853, 'eval_CARDISSUER_f1': 0.0, 'eval_CITY_f1': 0.9612174766813941, 'eval_COUNTRY_f1': 0.9725292074518472, 'eval_DATE_f1': 0.9098384728340676, 'eval_DRIVERLICENSE_f1': 0.9243123870708692, 'eval_EMAIL_f1': 0.984434320425209, 'eval_GEOCOORD_f1': 0.9699769053117783, 'eval_GIVENNAME1_f1': 0.8432586946164841, 'eval_GIVENNAME2_f1': 0.7210884353741497, 'eval_IDCARD_f1': 0.9333588663347376, 'eval_IP_f1': 0.9796860572483841, 'eval_LASTNAME1_f1': 0.7918350848827809, 'eval_LASTNAME2_f1': 0.6502690238278247, 'eval_LASTNAME3_f1': 0.56957928802589, 'eval_PASS_f1': 0.8948012232415902, 'eval_PASSPORT_f1': 0.9335816263190565, 'eval_POSTCODE_f1': 0.9783119937287693, 'eval_SECADDRESS_f1': 0.9796393251890635, 'eval_SEX_f1': 0.9738142292490118, 'eval_SOCIALNUMBER_f1': 0.9409433214427269, 'eval_STATE_f1': 0.9770114942528736, 'eval_STREET_f1': 0.9648578811369508, 'eval_TEL_f1': 0.9610069101678184, 'eval_TIME_f1': 0.9634323432343235, 'eval_TITLE_f1': 0.9567693502459229, 'eval_USERNAME_f1': 0.9488945270025372, 'eval_precision': 0.9300815521972713, 'eval_recall': 0.9415815627812341, 'eval_f1': 0.9357962278825589, 'eval_accuracy': 0.9909192132259732, 'eval_runtime': 33.1134, 'eval_samples_per_second': 239.963, 'eval_steps_per_second': 7.52, 'epoch': 13.0}\n"
     ]
    },
    {
     "name": "stderr",
     "output_type": "stream",
     "text": [
      " 27%|██▋       | 12500/46750 [1:07:53<2:37:17,  3.63it/s]  "
     ]
    },
    {
     "name": "stdout",
     "output_type": "stream",
     "text": [
      "{'loss': 0.007, 'grad_norm': 0.29345929622650146, 'learning_rate': 1.7762036310763533e-05, 'epoch': 13.37}\n"
     ]
    },
    {
     "name": "stderr",
     "output_type": "stream",
     "text": [
      " 28%|██▊       | 13000/46750 [1:10:17<2:37:39,  3.57it/s]"
     ]
    },
    {
     "name": "stdout",
     "output_type": "stream",
     "text": [
      "{'loss': 0.007, 'grad_norm': 0.22719834744930267, 'learning_rate': 1.7530714660036112e-05, 'epoch': 13.9}\n"
     ]
    },
    {
     "name": "stderr",
     "output_type": "stream",
     "text": [
      " 28%|██▊       | 13090/46750 [1:10:43<2:40:40,  3.49it/s]/home/arnesh/.local/lib/python3.12/site-packages/seqeval/metrics/v1.py:57: UndefinedMetricWarning: Precision and F-score are ill-defined and being set to 0.0 in labels with no predicted samples. Use `zero_division` parameter to control this behavior.\n",
      "  _warn_prf(average, modifier, msg_start, len(result))\n",
      "                                                         \n",
      " 28%|██▊       | 13090/46750 [1:11:16<2:40:40,  3.49it/s]"
     ]
    },
    {
     "name": "stdout",
     "output_type": "stream",
     "text": [
      "{'eval_loss': 0.051334675401449203, 'eval_BOD_f1': 0.9609057893612475, 'eval_BUILDING_f1': 0.9822758797842281, 'eval_CARDISSUER_f1': 0.0, 'eval_CITY_f1': 0.9632352941176471, 'eval_COUNTRY_f1': 0.97119341563786, 'eval_DATE_f1': 0.9179259259259259, 'eval_DRIVERLICENSE_f1': 0.9338036937123885, 'eval_EMAIL_f1': 0.9801098692934268, 'eval_GEOCOORD_f1': 0.9699769053117783, 'eval_GIVENNAME1_f1': 0.8359431462298241, 'eval_GIVENNAME2_f1': 0.7132216014897579, 'eval_IDCARD_f1': 0.9254901960784314, 'eval_IP_f1': 0.9822211960286308, 'eval_LASTNAME1_f1': 0.7888495943415852, 'eval_LASTNAME2_f1': 0.644852354349561, 'eval_LASTNAME3_f1': 0.6237113402061856, 'eval_PASS_f1': 0.9010051781906793, 'eval_PASSPORT_f1': 0.939798643928498, 'eval_POSTCODE_f1': 0.9804024039717795, 'eval_SECADDRESS_f1': 0.9795201872440024, 'eval_SEX_f1': 0.9717821782178218, 'eval_SOCIALNUMBER_f1': 0.9404598152878758, 'eval_STATE_f1': 0.9787659255558332, 'eval_STREET_f1': 0.9679937548790007, 'eval_TEL_f1': 0.9568646783337441, 'eval_TIME_f1': 0.9637209302325581, 'eval_TITLE_f1': 0.9569725246241576, 'eval_USERNAME_f1': 0.9418948926720948, 'eval_precision': 0.932815232174082, 'eval_recall': 0.9393121258363658, 'eval_f1': 0.9360524058332683, 'eval_accuracy': 0.9911252213323289, 'eval_runtime': 32.9728, 'eval_samples_per_second': 240.986, 'eval_steps_per_second': 7.552, 'epoch': 14.0}\n"
     ]
    },
    {
     "name": "stderr",
     "output_type": "stream",
     "text": [
      " 29%|██▉       | 13500/46750 [1:13:16<2:30:37,  3.68it/s] "
     ]
    },
    {
     "name": "stdout",
     "output_type": "stream",
     "text": [
      "{'loss': 0.0058, 'grad_norm': 0.6329025626182556, 'learning_rate': 1.7289686274214116e-05, 'epoch': 14.44}\n"
     ]
    },
    {
     "name": "stderr",
     "output_type": "stream",
     "text": [
      " 30%|██▉       | 14000/46750 [1:15:41<2:47:50,  3.25it/s]"
     ]
    },
    {
     "name": "stdout",
     "output_type": "stream",
     "text": [
      "{'loss': 0.0056, 'grad_norm': 0.22737400233745575, 'learning_rate': 1.7039261827489452e-05, 'epoch': 14.97}\n"
     ]
    },
    {
     "name": "stderr",
     "output_type": "stream",
     "text": [
      "                                                         \n",
      " 30%|███       | 14025/46750 [1:16:21<2:14:42,  4.05it/s]"
     ]
    },
    {
     "name": "stdout",
     "output_type": "stream",
     "text": [
      "{'eval_loss': 0.053505249321460724, 'eval_BOD_f1': 0.9533032063697009, 'eval_BUILDING_f1': 0.9817902026160554, 'eval_CARDISSUER_f1': 0.0, 'eval_CITY_f1': 0.9607843137254901, 'eval_COUNTRY_f1': 0.9735516372795969, 'eval_DATE_f1': 0.9167391935015955, 'eval_DRIVERLICENSE_f1': 0.9293924466338259, 'eval_EMAIL_f1': 0.978731484998101, 'eval_GEOCOORD_f1': 0.9744779582366588, 'eval_GIVENNAME1_f1': 0.8375251509054326, 'eval_GIVENNAME2_f1': 0.7153846153846153, 'eval_IDCARD_f1': 0.926720947446336, 'eval_IP_f1': 0.981132075471698, 'eval_LASTNAME1_f1': 0.7912581699346406, 'eval_LASTNAME2_f1': 0.6598079561042524, 'eval_LASTNAME3_f1': 0.6210526315789473, 'eval_PASS_f1': 0.9115479115479115, 'eval_PASSPORT_f1': 0.9350811485642946, 'eval_POSTCODE_f1': 0.9778588174003646, 'eval_SECADDRESS_f1': 0.9755529685681025, 'eval_SEX_f1': 0.973293768545994, 'eval_SOCIALNUMBER_f1': 0.9418031169855988, 'eval_STATE_f1': 0.9783528240855933, 'eval_STREET_f1': 0.9709994821336095, 'eval_TEL_f1': 0.9599213179247603, 'eval_TIME_f1': 0.9691211401425178, 'eval_TITLE_f1': 0.957840616966581, 'eval_USERNAME_f1': 0.9421787203190141, 'eval_precision': 0.9292861136280388, 'eval_recall': 0.9430488711507611, 'eval_f1': 0.9361169102296453, 'eval_accuracy': 0.9910923611435851, 'eval_runtime': 33.0026, 'eval_samples_per_second': 240.769, 'eval_steps_per_second': 7.545, 'epoch': 15.0}\n"
     ]
    },
    {
     "name": "stderr",
     "output_type": "stream",
     "text": [
      " 31%|███       | 14500/46750 [1:18:39<2:36:43,  3.43it/s] "
     ]
    },
    {
     "name": "stdout",
     "output_type": "stream",
     "text": [
      "{'loss': 0.0049, 'grad_norm': 0.20782022178173065, 'learning_rate': 1.677976410513221e-05, 'epoch': 15.51}\n"
     ]
    },
    {
     "name": "stderr",
     "output_type": "stream",
     "text": [
      "                                                         \n",
      " 32%|███▏      | 14960/46750 [1:21:25<2:10:29,  4.06it/s]"
     ]
    },
    {
     "name": "stdout",
     "output_type": "stream",
     "text": [
      "{'eval_loss': 0.05221851170063019, 'eval_BOD_f1': 0.9568762068225704, 'eval_BUILDING_f1': 0.9803119406801329, 'eval_CARDISSUER_f1': 0.0, 'eval_CITY_f1': 0.9621304666503787, 'eval_COUNTRY_f1': 0.9726810673443457, 'eval_DATE_f1': 0.9195804195804196, 'eval_DRIVERLICENSE_f1': 0.9330870279146141, 'eval_EMAIL_f1': 0.9820884146341463, 'eval_GEOCOORD_f1': 0.9813953488372094, 'eval_GIVENNAME1_f1': 0.8327934213805133, 'eval_GIVENNAME2_f1': 0.709796672828096, 'eval_IDCARD_f1': 0.9351921627731726, 'eval_IP_f1': 0.9842810910772076, 'eval_LASTNAME1_f1': 0.7946938775510204, 'eval_LASTNAME2_f1': 0.6527455529775714, 'eval_LASTNAME3_f1': 0.6089108910891089, 'eval_PASS_f1': 0.9032455603184324, 'eval_PASSPORT_f1': 0.9374744585206375, 'eval_POSTCODE_f1': 0.9774669774669775, 'eval_SECADDRESS_f1': 0.9778296382730456, 'eval_SEX_f1': 0.9706390328151988, 'eval_SOCIALNUMBER_f1': 0.9478635829086632, 'eval_STATE_f1': 0.9757064947942489, 'eval_STREET_f1': 0.9691149753438879, 'eval_TEL_f1': 0.9605947955390335, 'eval_TIME_f1': 0.9680305222996973, 'eval_TITLE_f1': 0.9598330725091289, 'eval_USERNAME_f1': 0.9467005076142131, 'eval_precision': 0.931507378505756, 'eval_recall': 0.9434988457174159, 'eval_f1': 0.9374647668293062, 'eval_accuracy': 0.9913008969567674, 'eval_runtime': 32.9414, 'eval_samples_per_second': 241.216, 'eval_steps_per_second': 7.559, 'epoch': 16.0}\n"
     ]
    },
    {
     "name": "stderr",
     "output_type": "stream",
     "text": [
      " 32%|███▏      | 15000/46750 [1:21:38<2:34:27,  3.43it/s] "
     ]
    },
    {
     "name": "stdout",
     "output_type": "stream",
     "text": [
      "{'loss': 0.0044, 'grad_norm': 0.49724847078323364, 'learning_rate': 1.6511527587435736e-05, 'epoch': 16.04}\n"
     ]
    },
    {
     "name": "stderr",
     "output_type": "stream",
     "text": [
      " 33%|███▎      | 15500/46750 [1:24:03<2:33:35,  3.39it/s]"
     ]
    },
    {
     "name": "stdout",
     "output_type": "stream",
     "text": [
      "{'loss': 0.0033, 'grad_norm': 0.13960538804531097, 'learning_rate': 1.6234898018587336e-05, 'epoch': 16.58}\n"
     ]
    },
    {
     "name": "stderr",
     "output_type": "stream",
     "text": [
      "                                                         \n",
      " 34%|███▍      | 15895/46750 [1:26:31<2:20:23,  3.66it/s]"
     ]
    },
    {
     "name": "stdout",
     "output_type": "stream",
     "text": [
      "{'eval_loss': 0.05528752878308296, 'eval_BOD_f1': 0.959500215424386, 'eval_BUILDING_f1': 0.9775739041794088, 'eval_CARDISSUER_f1': 0.0, 'eval_CITY_f1': 0.9607604192054594, 'eval_COUNTRY_f1': 0.9684078823897404, 'eval_DATE_f1': 0.9176811594202898, 'eval_DRIVERLICENSE_f1': 0.9247225025227043, 'eval_EMAIL_f1': 0.9842415037022973, 'eval_GEOCOORD_f1': 0.9791183294663574, 'eval_GIVENNAME1_f1': 0.8392370572207084, 'eval_GIVENNAME2_f1': 0.7201565557729942, 'eval_IDCARD_f1': 0.9317451314048024, 'eval_IP_f1': 0.9833487511563367, 'eval_LASTNAME1_f1': 0.7915577889447237, 'eval_LASTNAME2_f1': 0.6648005598320503, 'eval_LASTNAME3_f1': 0.6034063260340632, 'eval_PASS_f1': 0.908197727970525, 'eval_PASSPORT_f1': 0.9321672354948806, 'eval_POSTCODE_f1': 0.9791449426485923, 'eval_SECADDRESS_f1': 0.9760932944606414, 'eval_SEX_f1': 0.9735345040811278, 'eval_SOCIALNUMBER_f1': 0.9384346475043698, 'eval_STATE_f1': 0.9801587301587301, 'eval_STREET_f1': 0.9658385093167702, 'eval_TEL_f1': 0.9611097349516969, 'eval_TIME_f1': 0.9609201411580186, 'eval_TITLE_f1': 0.9506109979633401, 'eval_USERNAME_f1': 0.945795065730236, 'eval_precision': 0.9266368504904313, 'eval_recall': 0.9444574871855069, 'eval_f1': 0.9354623053744272, 'eval_accuracy': 0.990856020555312, 'eval_runtime': 33.2, 'eval_samples_per_second': 239.337, 'eval_steps_per_second': 7.5, 'epoch': 17.0}\n"
     ]
    },
    {
     "name": "stderr",
     "output_type": "stream",
     "text": [
      " 34%|███▍      | 16000/46750 [1:27:03<2:17:09,  3.74it/s] "
     ]
    },
    {
     "name": "stdout",
     "output_type": "stream",
     "text": [
      "{'loss': 0.0041, 'grad_norm': 0.33444496989250183, 'learning_rate': 1.5950231961020373e-05, 'epoch': 17.11}\n"
     ]
    },
    {
     "name": "stderr",
     "output_type": "stream",
     "text": [
      " 35%|███▌      | 16500/46750 [1:29:29<2:35:43,  3.24it/s]"
     ]
    },
    {
     "name": "stdout",
     "output_type": "stream",
     "text": [
      "{'loss': 0.0028, 'grad_norm': 0.09451606124639511, 'learning_rate': 1.5657896335822147e-05, 'epoch': 17.65}\n"
     ]
    },
    {
     "name": "stderr",
     "output_type": "stream",
     "text": [
      "                                                         \n",
      " 36%|███▌      | 16830/46750 [1:31:37<2:04:27,  4.01it/s]"
     ]
    },
    {
     "name": "stdout",
     "output_type": "stream",
     "text": [
      "{'eval_loss': 0.05723977088928223, 'eval_BOD_f1': 0.9569915712124486, 'eval_BUILDING_f1': 0.980862464914519, 'eval_CARDISSUER_f1': 0.0, 'eval_CITY_f1': 0.9621674395899439, 'eval_COUNTRY_f1': 0.9714648065948003, 'eval_DATE_f1': 0.9144170017231475, 'eval_DRIVERLICENSE_f1': 0.9398292733708099, 'eval_EMAIL_f1': 0.9853639992396883, 'eval_GEOCOORD_f1': 0.9791183294663574, 'eval_GIVENNAME1_f1': 0.8362419316280183, 'eval_GIVENNAME2_f1': 0.7147826086956521, 'eval_IDCARD_f1': 0.9297948428383211, 'eval_IP_f1': 0.9838337182448037, 'eval_LASTNAME1_f1': 0.7848639455782312, 'eval_LASTNAME2_f1': 0.6677042801556421, 'eval_LASTNAME3_f1': 0.6284153005464481, 'eval_PASS_f1': 0.9134821155609906, 'eval_PASSPORT_f1': 0.9369587109768379, 'eval_POSTCODE_f1': 0.9781818181818183, 'eval_SECADDRESS_f1': 0.9756380510440836, 'eval_SEX_f1': 0.974308300395257, 'eval_SOCIALNUMBER_f1': 0.9479952362048432, 'eval_STATE_f1': 0.9791252485089463, 'eval_STREET_f1': 0.9671069671069671, 'eval_TEL_f1': 0.9592894152479645, 'eval_TIME_f1': 0.9659344995396554, 'eval_TITLE_f1': 0.9583333333333333, 'eval_USERNAME_f1': 0.9495205355527411, 'eval_precision': 0.9313337833928055, 'eval_recall': 0.9446531283014439, 'eval_f1': 0.9379461727483757, 'eval_accuracy': 0.99119220556323, 'eval_runtime': 33.0072, 'eval_samples_per_second': 240.735, 'eval_steps_per_second': 7.544, 'epoch': 18.0}\n"
     ]
    },
    {
     "name": "stderr",
     "output_type": "stream",
     "text": [
      " 36%|███▋      | 17000/46750 [1:32:27<2:23:11,  3.46it/s] "
     ]
    },
    {
     "name": "stdout",
     "output_type": "stream",
     "text": [
      "{'loss': 0.0033, 'grad_norm': 0.30449607968330383, 'learning_rate': 1.5358267949789968e-05, 'epoch': 18.18}\n"
     ]
    },
    {
     "name": "stderr",
     "output_type": "stream",
     "text": [
      " 37%|███▋      | 17500/46750 [1:34:53<2:14:43,  3.62it/s]"
     ]
    },
    {
     "name": "stdout",
     "output_type": "stream",
     "text": [
      "{'loss': 0.0029, 'grad_norm': 0.29835790395736694, 'learning_rate': 1.5051733009745013e-05, 'epoch': 18.72}\n"
     ]
    },
    {
     "name": "stderr",
     "output_type": "stream",
     "text": [
      "                                                         \n",
      " 38%|███▊      | 17765/46750 [1:36:42<1:54:27,  4.22it/s]"
     ]
    },
    {
     "name": "stdout",
     "output_type": "stream",
     "text": [
      "{'eval_loss': 0.05971790850162506, 'eval_BOD_f1': 0.9549935705100729, 'eval_BUILDING_f1': 0.9817995385798514, 'eval_CARDISSUER_f1': 0.0, 'eval_CITY_f1': 0.9584042811967891, 'eval_COUNTRY_f1': 0.9746353836398224, 'eval_DATE_f1': 0.9108335753703166, 'eval_DRIVERLICENSE_f1': 0.9336993243243243, 'eval_EMAIL_f1': 0.9845743667872786, 'eval_GEOCOORD_f1': 0.979020979020979, 'eval_GIVENNAME1_f1': 0.8266216542078612, 'eval_GIVENNAME2_f1': 0.7071498530852106, 'eval_IDCARD_f1': 0.9199193696170057, 'eval_IP_f1': 0.9852262234533703, 'eval_LASTNAME1_f1': 0.7917258162644495, 'eval_LASTNAME2_f1': 0.6650602409638554, 'eval_LASTNAME3_f1': 0.6049046321525885, 'eval_PASS_f1': 0.9092028316405047, 'eval_PASSPORT_f1': 0.937344398340249, 'eval_POSTCODE_f1': 0.9780564263322884, 'eval_SECADDRESS_f1': 0.9807130333138515, 'eval_SEX_f1': 0.9754768392370572, 'eval_SOCIALNUMBER_f1': 0.9285851780558229, 'eval_STATE_f1': 0.9803335822753299, 'eval_STREET_f1': 0.9695550351288057, 'eval_TEL_f1': 0.9561534628799203, 'eval_TIME_f1': 0.9640306797143613, 'eval_TITLE_f1': 0.9562547966231771, 'eval_USERNAME_f1': 0.948210067236053, 'eval_precision': 0.929588347789132, 'eval_recall': 0.9414641781116719, 'eval_f1': 0.9354885741779336, 'eval_accuracy': 0.9908332711938739, 'eval_runtime': 33.0149, 'eval_samples_per_second': 240.679, 'eval_steps_per_second': 7.542, 'epoch': 19.0}\n"
     ]
    },
    {
     "name": "stderr",
     "output_type": "stream",
     "text": [
      " 39%|███▊      | 18000/46750 [1:37:51<2:26:35,  3.27it/s] "
     ]
    },
    {
     "name": "stdout",
     "output_type": "stream",
     "text": [
      "{'loss': 0.0031, 'grad_norm': 0.0839306116104126, 'learning_rate': 1.4738686624729987e-05, 'epoch': 19.25}\n"
     ]
    },
    {
     "name": "stderr",
     "output_type": "stream",
     "text": [
      " 40%|███▉      | 18500/46750 [1:40:17<2:00:34,  3.90it/s]"
     ]
    },
    {
     "name": "stdout",
     "output_type": "stream",
     "text": [
      "{'loss': 0.0025, 'grad_norm': 0.11962549388408661, 'learning_rate': 1.4419532296732271e-05, 'epoch': 19.79}\n"
     ]
    },
    {
     "name": "stderr",
     "output_type": "stream",
     "text": [
      "                                                         \n",
      " 40%|████      | 18700/46750 [1:41:47<1:51:53,  4.18it/s]"
     ]
    },
    {
     "name": "stdout",
     "output_type": "stream",
     "text": [
      "{'eval_loss': 0.056173235177993774, 'eval_BOD_f1': 0.9562231759656653, 'eval_BUILDING_f1': 0.983050847457627, 'eval_CARDISSUER_f1': 1.0, 'eval_CITY_f1': 0.9663307938068322, 'eval_COUNTRY_f1': 0.9715549936788874, 'eval_DATE_f1': 0.911841722432354, 'eval_DRIVERLICENSE_f1': 0.925739585429664, 'eval_EMAIL_f1': 0.9823361823361824, 'eval_GEOCOORD_f1': 0.9768518518518519, 'eval_GIVENNAME1_f1': 0.8310978638847492, 'eval_GIVENNAME2_f1': 0.719607843137255, 'eval_IDCARD_f1': 0.9313181557298641, 'eval_IP_f1': 0.9865988909426987, 'eval_LASTNAME1_f1': 0.7887037789516457, 'eval_LASTNAME2_f1': 0.6791044776119403, 'eval_LASTNAME3_f1': 0.6323907455012854, 'eval_PASS_f1': 0.9100367197062423, 'eval_PASSPORT_f1': 0.9365609348914858, 'eval_POSTCODE_f1': 0.9817613340281397, 'eval_SECADDRESS_f1': 0.9773913043478262, 'eval_SEX_f1': 0.9727857496288966, 'eval_SOCIALNUMBER_f1': 0.9433222200431456, 'eval_STATE_f1': 0.9803335822753299, 'eval_STREET_f1': 0.972200571577033, 'eval_TEL_f1': 0.9609876543209876, 'eval_TIME_f1': 0.9655081621906266, 'eval_TITLE_f1': 0.9552772808586761, 'eval_USERNAME_f1': 0.9509447674418605, 'eval_precision': 0.9320031707364229, 'eval_recall': 0.9431075634855421, 'eval_f1': 0.9375224870426014, 'eval_accuracy': 0.9911707200552051, 'eval_runtime': 33.0389, 'eval_samples_per_second': 240.504, 'eval_steps_per_second': 7.537, 'epoch': 20.0}\n"
     ]
    },
    {
     "name": "stderr",
     "output_type": "stream",
     "text": [
      " 41%|████      | 19000/46750 [1:43:16<2:22:39,  3.24it/s] "
     ]
    },
    {
     "name": "stdout",
     "output_type": "stream",
     "text": [
      "{'loss': 0.0024, 'grad_norm': 0.5601848363876343, 'learning_rate': 1.4094681400588908e-05, 'epoch': 20.32}\n"
     ]
    },
    {
     "name": "stderr",
     "output_type": "stream",
     "text": [
      " 42%|████▏     | 19500/46750 [1:45:40<2:08:22,  3.54it/s]"
     ]
    },
    {
     "name": "stdout",
     "output_type": "stream",
     "text": [
      "{'loss': 0.0023, 'grad_norm': 0.21649189293384552, 'learning_rate': 1.376455265374392e-05, 'epoch': 20.86}\n"
     ]
    },
    {
     "name": "stderr",
     "output_type": "stream",
     "text": [
      "                                                         \n",
      " 42%|████▏     | 19635/46750 [1:46:53<2:08:33,  3.52it/s]"
     ]
    },
    {
     "name": "stdout",
     "output_type": "stream",
     "text": [
      "{'eval_loss': 0.06089175492525101, 'eval_BOD_f1': 0.9610836379273274, 'eval_BUILDING_f1': 0.9813060179257364, 'eval_CARDISSUER_f1': 0.0, 'eval_CITY_f1': 0.9614822038030229, 'eval_COUNTRY_f1': 0.9688972667295005, 'eval_DATE_f1': 0.9120559114735003, 'eval_DRIVERLICENSE_f1': 0.9382921254934553, 'eval_EMAIL_f1': 0.9853528628495338, 'eval_GEOCOORD_f1': 0.97459584295612, 'eval_GIVENNAME1_f1': 0.8419260700389104, 'eval_GIVENNAME2_f1': 0.7157464212678938, 'eval_IDCARD_f1': 0.931740614334471, 'eval_IP_f1': 0.9835914028195054, 'eval_LASTNAME1_f1': 0.791337785873305, 'eval_LASTNAME2_f1': 0.6621108580106303, 'eval_LASTNAME3_f1': 0.6060606060606061, 'eval_PASS_f1': 0.9056372549019609, 'eval_PASSPORT_f1': 0.9368635437881874, 'eval_POSTCODE_f1': 0.9791558103178738, 'eval_SECADDRESS_f1': 0.9790697674418604, 'eval_SEX_f1': 0.9744480277846688, 'eval_SOCIALNUMBER_f1': 0.9417494642509254, 'eval_STATE_f1': 0.9776341948310139, 'eval_STREET_f1': 0.9666580511760146, 'eval_TEL_f1': 0.9561360275998029, 'eval_TIME_f1': 0.9652094000262571, 'eval_TITLE_f1': 0.9582904222451081, 'eval_USERNAME_f1': 0.9499451954694921, 'eval_precision': 0.9318871095485541, 'eval_recall': 0.9437923073913214, 'eval_f1': 0.9378019264976041, 'eval_accuracy': 0.9911062635311306, 'eval_runtime': 33.1243, 'eval_samples_per_second': 239.884, 'eval_steps_per_second': 7.517, 'epoch': 21.0}\n"
     ]
    },
    {
     "name": "stderr",
     "output_type": "stream",
     "text": [
      " 43%|████▎     | 20000/46750 [1:48:40<2:11:04,  3.40it/s] "
     ]
    },
    {
     "name": "stdout",
     "output_type": "stream",
     "text": [
      "{'loss': 0.0019, 'grad_norm': 0.22733302414417267, 'learning_rate': 1.3429571576541315e-05, 'epoch': 21.39}\n"
     ]
    },
    {
     "name": "stderr",
     "output_type": "stream",
     "text": [
      " 44%|████▍     | 20500/46750 [1:51:05<1:53:57,  3.84it/s]"
     ]
    },
    {
     "name": "stdout",
     "output_type": "stream",
     "text": [
      "{'loss': 0.0019, 'grad_norm': 0.06506683677434921, 'learning_rate': 1.3090169943749475e-05, 'epoch': 21.93}\n"
     ]
    },
    {
     "name": "stderr",
     "output_type": "stream",
     "text": [
      "                                                         \n",
      " 44%|████▍     | 20570/46750 [1:51:58<1:48:41,  4.01it/s]"
     ]
    },
    {
     "name": "stdout",
     "output_type": "stream",
     "text": [
      "{'eval_loss': 0.06329470872879028, 'eval_BOD_f1': 0.96017130620985, 'eval_BUILDING_f1': 0.9807938540332908, 'eval_CARDISSUER_f1': 1.0, 'eval_CITY_f1': 0.9610326351680468, 'eval_COUNTRY_f1': 0.9695638531534359, 'eval_DATE_f1': 0.9105309474919331, 'eval_DRIVERLICENSE_f1': 0.9315628192032687, 'eval_EMAIL_f1': 0.9866818873668189, 'eval_GEOCOORD_f1': 0.9768518518518519, 'eval_GIVENNAME1_f1': 0.8346091394108096, 'eval_GIVENNAME2_f1': 0.7259786476868326, 'eval_IDCARD_f1': 0.929027412692452, 'eval_IP_f1': 0.9831835982492514, 'eval_LASTNAME1_f1': 0.7854422344477359, 'eval_LASTNAME2_f1': 0.6854020296643248, 'eval_LASTNAME3_f1': 0.6547314578005116, 'eval_PASS_f1': 0.9087009803921569, 'eval_PASSPORT_f1': 0.936266447368421, 'eval_POSTCODE_f1': 0.9789117417339235, 'eval_SECADDRESS_f1': 0.9785008715862871, 'eval_SEX_f1': 0.9716539314764605, 'eval_SOCIALNUMBER_f1': 0.9422275163787968, 'eval_STATE_f1': 0.9779429987608427, 'eval_STREET_f1': 0.9676919100542776, 'eval_TEL_f1': 0.9563521092416483, 'eval_TIME_f1': 0.9655172413793103, 'eval_TITLE_f1': 0.9496330043027083, 'eval_USERNAME_f1': 0.9474250852323705, 'eval_precision': 0.9270330344140415, 'eval_recall': 0.9465117189028446, 'eval_f1': 0.9366711196298232, 'eval_accuracy': 0.9908838253304029, 'eval_runtime': 32.9051, 'eval_samples_per_second': 241.482, 'eval_steps_per_second': 7.567, 'epoch': 22.0}\n"
     ]
    },
    {
     "name": "stderr",
     "output_type": "stream",
     "text": [
      " 45%|████▍     | 21000/46750 [1:54:04<2:07:35,  3.36it/s] "
     ]
    },
    {
     "name": "stdout",
     "output_type": "stream",
     "text": [
      "{'loss': 0.0016, 'grad_norm': 0.0810697004199028, 'learning_rate': 1.2746785228023904e-05, 'epoch': 22.46}\n"
     ]
    },
    {
     "name": "stderr",
     "output_type": "stream",
     "text": [
      " 46%|████▌     | 21500/46750 [1:56:28<1:59:34,  3.52it/s]"
     ]
    },
    {
     "name": "stdout",
     "output_type": "stream",
     "text": [
      "{'loss': 0.0016, 'grad_norm': 0.13428300619125366, 'learning_rate': 1.239986003602566e-05, 'epoch': 22.99}\n"
     ]
    },
    {
     "name": "stderr",
     "output_type": "stream",
     "text": [
      "                                                         \n",
      " 46%|████▌     | 21505/46750 [1:57:03<1:58:23,  3.55it/s]"
     ]
    },
    {
     "name": "stdout",
     "output_type": "stream",
     "text": [
      "{'eval_loss': 0.06216077879071236, 'eval_BOD_f1': 0.9606536228768006, 'eval_BUILDING_f1': 0.979633401221996, 'eval_CARDISSUER_f1': 0.0, 'eval_CITY_f1': 0.9647231749142576, 'eval_COUNTRY_f1': 0.9726329034287511, 'eval_DATE_f1': 0.9157530294287363, 'eval_DRIVERLICENSE_f1': 0.9414191419141914, 'eval_EMAIL_f1': 0.9849724177287426, 'eval_GEOCOORD_f1': 0.9699769053117783, 'eval_GIVENNAME1_f1': 0.8385704005756777, 'eval_GIVENNAME2_f1': 0.7240740740740741, 'eval_IDCARD_f1': 0.9308561578241716, 'eval_IP_f1': 0.984302862419206, 'eval_LASTNAME1_f1': 0.7947434292866082, 'eval_LASTNAME2_f1': 0.6769005847953216, 'eval_LASTNAME3_f1': 0.6415094339622642, 'eval_PASS_f1': 0.8775015160703458, 'eval_PASSPORT_f1': 0.9365274365274366, 'eval_POSTCODE_f1': 0.9787344398340249, 'eval_SECADDRESS_f1': 0.9790697674418604, 'eval_SEX_f1': 0.9726533628972653, 'eval_SOCIALNUMBER_f1': 0.9389797882579403, 'eval_STATE_f1': 0.9798857710454433, 'eval_STREET_f1': 0.9702457956015524, 'eval_TEL_f1': 0.9572311495673671, 'eval_TIME_f1': 0.9647553918990005, 'eval_TITLE_f1': 0.9573435504469988, 'eval_USERNAME_f1': 0.9489208633093525, 'eval_precision': 0.928476821192053, 'eval_recall': 0.946296513675314, 'eval_f1': 0.9373019794785338, 'eval_accuracy': 0.9908825614769896, 'eval_runtime': 33.0184, 'eval_samples_per_second': 240.654, 'eval_steps_per_second': 7.541, 'epoch': 23.0}\n"
     ]
    },
    {
     "name": "stderr",
     "output_type": "stream",
     "text": [
      " 47%|████▋     | 22000/46750 [1:59:27<1:51:41,  3.69it/s] "
     ]
    },
    {
     "name": "stdout",
     "output_type": "stream",
     "text": [
      "{'loss': 0.0016, 'grad_norm': 0.03914812579751015, 'learning_rate': 1.2049841537922307e-05, 'epoch': 23.53}\n"
     ]
    },
    {
     "name": "stderr",
     "output_type": "stream",
     "text": [
      "                                                         \n",
      " 48%|████▊     | 22440/46750 [2:02:07<1:45:19,  3.85it/s]"
     ]
    },
    {
     "name": "stdout",
     "output_type": "stream",
     "text": [
      "{'eval_loss': 0.06269590556621552, 'eval_BOD_f1': 0.9593810444874273, 'eval_BUILDING_f1': 0.978952772073922, 'eval_CARDISSUER_f1': 0.0, 'eval_CITY_f1': 0.9700833742030407, 'eval_COUNTRY_f1': 0.9746675110829639, 'eval_DATE_f1': 0.911266783420899, 'eval_DRIVERLICENSE_f1': 0.9330862672431542, 'eval_EMAIL_f1': 0.9861084681255946, 'eval_GEOCOORD_f1': 0.9791183294663574, 'eval_GIVENNAME1_f1': 0.8451739343459089, 'eval_GIVENNAME2_f1': 0.7331433998100664, 'eval_IDCARD_f1': 0.9241302738712064, 'eval_IP_f1': 0.9861367837338263, 'eval_LASTNAME1_f1': 0.7974921630094044, 'eval_LASTNAME2_f1': 0.6800308404009252, 'eval_LASTNAME3_f1': 0.6461538461538462, 'eval_PASS_f1': 0.9085328422344997, 'eval_PASSPORT_f1': 0.9308045018757816, 'eval_POSTCODE_f1': 0.9794751883606132, 'eval_SECADDRESS_f1': 0.9801864801864801, 'eval_SEX_f1': 0.9737883283877349, 'eval_SOCIALNUMBER_f1': 0.9404808829325976, 'eval_STATE_f1': 0.9769288017861573, 'eval_STREET_f1': 0.9691789691789691, 'eval_TEL_f1': 0.9574046557701833, 'eval_TIME_f1': 0.964449691722419, 'eval_TITLE_f1': 0.9571944301186178, 'eval_USERNAME_f1': 0.9486945408070112, 'eval_precision': 0.9335825521035097, 'eval_recall': 0.9429706147043863, 'eval_f1': 0.9382530999980534, 'eval_accuracy': 0.9911353321596348, 'eval_runtime': 32.965, 'eval_samples_per_second': 241.044, 'eval_steps_per_second': 7.553, 'epoch': 24.0}\n"
     ]
    },
    {
     "name": "stderr",
     "output_type": "stream",
     "text": [
      " 48%|████▊     | 22500/46750 [2:02:26<2:07:27,  3.17it/s] "
     ]
    },
    {
     "name": "stdout",
     "output_type": "stream",
     "text": [
      "{'loss': 0.0015, 'grad_norm': 0.031180569902062416, 'learning_rate': 1.169718089100669e-05, 'epoch': 24.06}\n"
     ]
    },
    {
     "name": "stderr",
     "output_type": "stream",
     "text": [
      " 49%|████▉     | 23000/46750 [2:04:50<2:07:15,  3.11it/s]"
     ]
    },
    {
     "name": "stdout",
     "output_type": "stream",
     "text": [
      "{'loss': 0.0012, 'grad_norm': 0.03342045098543167, 'learning_rate': 1.1342332658176556e-05, 'epoch': 24.6}\n"
     ]
    },
    {
     "name": "stderr",
     "output_type": "stream",
     "text": [
      "                                                         \n",
      " 50%|█████     | 23375/46750 [2:07:12<1:35:05,  4.10it/s]"
     ]
    },
    {
     "name": "stdout",
     "output_type": "stream",
     "text": [
      "{'eval_loss': 0.06286289542913437, 'eval_BOD_f1': 0.95706311721769, 'eval_BUILDING_f1': 0.9782775364170713, 'eval_CARDISSUER_f1': 1.0, 'eval_CITY_f1': 0.9659397206567018, 'eval_COUNTRY_f1': 0.9744398863994951, 'eval_DATE_f1': 0.9123621590249564, 'eval_DRIVERLICENSE_f1': 0.9414191419141914, 'eval_EMAIL_f1': 0.9847619047619048, 'eval_GEOCOORD_f1': 0.9813953488372094, 'eval_GIVENNAME1_f1': 0.8414779499404051, 'eval_GIVENNAME2_f1': 0.7303689687795648, 'eval_IDCARD_f1': 0.9275145158269338, 'eval_IP_f1': 0.9836216839677048, 'eval_LASTNAME1_f1': 0.7966893039049234, 'eval_LASTNAME2_f1': 0.6700143472022956, 'eval_LASTNAME3_f1': 0.6440677966101696, 'eval_PASS_f1': 0.9113224915618288, 'eval_PASSPORT_f1': 0.9384551838083437, 'eval_POSTCODE_f1': 0.9794002607561929, 'eval_SECADDRESS_f1': 0.980209545983702, 'eval_SEX_f1': 0.9754768392370572, 'eval_SOCIALNUMBER_f1': 0.9416812951043494, 'eval_STATE_f1': 0.9800598205383848, 'eval_STREET_f1': 0.9702303908879109, 'eval_TEL_f1': 0.9603590127150337, 'eval_TIME_f1': 0.9635423571523266, 'eval_TITLE_f1': 0.9585465711361311, 'eval_USERNAME_f1': 0.9511930585683297, 'eval_precision': 0.9330319190045598, 'eval_recall': 0.9447509488594122, 'eval_f1': 0.9388548653640516, 'eval_accuracy': 0.9911606092278993, 'eval_runtime': 33.1733, 'eval_samples_per_second': 239.53, 'eval_steps_per_second': 7.506, 'epoch': 25.0}\n"
     ]
    },
    {
     "name": "stderr",
     "output_type": "stream",
     "text": [
      " 50%|█████     | 23500/46750 [2:07:49<1:47:24,  3.61it/s] "
     ]
    },
    {
     "name": "stdout",
     "output_type": "stream",
     "text": [
      "{'loss': 0.0013, 'grad_norm': 0.015984097495675087, 'learning_rate': 1.0985754222024437e-05, 'epoch': 25.13}\n"
     ]
    },
    {
     "name": "stderr",
     "output_type": "stream",
     "text": [
      " 51%|█████▏    | 24000/46750 [2:10:14<1:49:25,  3.46it/s]"
     ]
    },
    {
     "name": "stdout",
     "output_type": "stream",
     "text": [
      "{'loss': 0.0009, 'grad_norm': 0.3857351541519165, 'learning_rate': 1.0627905195293135e-05, 'epoch': 25.67}\n"
     ]
    },
    {
     "name": "stderr",
     "output_type": "stream",
     "text": [
      "                                                         \n",
      " 52%|█████▏    | 24310/46750 [2:12:16<1:35:35,  3.91it/s]"
     ]
    },
    {
     "name": "stdout",
     "output_type": "stream",
     "text": [
      "{'eval_loss': 0.06428779661655426, 'eval_BOD_f1': 0.9589864719776681, 'eval_BUILDING_f1': 0.9780163599182005, 'eval_CARDISSUER_f1': 1.0, 'eval_CITY_f1': 0.9646255184191266, 'eval_COUNTRY_f1': 0.9720740508315029, 'eval_DATE_f1': 0.9087739686228937, 'eval_DRIVERLICENSE_f1': 0.9413471502590672, 'eval_EMAIL_f1': 0.9845978322875071, 'eval_GEOCOORD_f1': 0.9836829836829837, 'eval_GIVENNAME1_f1': 0.844027877913963, 'eval_GIVENNAME2_f1': 0.718552036199095, 'eval_IDCARD_f1': 0.9282242990654206, 'eval_IP_f1': 0.984750462107209, 'eval_LASTNAME1_f1': 0.79983474488742, 'eval_LASTNAME2_f1': 0.6612665684830633, 'eval_LASTNAME3_f1': 0.6206896551724137, 'eval_PASS_f1': 0.9059724349157734, 'eval_PASSPORT_f1': 0.9366111336854936, 'eval_POSTCODE_f1': 0.9804941482444733, 'eval_SECADDRESS_f1': 0.9773387565368972, 'eval_SEX_f1': 0.9729863692688971, 'eval_SOCIALNUMBER_f1': 0.9407114624505929, 'eval_STATE_f1': 0.9769288017861573, 'eval_STREET_f1': 0.9694142042509072, 'eval_TEL_f1': 0.9573155687145323, 'eval_TIME_f1': 0.966439433665443, 'eval_TITLE_f1': 0.9571685047448063, 'eval_USERNAME_f1': 0.9493304379297864, 'eval_precision': 0.9300617272080457, 'eval_recall': 0.9462378213405329, 'eval_f1': 0.9380800449974301, 'eval_accuracy': 0.991046862420709, 'eval_runtime': 33.0045, 'eval_samples_per_second': 240.755, 'eval_steps_per_second': 7.544, 'epoch': 26.0}\n"
     ]
    },
    {
     "name": "stderr",
     "output_type": "stream",
     "text": [
      " 52%|█████▏    | 24500/46750 [2:13:12<1:44:23,  3.55it/s] "
     ]
    },
    {
     "name": "stdout",
     "output_type": "stream",
     "text": [
      "{'loss': 0.0009, 'grad_norm': 0.020713578909635544, 'learning_rate': 1.026924682845663e-05, 'epoch': 26.2}\n"
     ]
    },
    {
     "name": "stderr",
     "output_type": "stream",
     "text": [
      " 53%|█████▎    | 25000/46750 [2:15:38<1:44:58,  3.45it/s]"
     ]
    },
    {
     "name": "stdout",
     "output_type": "stream",
     "text": [
      "{'loss': 0.0011, 'grad_norm': 0.08223766833543777, 'learning_rate': 9.910241415190022e-06, 'epoch': 26.74}\n"
     ]
    },
    {
     "name": "stderr",
     "output_type": "stream",
     "text": [
      "                                                         \n",
      " 54%|█████▍    | 25245/46750 [2:17:22<1:16:44,  4.67it/s]"
     ]
    },
    {
     "name": "stdout",
     "output_type": "stream",
     "text": [
      "{'eval_loss': 0.06673801690340042, 'eval_BOD_f1': 0.9581716257007331, 'eval_BUILDING_f1': 0.9803621525121142, 'eval_CARDISSUER_f1': 0.0, 'eval_CITY_f1': 0.963578587142508, 'eval_COUNTRY_f1': 0.9747315224257739, 'eval_DATE_f1': 0.9135229251305863, 'eval_DRIVERLICENSE_f1': 0.937269372693727, 'eval_EMAIL_f1': 0.9838679066236476, 'eval_GEOCOORD_f1': 0.9791183294663574, 'eval_GIVENNAME1_f1': 0.8477366255144032, 'eval_GIVENNAME2_f1': 0.7340529931305201, 'eval_IDCARD_f1': 0.9294478527607363, 'eval_IP_f1': 0.984060984060984, 'eval_LASTNAME1_f1': 0.7937422807739811, 'eval_LASTNAME2_f1': 0.6765578635014836, 'eval_LASTNAME3_f1': 0.6414141414141414, 'eval_PASS_f1': 0.900459418070444, 'eval_PASSPORT_f1': 0.9353658536585365, 'eval_POSTCODE_f1': 0.9771784232365145, 'eval_SECADDRESS_f1': 0.9756380510440836, 'eval_SEX_f1': 0.9750555692763645, 'eval_SOCIALNUMBER_f1': 0.9399610136452241, 'eval_STATE_f1': 0.9774361517480784, 'eval_STREET_f1': 0.9667877529839127, 'eval_TEL_f1': 0.9605556933763335, 'eval_TIME_f1': 0.9665877400684031, 'eval_TITLE_f1': 0.9579702716555611, 'eval_USERNAME_f1': 0.946043165467626, 'eval_precision': 0.9303959500298358, 'eval_recall': 0.9456313338811284, 'eval_f1': 0.9379517780041721, 'eval_accuracy': 0.991102471970891, 'eval_runtime': 32.9051, 'eval_samples_per_second': 241.482, 'eval_steps_per_second': 7.567, 'epoch': 27.0}\n"
     ]
    },
    {
     "name": "stderr",
     "output_type": "stream",
     "text": [
      " 55%|█████▍    | 25500/46750 [2:18:36<1:39:19,  3.57it/s] "
     ]
    },
    {
     "name": "stdout",
     "output_type": "stream",
     "text": [
      "{'loss': 0.001, 'grad_norm': 0.06282424926757812, 'learning_rate': 9.551351696494854e-06, 'epoch': 27.27}\n"
     ]
    },
    {
     "name": "stderr",
     "output_type": "stream",
     "text": [
      " 56%|█████▌    | 26000/46750 [2:21:00<1:35:15,  3.63it/s]"
     ]
    },
    {
     "name": "stdout",
     "output_type": "stream",
     "text": [
      "{'loss': 0.0009, 'grad_norm': 0.013104872778058052, 'learning_rate': 9.19304026424783e-06, 'epoch': 27.81}\n"
     ]
    },
    {
     "name": "stderr",
     "output_type": "stream",
     "text": [
      "                                                         \n",
      " 56%|█████▌    | 26180/46750 [2:22:26<1:37:39,  3.51it/s]"
     ]
    },
    {
     "name": "stdout",
     "output_type": "stream",
     "text": [
      "{'eval_loss': 0.06696619838476181, 'eval_BOD_f1': 0.9560557341907824, 'eval_BUILDING_f1': 0.9825997952917094, 'eval_CARDISSUER_f1': 0.0, 'eval_CITY_f1': 0.9647921760391198, 'eval_COUNTRY_f1': 0.9717159019484601, 'eval_DATE_f1': 0.9131964809384164, 'eval_DRIVERLICENSE_f1': 0.9404166666666667, 'eval_EMAIL_f1': 0.9845919726079514, 'eval_GEOCOORD_f1': 0.9631336405529954, 'eval_GIVENNAME1_f1': 0.8384691848906561, 'eval_GIVENNAME2_f1': 0.7156673114119922, 'eval_IDCARD_f1': 0.9280923994038748, 'eval_IP_f1': 0.9834024896265561, 'eval_LASTNAME1_f1': 0.7938227035699961, 'eval_LASTNAME2_f1': 0.6788856304985337, 'eval_LASTNAME3_f1': 0.6264367816091954, 'eval_PASS_f1': 0.9107635694572217, 'eval_PASSPORT_f1': 0.9396604622622212, 'eval_POSTCODE_f1': 0.9809548656404905, 'eval_SECADDRESS_f1': 0.9761766414875074, 'eval_SEX_f1': 0.9730264785944073, 'eval_SOCIALNUMBER_f1': 0.9413154785348563, 'eval_STATE_f1': 0.9796019900497512, 'eval_STREET_f1': 0.9697126585555269, 'eval_TEL_f1': 0.9608470819995075, 'eval_TIME_f1': 0.9697368421052631, 'eval_TITLE_f1': 0.956788545129123, 'eval_USERNAME_f1': 0.9501084598698482, 'eval_precision': 0.931433745617077, 'eval_recall': 0.9458661032202528, 'eval_f1': 0.9385944476800622, 'eval_accuracy': 0.9911745116154448, 'eval_runtime': 33.009, 'eval_samples_per_second': 240.722, 'eval_steps_per_second': 7.543, 'epoch': 28.0}\n"
     ]
    },
    {
     "name": "stderr",
     "output_type": "stream",
     "text": [
      " 57%|█████▋    | 26500/46750 [2:24:00<1:31:51,  3.67it/s] "
     ]
    },
    {
     "name": "stdout",
     "output_type": "stream",
     "text": [
      "{'loss': 0.0008, 'grad_norm': 0.7304526567459106, 'learning_rate': 8.835768964941773e-06, 'epoch': 28.34}\n"
     ]
    },
    {
     "name": "stderr",
     "output_type": "stream",
     "text": [
      " 58%|█████▊    | 27000/46750 [2:26:25<1:30:42,  3.63it/s]"
     ]
    },
    {
     "name": "stdout",
     "output_type": "stream",
     "text": [
      "{'loss': 0.0008, 'grad_norm': 0.15264703333377838, 'learning_rate': 8.479998304387329e-06, 'epoch': 28.88}\n"
     ]
    },
    {
     "name": "stderr",
     "output_type": "stream",
     "text": [
      "                                                         \n",
      " 58%|█████▊    | 27115/46750 [2:27:31<1:20:07,  4.08it/s]"
     ]
    },
    {
     "name": "stdout",
     "output_type": "stream",
     "text": [
      "{'eval_loss': 0.0670015960931778, 'eval_BOD_f1': 0.9597257926306769, 'eval_BUILDING_f1': 0.9792573623559538, 'eval_CARDISSUER_f1': 1.0, 'eval_CITY_f1': 0.9669036528560921, 'eval_COUNTRY_f1': 0.9735015772870661, 'eval_DATE_f1': 0.9153237620861413, 'eval_DRIVERLICENSE_f1': 0.9396891191709844, 'eval_EMAIL_f1': 0.9859315589353613, 'eval_GEOCOORD_f1': 0.9767441860465117, 'eval_GIVENNAME1_f1': 0.8461160275319567, 'eval_GIVENNAME2_f1': 0.7269406392694064, 'eval_IDCARD_f1': 0.9308651303362298, 'eval_IP_f1': 0.985654789449329, 'eval_LASTNAME1_f1': 0.7962395258532597, 'eval_LASTNAME2_f1': 0.6767830045523521, 'eval_LASTNAME3_f1': 0.6228571428571428, 'eval_PASS_f1': 0.9121081745543946, 'eval_PASSPORT_f1': 0.9378206443669197, 'eval_POSTCODE_f1': 0.9827676240208878, 'eval_SECADDRESS_f1': 0.9790209790209791, 'eval_SEX_f1': 0.9745364647713225, 'eval_SOCIALNUMBER_f1': 0.9449433814916048, 'eval_STATE_f1': 0.9790940766550523, 'eval_STREET_f1': 0.9713104161281986, 'eval_TEL_f1': 0.9606299212598426, 'eval_TIME_f1': 0.9642577615444821, 'eval_TITLE_f1': 0.955139707767239, 'eval_USERNAME_f1': 0.9518987341772153, 'eval_precision': 0.9329233023560715, 'eval_recall': 0.9466486676840005, 'eval_f1': 0.9397358710429209, 'eval_accuracy': 0.9912288573122136, 'eval_runtime': 33.0496, 'eval_samples_per_second': 240.427, 'eval_steps_per_second': 7.534, 'epoch': 29.0}\n"
     ]
    },
    {
     "name": "stderr",
     "output_type": "stream",
     "text": [
      " 59%|█████▉    | 27500/46750 [2:29:23<1:25:01,  3.77it/s] "
     ]
    },
    {
     "name": "stdout",
     "output_type": "stream",
     "text": [
      "{'loss': 0.0008, 'grad_norm': 0.021056482568383217, 'learning_rate': 8.126186854142752e-06, 'epoch': 29.41}\n"
     ]
    },
    {
     "name": "stderr",
     "output_type": "stream",
     "text": [
      " 60%|█████▉    | 28000/46750 [2:31:49<1:30:19,  3.46it/s]"
     ]
    },
    {
     "name": "stdout",
     "output_type": "stream",
     "text": [
      "{'loss': 0.0006, 'grad_norm': 0.07860207557678223, 'learning_rate': 7.774790660436857e-06, 'epoch': 29.95}\n"
     ]
    },
    {
     "name": "stderr",
     "output_type": "stream",
     "text": [
      "                                                         \n",
      " 60%|██████    | 28050/46750 [2:32:37<1:25:34,  3.64it/s]"
     ]
    },
    {
     "name": "stdout",
     "output_type": "stream",
     "text": [
      "{'eval_loss': 0.06624649465084076, 'eval_BOD_f1': 0.9609155689915785, 'eval_BUILDING_f1': 0.9815762538382805, 'eval_CARDISSUER_f1': 1.0, 'eval_CITY_f1': 0.9635429410325422, 'eval_COUNTRY_f1': 0.9738582677165355, 'eval_DATE_f1': 0.9128175519630485, 'eval_DRIVERLICENSE_f1': 0.937269372693727, 'eval_EMAIL_f1': 0.9853528628495338, 'eval_GEOCOORD_f1': 0.9836829836829837, 'eval_GIVENNAME1_f1': 0.8466650258429732, 'eval_GIVENNAME2_f1': 0.7245508982035928, 'eval_IDCARD_f1': 0.9327423395644633, 'eval_IP_f1': 0.9861239592969473, 'eval_LASTNAME1_f1': 0.7975733063700708, 'eval_LASTNAME2_f1': 0.6863636363636363, 'eval_LASTNAME3_f1': 0.6614173228346456, 'eval_PASS_f1': 0.9189522342064714, 'eval_PASSPORT_f1': 0.9349209607883392, 'eval_POSTCODE_f1': 0.9825019587359625, 'eval_SECADDRESS_f1': 0.9796156086196854, 'eval_SEX_f1': 0.9744986382768013, 'eval_SOCIALNUMBER_f1': 0.9430453312669509, 'eval_STATE_f1': 0.9810756972111553, 'eval_STREET_f1': 0.9742923915866009, 'eval_TEL_f1': 0.9589377919842637, 'eval_TIME_f1': 0.9655172413793104, 'eval_TITLE_f1': 0.9587496797335383, 'eval_USERNAME_f1': 0.9489869753979739, 'eval_precision': 0.9344968881673045, 'eval_recall': 0.9459052314434402, 'eval_f1': 0.9401664527670829, 'eval_accuracy': 0.991360298067189, 'eval_runtime': 33.3766, 'eval_samples_per_second': 238.071, 'eval_steps_per_second': 7.46, 'epoch': 30.0}\n"
     ]
    },
    {
     "name": "stderr",
     "output_type": "stream",
     "text": [
      " 61%|██████    | 28501/46750 [2:34:49<1:15:48,  4.01it/s] "
     ]
    },
    {
     "name": "stdout",
     "output_type": "stream",
     "text": [
      "{'loss': 0.0005, 'grad_norm': 0.003951985388994217, 'learning_rate': 7.426262656346979e-06, 'epoch': 30.48}\n"
     ]
    },
    {
     "name": "stderr",
     "output_type": "stream",
     "text": [
      "                                                         \n",
      " 62%|██████▏   | 28985/46750 [2:37:42<1:14:27,  3.98it/s]"
     ]
    },
    {
     "name": "stdout",
     "output_type": "stream",
     "text": [
      "{'eval_loss': 0.06997386366128922, 'eval_BOD_f1': 0.9566694987255735, 'eval_BUILDING_f1': 0.9818274891220886, 'eval_CARDISSUER_f1': 1.0, 'eval_CITY_f1': 0.9650452212173062, 'eval_COUNTRY_f1': 0.9720037747719408, 'eval_DATE_f1': 0.9068873780668046, 'eval_DRIVERLICENSE_f1': 0.9370400654129191, 'eval_EMAIL_f1': 0.9842355175688509, 'eval_GEOCOORD_f1': 0.9699769053117783, 'eval_GIVENNAME1_f1': 0.8428504011326098, 'eval_GIVENNAME2_f1': 0.730186999109528, 'eval_IDCARD_f1': 0.9318010550113037, 'eval_IP_f1': 0.9852125693160815, 'eval_LASTNAME1_f1': 0.7882229232386962, 'eval_LASTNAME2_f1': 0.6774941995359629, 'eval_LASTNAME3_f1': 0.65, 'eval_PASS_f1': 0.9097030915212733, 'eval_PASSPORT_f1': 0.9359868691013542, 'eval_POSTCODE_f1': 0.9804534792806879, 'eval_SECADDRESS_f1': 0.9767711962833914, 'eval_SEX_f1': 0.9729330708661418, 'eval_SOCIALNUMBER_f1': 0.946329913180742, 'eval_STATE_f1': 0.9776896380763511, 'eval_STREET_f1': 0.9717250324254215, 'eval_TEL_f1': 0.9600788565795958, 'eval_TIME_f1': 0.9649560309751936, 'eval_TITLE_f1': 0.9569207239357634, 'eval_USERNAME_f1': 0.9469875158313733, 'eval_precision': 0.9302871209061713, 'eval_recall': 0.9463943342332825, 'eval_f1': 0.9382716049382716, 'eval_accuracy': 0.9910177937922048, 'eval_runtime': 33.0885, 'eval_samples_per_second': 240.144, 'eval_steps_per_second': 7.525, 'epoch': 31.0}\n"
     ]
    },
    {
     "name": "stderr",
     "output_type": "stream",
     "text": [
      " 62%|██████▏   | 29000/46750 [2:37:48<1:40:05,  2.96it/s] "
     ]
    },
    {
     "name": "stdout",
     "output_type": "stream",
     "text": [
      "{'loss': 0.0007, 'grad_norm': 0.004321034532040358, 'learning_rate': 7.081052077989668e-06, 'epoch': 31.02}\n"
     ]
    },
    {
     "name": "stderr",
     "output_type": "stream",
     "text": [
      " 63%|██████▎   | 29500/46750 [2:40:13<1:20:28,  3.57it/s]"
     ]
    },
    {
     "name": "stdout",
     "output_type": "stream",
     "text": [
      "{'loss': 0.0006, 'grad_norm': 0.014548027887940407, 'learning_rate': 6.7396038854765825e-06, 'epoch': 31.55}\n"
     ]
    },
    {
     "name": "stderr",
     "output_type": "stream",
     "text": [
      "                                                         \n",
      " 64%|██████▍   | 29920/46750 [2:42:47<1:07:46,  4.14it/s]"
     ]
    },
    {
     "name": "stdout",
     "output_type": "stream",
     "text": [
      "{'eval_loss': 0.06746794283390045, 'eval_BOD_f1': 0.9595698924731183, 'eval_BUILDING_f1': 0.9818274891220886, 'eval_CARDISSUER_f1': 1.0, 'eval_CITY_f1': 0.9655003670173722, 'eval_COUNTRY_f1': 0.9713385826771653, 'eval_DATE_f1': 0.9146198830409357, 'eval_DRIVERLICENSE_f1': 0.9413218035824583, 'eval_EMAIL_f1': 0.9847850893875998, 'eval_GEOCOORD_f1': 0.9836829836829837, 'eval_GIVENNAME1_f1': 0.8445914029286727, 'eval_GIVENNAME2_f1': 0.7179006560449859, 'eval_IDCARD_f1': 0.9327794561933533, 'eval_IP_f1': 0.9877286408890946, 'eval_LASTNAME1_f1': 0.792199622562382, 'eval_LASTNAME2_f1': 0.671664167916042, 'eval_LASTNAME3_f1': 0.649859943977591, 'eval_PASS_f1': 0.9169475942384309, 'eval_PASSPORT_f1': 0.9371213703781074, 'eval_POSTCODE_f1': 0.9812304483837331, 'eval_SECADDRESS_f1': 0.9773387565368972, 'eval_SEX_f1': 0.973066468989375, 'eval_SOCIALNUMBER_f1': 0.9409038238702202, 'eval_STATE_f1': 0.9804116042648153, 'eval_STREET_f1': 0.9724675324675324, 'eval_TEL_f1': 0.9627606752730884, 'eval_TIME_f1': 0.9655081621906266, 'eval_TITLE_f1': 0.9580562659846549, 'eval_USERNAME_f1': 0.9501805054151623, 'eval_precision': 0.9331159811713867, 'eval_recall': 0.946296513675314, 'eval_f1': 0.9396600291403593, 'eval_accuracy': 0.9913779920149741, 'eval_runtime': 32.9869, 'eval_samples_per_second': 240.883, 'eval_steps_per_second': 7.548, 'epoch': 32.0}\n"
     ]
    },
    {
     "name": "stderr",
     "output_type": "stream",
     "text": [
      " 64%|██████▍   | 30000/46750 [2:43:11<1:28:49,  3.14it/s] "
     ]
    },
    {
     "name": "stdout",
     "output_type": "stream",
     "text": [
      "{'loss': 0.0004, 'grad_norm': 0.24949930608272552, 'learning_rate': 6.4023581893819345e-06, 'epoch': 32.09}\n"
     ]
    },
    {
     "name": "stderr",
     "output_type": "stream",
     "text": [
      " 65%|██████▌   | 30500/46750 [2:45:36<1:16:19,  3.55it/s]"
     ]
    },
    {
     "name": "stdout",
     "output_type": "stream",
     "text": [
      "{'loss': 0.0005, 'grad_norm': 0.001148969866335392, 'learning_rate': 6.069749683460765e-06, 'epoch': 32.62}\n"
     ]
    },
    {
     "name": "stderr",
     "output_type": "stream",
     "text": [
      "                                                         \n",
      " 66%|██████▌   | 30855/46750 [2:47:51<1:09:52,  3.79it/s]"
     ]
    },
    {
     "name": "stdout",
     "output_type": "stream",
     "text": [
      "{'eval_loss': 0.06977463513612747, 'eval_BOD_f1': 0.9581993569131831, 'eval_BUILDING_f1': 0.9813537675606641, 'eval_CARDISSUER_f1': 1.0, 'eval_CITY_f1': 0.962545899632803, 'eval_COUNTRY_f1': 0.9727016002510198, 'eval_DATE_f1': 0.910781749491427, 'eval_DRIVERLICENSE_f1': 0.9387839800788544, 'eval_EMAIL_f1': 0.9846153846153846, 'eval_GEOCOORD_f1': 0.9791183294663574, 'eval_GIVENNAME1_f1': 0.839645843580915, 'eval_GIVENNAME2_f1': 0.7124378109452737, 'eval_IDCARD_f1': 0.9324273310683276, 'eval_IP_f1': 0.9861239592969473, 'eval_LASTNAME1_f1': 0.7930144870013892, 'eval_LASTNAME2_f1': 0.6736526946107785, 'eval_LASTNAME3_f1': 0.6374269005847953, 'eval_PASS_f1': 0.9153374233128835, 'eval_PASSPORT_f1': 0.9378438964744243, 'eval_POSTCODE_f1': 0.980473834938818, 'eval_SECADDRESS_f1': 0.9796629866356769, 'eval_SEX_f1': 0.9742701632855023, 'eval_SOCIALNUMBER_f1': 0.9409241567557028, 'eval_STATE_f1': 0.9786176031824962, 'eval_STREET_f1': 0.9726633689143451, 'eval_TEL_f1': 0.9657568238213399, 'eval_TIME_f1': 0.9645148618567501, 'eval_TITLE_f1': 0.9580991313234544, 'eval_USERNAME_f1': 0.9476702508960574, 'eval_precision': 0.9305016336728811, 'eval_recall': 0.9471768986970301, 'eval_f1': 0.9387652214379896, 'eval_accuracy': 0.9909899890171139, 'eval_runtime': 32.8679, 'eval_samples_per_second': 241.756, 'eval_steps_per_second': 7.576, 'epoch': 33.0}\n"
     ]
    },
    {
     "name": "stderr",
     "output_type": "stream",
     "text": [
      " 66%|██████▋   | 31000/46750 [2:48:34<1:08:35,  3.83it/s] "
     ]
    },
    {
     "name": "stdout",
     "output_type": "stream",
     "text": [
      "{'loss': 0.0005, 'grad_norm': 0.0814817026257515, 'learning_rate': 5.742207084349274e-06, 'epoch': 33.16}\n"
     ]
    },
    {
     "name": "stderr",
     "output_type": "stream",
     "text": [
      " 67%|██████▋   | 31500/46750 [2:50:57<1:16:45,  3.31it/s]"
     ]
    },
    {
     "name": "stdout",
     "output_type": "stream",
     "text": [
      "{'loss': 0.0004, 'grad_norm': 0.14676699042320251, 'learning_rate': 5.420152578969327e-06, 'epoch': 33.69}\n"
     ]
    },
    {
     "name": "stderr",
     "output_type": "stream",
     "text": [
      "                                                         \n",
      " 68%|██████▊   | 31790/46750 [2:52:55<1:00:17,  4.14it/s]"
     ]
    },
    {
     "name": "stdout",
     "output_type": "stream",
     "text": [
      "{'eval_loss': 0.06713838130235672, 'eval_BOD_f1': 0.9619436680283809, 'eval_BUILDING_f1': 0.9825997952917094, 'eval_CARDISSUER_f1': 1.0, 'eval_CITY_f1': 0.9664954756664221, 'eval_COUNTRY_f1': 0.9731945758435825, 'eval_DATE_f1': 0.911841722432354, 'eval_DRIVERLICENSE_f1': 0.9382716049382717, 'eval_EMAIL_f1': 0.983837231412816, 'eval_GEOCOORD_f1': 0.979020979020979, 'eval_GIVENNAME1_f1': 0.8444224585703686, 'eval_GIVENNAME2_f1': 0.7284522706209454, 'eval_IDCARD_f1': 0.9302673396896616, 'eval_IP_f1': 0.9856614246068455, 'eval_LASTNAME1_f1': 0.7987878787878787, 'eval_LASTNAME2_f1': 0.6716085989621942, 'eval_LASTNAME3_f1': 0.6612903225806452, 'eval_PASS_f1': 0.9186367823150139, 'eval_PASSPORT_f1': 0.9369964883288578, 'eval_POSTCODE_f1': 0.9822916666666667, 'eval_SECADDRESS_f1': 0.9773650609402206, 'eval_SEX_f1': 0.9755011135857461, 'eval_SOCIALNUMBER_f1': 0.9457914449043958, 'eval_STATE_f1': 0.9798457327693456, 'eval_STREET_f1': 0.9717689717689717, 'eval_TEL_f1': 0.9621005697299975, 'eval_TIME_f1': 0.9645408838317014, 'eval_TITLE_f1': 0.9582158420917714, 'eval_USERNAME_f1': 0.9500723589001446, 'eval_precision': 0.9333487663252117, 'eval_recall': 0.946550847126032, 'eval_f1': 0.9399034492137037, 'eval_accuracy': 0.9912794114487425, 'eval_runtime': 33.1099, 'eval_samples_per_second': 239.988, 'eval_steps_per_second': 7.52, 'epoch': 34.0}\n"
     ]
    },
    {
     "name": "stderr",
     "output_type": "stream",
     "text": [
      " 68%|██████▊   | 32000/46750 [2:53:58<1:17:55,  3.15it/s] "
     ]
    },
    {
     "name": "stdout",
     "output_type": "stream",
     "text": [
      "{'loss': 0.0004, 'grad_norm': 0.12206078320741653, 'learning_rate': 5.10400128034948e-06, 'epoch': 34.22}\n"
     ]
    },
    {
     "name": "stderr",
     "output_type": "stream",
     "text": [
      " 70%|██████▉   | 32500/46750 [2:56:21<1:05:46,  3.61it/s]"
     ]
    },
    {
     "name": "stdout",
     "output_type": "stream",
     "text": [
      "{'loss': 0.0003, 'grad_norm': 0.017783967778086662, 'learning_rate': 4.794160692563917e-06, 'epoch': 34.76}\n"
     ]
    },
    {
     "name": "stderr",
     "output_type": "stream",
     "text": [
      "                                                         \n",
      " 70%|███████   | 32725/46750 [2:57:59<57:35,  4.06it/s]"
     ]
    },
    {
     "name": "stdout",
     "output_type": "stream",
     "text": [
      "{'eval_loss': 0.0697576105594635, 'eval_BOD_f1': 0.9615301955727487, 'eval_BUILDING_f1': 0.9819016059138415, 'eval_CARDISSUER_f1': 1.0, 'eval_CITY_f1': 0.9647231749142576, 'eval_COUNTRY_f1': 0.9741976085588421, 'eval_DATE_f1': 0.9121071012805588, 'eval_DRIVERLICENSE_f1': 0.9371171906900776, 'eval_EMAIL_f1': 0.9851767388825541, 'eval_GEOCOORD_f1': 0.97459584295612, 'eval_GIVENNAME1_f1': 0.8433048433048433, 'eval_GIVENNAME2_f1': 0.7271111111111112, 'eval_IDCARD_f1': 0.9325971058644326, 'eval_IP_f1': 0.984984984984985, 'eval_LASTNAME1_f1': 0.7956173619890434, 'eval_LASTNAME2_f1': 0.6776119402985075, 'eval_LASTNAME3_f1': 0.6478873239436619, 'eval_PASS_f1': 0.9119804400977997, 'eval_PASSPORT_f1': 0.9364303178484108, 'eval_POSTCODE_f1': 0.9820265694191196, 'eval_SECADDRESS_f1': 0.9779069767441859, 'eval_SEX_f1': 0.9762611275964392, 'eval_SOCIALNUMBER_f1': 0.9428684003152088, 'eval_STATE_f1': 0.9783850931677018, 'eval_STREET_f1': 0.972229431611731, 'eval_TEL_f1': 0.9641000247586036, 'eval_TIME_f1': 0.9659150498164657, 'eval_TITLE_f1': 0.9583652618135376, 'eval_USERNAME_f1': 0.9507246376811594, 'eval_precision': 0.9321283517160401, 'eval_recall': 0.9473921039245607, 'eval_f1': 0.9396982486780187, 'eval_accuracy': 0.9912414958463458, 'eval_runtime': 32.8845, 'eval_samples_per_second': 241.634, 'eval_steps_per_second': 7.572, 'epoch': 35.0}\n"
     ]
    },
    {
     "name": "stderr",
     "output_type": "stream",
     "text": [
      " 71%|███████   | 33000/46750 [2:59:19<1:14:59,  3.06it/s] "
     ]
    },
    {
     "name": "stdout",
     "output_type": "stream",
     "text": [
      "{'loss': 0.0003, 'grad_norm': 0.06561919301748276, 'learning_rate': 4.491030185478976e-06, 'epoch': 35.29}\n"
     ]
    },
    {
     "name": "stderr",
     "output_type": "stream",
     "text": [
      " 72%|███████▏  | 33500/46750 [3:01:45<1:00:12,  3.67it/s]"
     ]
    },
    {
     "name": "stdout",
     "output_type": "stream",
     "text": [
      "{'loss': 0.0003, 'grad_norm': 0.002758509712293744, 'learning_rate': 4.195000479984264e-06, 'epoch': 35.83}\n"
     ]
    },
    {
     "name": "stderr",
     "output_type": "stream",
     "text": [
      "                                                         \n",
      " 72%|███████▏  | 33660/46750 [3:03:04<56:41,  3.85it/s]"
     ]
    },
    {
     "name": "stdout",
     "output_type": "stream",
     "text": [
      "{'eval_loss': 0.07023075968027115, 'eval_BOD_f1': 0.9582616179001722, 'eval_BUILDING_f1': 0.9800204918032787, 'eval_CARDISSUER_f1': 1.0, 'eval_CITY_f1': 0.9623471882640586, 'eval_COUNTRY_f1': 0.974763406940063, 'eval_DATE_f1': 0.911046511627907, 'eval_DRIVERLICENSE_f1': 0.941128205128205, 'eval_EMAIL_f1': 0.9848082035700721, 'eval_GEOCOORD_f1': 0.9791183294663574, 'eval_GIVENNAME1_f1': 0.8420542635658914, 'eval_GIVENNAME2_f1': 0.7235996326905417, 'eval_IDCARD_f1': 0.9323451159255036, 'eval_IP_f1': 0.9863646868500116, 'eval_LASTNAME1_f1': 0.7939431143851033, 'eval_LASTNAME2_f1': 0.6779400461183704, 'eval_LASTNAME3_f1': 0.6630727762803235, 'eval_PASS_f1': 0.9174816625916871, 'eval_PASSPORT_f1': 0.9412248253185369, 'eval_POSTCODE_f1': 0.9815056004167753, 'eval_SECADDRESS_f1': 0.9756380510440836, 'eval_SEX_f1': 0.9733069698467622, 'eval_SOCIALNUMBER_f1': 0.9472243940578577, 'eval_STATE_f1': 0.9783312577833125, 'eval_STREET_f1': 0.9717396940627431, 'eval_TEL_f1': 0.9632007903185972, 'eval_TIME_f1': 0.966798418972332, 'eval_TITLE_f1': 0.9575664621676893, 'eval_USERNAME_f1': 0.9520361990950226, 'eval_precision': 0.9329710144927537, 'eval_recall': 0.9470986422506554, 'eval_f1': 0.9399817479272247, 'eval_accuracy': 0.9912174826314945, 'eval_runtime': 32.9646, 'eval_samples_per_second': 241.046, 'eval_steps_per_second': 7.554, 'epoch': 36.0}\n"
     ]
    },
    {
     "name": "stderr",
     "output_type": "stream",
     "text": [
      " 73%|███████▎  | 34000/46750 [3:04:43<1:02:04,  3.42it/s] "
     ]
    },
    {
     "name": "stdout",
     "output_type": "stream",
     "text": [
      "{'loss': 0.0003, 'grad_norm': 0.033836595714092255, 'learning_rate': 3.90645314437192e-06, 'epoch': 36.36}\n"
     ]
    },
    {
     "name": "stderr",
     "output_type": "stream",
     "text": [
      " 74%|███████▍  | 34500/46750 [3:07:09<1:03:12,  3.23it/s]"
     ]
    },
    {
     "name": "stdout",
     "output_type": "stream",
     "text": [
      "{'loss': 0.0003, 'grad_norm': 0.2316432148218155, 'learning_rate': 3.625760102513103e-06, 'epoch': 36.9}\n"
     ]
    },
    {
     "name": "stderr",
     "output_type": "stream",
     "text": [
      "                                                         \n",
      " 74%|███████▍  | 34595/46750 [3:08:10<49:30,  4.09it/s]"
     ]
    },
    {
     "name": "stdout",
     "output_type": "stream",
     "text": [
      "{'eval_loss': 0.0694008320569992, 'eval_BOD_f1': 0.959724316174887, 'eval_BUILDING_f1': 0.98257303946694, 'eval_CARDISSUER_f1': 1.0, 'eval_CITY_f1': 0.9666503187837177, 'eval_COUNTRY_f1': 0.9744721084147495, 'eval_DATE_f1': 0.9136018680677175, 'eval_DRIVERLICENSE_f1': 0.9412489728841413, 'eval_EMAIL_f1': 0.9838495154854645, 'eval_GEOCOORD_f1': 0.9813953488372094, 'eval_GIVENNAME1_f1': 0.8484701311316174, 'eval_GIVENNAME2_f1': 0.7295825771324864, 'eval_IDCARD_f1': 0.9357798165137615, 'eval_IP_f1': 0.9870490286771508, 'eval_LASTNAME1_f1': 0.7996681874740772, 'eval_LASTNAME2_f1': 0.6771771771771771, 'eval_LASTNAME3_f1': 0.6595174262734586, 'eval_PASS_f1': 0.9179219182293268, 'eval_PASSPORT_f1': 0.9416103257529196, 'eval_POSTCODE_f1': 0.9796663190823774, 'eval_SECADDRESS_f1': 0.9790697674418604, 'eval_SEX_f1': 0.9746772591857, 'eval_SOCIALNUMBER_f1': 0.9458722741433022, 'eval_STATE_f1': 0.9779101514023331, 'eval_STREET_f1': 0.9719917012448133, 'eval_TEL_f1': 0.966923650833126, 'eval_TIME_f1': 0.9663688912243826, 'eval_TITLE_f1': 0.9618949536560247, 'eval_USERNAME_f1': 0.9535390199637024, 'eval_precision': 0.9357750289911094, 'eval_recall': 0.9472355910318112, 'eval_f1': 0.9414704338188112, 'eval_accuracy': 0.9915081689165364, 'eval_runtime': 33.0808, 'eval_samples_per_second': 240.2, 'eval_steps_per_second': 7.527, 'epoch': 37.0}\n"
     ]
    },
    {
     "name": "stderr",
     "output_type": "stream",
     "text": [
      " 75%|███████▍  | 35000/46750 [3:10:07<58:09,  3.37it/s]   "
     ]
    },
    {
     "name": "stdout",
     "output_type": "stream",
     "text": [
      "{'loss': 0.0002, 'grad_norm': 0.054451752454042435, 'learning_rate': 3.3532831544657464e-06, 'epoch': 37.43}\n"
     ]
    },
    {
     "name": "stderr",
     "output_type": "stream",
     "text": [
      " 76%|███████▌  | 35500/46750 [3:12:33<55:51,  3.36it/s]  "
     ]
    },
    {
     "name": "stdout",
     "output_type": "stream",
     "text": [
      "{'loss': 0.0003, 'grad_norm': 0.0433049350976944, 'learning_rate': 3.089373510131354e-06, 'epoch': 37.97}\n"
     ]
    },
    {
     "name": "stderr",
     "output_type": "stream",
     "text": [
      "                                                       \n",
      " 76%|███████▌  | 35530/46750 [3:13:15<46:32,  4.02it/s]"
     ]
    },
    {
     "name": "stdout",
     "output_type": "stream",
     "text": [
      "{'eval_loss': 0.06989865005016327, 'eval_BOD_f1': 0.9604495353360709, 'eval_BUILDING_f1': 0.9813537675606641, 'eval_CARDISSUER_f1': 1.0, 'eval_CITY_f1': 0.9659230203481246, 'eval_COUNTRY_f1': 0.9739847715736041, 'eval_DATE_f1': 0.9199417758369723, 'eval_DRIVERLICENSE_f1': 0.9373464373464373, 'eval_EMAIL_f1': 0.9857441551035925, 'eval_GEOCOORD_f1': 0.9791183294663574, 'eval_GIVENNAME1_f1': 0.8474903474903476, 'eval_GIVENNAME2_f1': 0.7327502429543247, 'eval_IDCARD_f1': 0.9319470699432892, 'eval_IP_f1': 0.9845229845229846, 'eval_LASTNAME1_f1': 0.8001644736842106, 'eval_LASTNAME2_f1': 0.6840148698884758, 'eval_LASTNAME3_f1': 0.6505376344086022, 'eval_PASS_f1': 0.9156700398650721, 'eval_PASSPORT_f1': 0.9411283728536385, 'eval_POSTCODE_f1': 0.9812597605413848, 'eval_SECADDRESS_f1': 0.9779069767441859, 'eval_SEX_f1': 0.9744860044587565, 'eval_SOCIALNUMBER_f1': 0.9477817039654497, 'eval_STATE_f1': 0.9798256537982565, 'eval_STREET_f1': 0.9696969696969697, 'eval_TEL_f1': 0.962834489593657, 'eval_TIME_f1': 0.9664429530201343, 'eval_TITLE_f1': 0.9585465711361311, 'eval_USERNAME_f1': 0.9519161243673174, 'eval_precision': 0.9343775317310289, 'eval_recall': 0.9476855655984662, 'eval_f1': 0.9409844982322544, 'eval_accuracy': 0.9914677256073131, 'eval_runtime': 33.1534, 'eval_samples_per_second': 239.674, 'eval_steps_per_second': 7.511, 'epoch': 38.0}\n"
     ]
    },
    {
     "name": "stderr",
     "output_type": "stream",
     "text": [
      " 77%|███████▋  | 36000/46750 [3:15:33<55:09,  3.25it/s]   "
     ]
    },
    {
     "name": "stdout",
     "output_type": "stream",
     "text": [
      "{'loss': 0.0002, 'grad_norm': 0.004072383977472782, 'learning_rate': 2.834371336562077e-06, 'epoch': 38.5}\n"
     ]
    },
    {
     "name": "stderr",
     "output_type": "stream",
     "text": [
      "                                                         \n",
      " 78%|███████▊  | 36465/46750 [3:18:21<43:22,  3.95it/s]"
     ]
    },
    {
     "name": "stdout",
     "output_type": "stream",
     "text": [
      "{'eval_loss': 0.07087461650371552, 'eval_BOD_f1': 0.9597935927757472, 'eval_BUILDING_f1': 0.981363288230789, 'eval_CARDISSUER_f1': 1.0, 'eval_CITY_f1': 0.964486896889542, 'eval_COUNTRY_f1': 0.9725465446513095, 'eval_DATE_f1': 0.9167883211678832, 'eval_DRIVERLICENSE_f1': 0.9414674361088212, 'eval_EMAIL_f1': 0.9847966552641582, 'eval_GEOCOORD_f1': 0.9768518518518519, 'eval_GIVENNAME1_f1': 0.8525059665871121, 'eval_GIVENNAME2_f1': 0.7327823691460056, 'eval_IDCARD_f1': 0.9348908464189966, 'eval_IP_f1': 0.9831835982492514, 'eval_LASTNAME1_f1': 0.8030176026823135, 'eval_LASTNAME2_f1': 0.6878228782287823, 'eval_LASTNAME3_f1': 0.6590257879656161, 'eval_PASS_f1': 0.9112063686466626, 'eval_PASSPORT_f1': 0.9402893825147747, 'eval_POSTCODE_f1': 0.9825475384214639, 'eval_SECADDRESS_f1': 0.9790454016298021, 'eval_SEX_f1': 0.9750061865874784, 'eval_SOCIALNUMBER_f1': 0.9471631897055957, 'eval_STATE_f1': 0.9796019900497512, 'eval_STREET_f1': 0.9694458829621957, 'eval_TEL_f1': 0.9670384138785626, 'eval_TIME_f1': 0.9656804733727811, 'eval_TITLE_f1': 0.9578544061302682, 'eval_USERNAME_f1': 0.9523637022278573, 'eval_precision': 0.9346639668305853, 'eval_recall': 0.9482137966114959, 'eval_f1': 0.9413901271256396, 'eval_accuracy': 0.991355242653536, 'eval_runtime': 33.0973, 'eval_samples_per_second': 240.08, 'eval_steps_per_second': 7.523, 'epoch': 39.0}\n"
     ]
    },
    {
     "name": "stderr",
     "output_type": "stream",
     "text": [
      " 78%|███████▊  | 36500/46750 [3:18:32<49:54,  3.42it/s]   "
     ]
    },
    {
     "name": "stdout",
     "output_type": "stream",
     "text": [
      "{'loss': 0.0002, 'grad_norm': 0.0024651384446769953, 'learning_rate': 2.5886053195014537e-06, 'epoch': 39.04}\n"
     ]
    },
    {
     "name": "stderr",
     "output_type": "stream",
     "text": [
      " 79%|███████▉  | 37000/46750 [3:20:58<49:57,  3.25it/s]  "
     ]
    },
    {
     "name": "stdout",
     "output_type": "stream",
     "text": [
      "{'loss': 0.0002, 'grad_norm': 0.039074864238500595, 'learning_rate': 2.3523922397240163e-06, 'epoch': 39.57}\n"
     ]
    },
    {
     "name": "stderr",
     "output_type": "stream",
     "text": [
      "                                                       \n",
      " 80%|████████  | 37400/46750 [3:23:29<37:20,  4.17it/s]"
     ]
    },
    {
     "name": "stdout",
     "output_type": "stream",
     "text": [
      "{'eval_loss': 0.07152894139289856, 'eval_BOD_f1': 0.9593810444874273, 'eval_BUILDING_f1': 0.9816044966785897, 'eval_CARDISSUER_f1': 1.0, 'eval_CITY_f1': 0.9621674395899439, 'eval_COUNTRY_f1': 0.9747474747474747, 'eval_DATE_f1': 0.9152046783625731, 'eval_DRIVERLICENSE_f1': 0.9424714434060228, 'eval_EMAIL_f1': 0.9840425531914894, 'eval_GEOCOORD_f1': 0.9836829836829837, 'eval_GIVENNAME1_f1': 0.8511761881901103, 'eval_GIVENNAME2_f1': 0.7248826291079813, 'eval_IDCARD_f1': 0.9310409269295459, 'eval_IP_f1': 0.9854537058416071, 'eval_LASTNAME1_f1': 0.7990105132962275, 'eval_LASTNAME2_f1': 0.6853146853146853, 'eval_LASTNAME3_f1': 0.6702702702702703, 'eval_PASS_f1': 0.9113768782582029, 'eval_PASSPORT_f1': 0.9410071942446043, 'eval_POSTCODE_f1': 0.9820452771272443, 'eval_SECADDRESS_f1': 0.9784758580570099, 'eval_SEX_f1': 0.9755253399258343, 'eval_SOCIALNUMBER_f1': 0.9468334636434713, 'eval_STATE_f1': 0.9791148682247638, 'eval_STREET_f1': 0.9712211563391238, 'eval_TEL_f1': 0.9671641791044777, 'eval_TIME_f1': 0.9670560441002756, 'eval_TITLE_f1': 0.9576098059244127, 'eval_USERNAME_f1': 0.9518987341772153, 'eval_precision': 0.9341582822558884, 'eval_recall': 0.9481942324999022, 'eval_f1': 0.9411239271428018, 'eval_accuracy': 0.9913678811876683, 'eval_runtime': 33.1788, 'eval_samples_per_second': 239.49, 'eval_steps_per_second': 7.505, 'epoch': 40.0}\n"
     ]
    },
    {
     "name": "stderr",
     "output_type": "stream",
     "text": [
      " 80%|████████  | 37500/46750 [3:23:58<39:54,  3.86it/s]   "
     ]
    },
    {
     "name": "stdout",
     "output_type": "stream",
     "text": [
      "{'loss': 0.0002, 'grad_norm': 0.02257128432393074, 'learning_rate': 2.12603656471988e-06, 'epoch': 40.11}\n"
     ]
    },
    {
     "name": "stderr",
     "output_type": "stream",
     "text": [
      " 81%|████████▏ | 38000/46750 [3:26:24<45:49,  3.18it/s]"
     ]
    },
    {
     "name": "stdout",
     "output_type": "stream",
     "text": [
      "{'loss': 0.0002, 'grad_norm': 0.03793947026133537, 'learning_rate': 1.9098300562505266e-06, 'epoch': 40.64}\n"
     ]
    },
    {
     "name": "stderr",
     "output_type": "stream",
     "text": [
      "                                                       \n",
      " 82%|████████▏ | 38335/46750 [3:28:36<34:24,  4.08it/s]"
     ]
    },
    {
     "name": "stdout",
     "output_type": "stream",
     "text": [
      "{'eval_loss': 0.07147062569856644, 'eval_BOD_f1': 0.9605518430696269, 'eval_BUILDING_f1': 0.9825997952917094, 'eval_CARDISSUER_f1': 0.0, 'eval_CITY_f1': 0.9640322975287496, 'eval_COUNTRY_f1': 0.9740834386852086, 'eval_DATE_f1': 0.9150174621653085, 'eval_DRIVERLICENSE_f1': 0.9404000824912353, 'eval_EMAIL_f1': 0.9851654621529099, 'eval_GEOCOORD_f1': 0.9836829836829837, 'eval_GIVENNAME1_f1': 0.8488344148041337, 'eval_GIVENNAME2_f1': 0.7277829747427501, 'eval_IDCARD_f1': 0.9342982289087792, 'eval_IP_f1': 0.9852262234533703, 'eval_LASTNAME1_f1': 0.7983471074380166, 'eval_LASTNAME2_f1': 0.6829640947288006, 'eval_LASTNAME3_f1': 0.6592178770949721, 'eval_PASS_f1': 0.9192508443352778, 'eval_PASSPORT_f1': 0.9409836065573771, 'eval_POSTCODE_f1': 0.9812695109261186, 'eval_SECADDRESS_f1': 0.9761766414875074, 'eval_SEX_f1': 0.9742956005931784, 'eval_SOCIALNUMBER_f1': 0.9489736070381232, 'eval_STATE_f1': 0.9788819875776398, 'eval_STREET_f1': 0.9719771665801765, 'eval_TEL_f1': 0.9615194869264924, 'eval_TIME_f1': 0.9666140904311251, 'eval_TITLE_f1': 0.9574795081967213, 'eval_USERNAME_f1': 0.9525713247319644, 'eval_precision': 0.9350827395779027, 'eval_recall': 0.9474312321477482, 'eval_f1': 0.9412164854280244, 'eval_accuracy': 0.9914437123924619, 'eval_runtime': 33.1437, 'eval_samples_per_second': 239.744, 'eval_steps_per_second': 7.513, 'epoch': 41.0}\n"
     ]
    },
    {
     "name": "stderr",
     "output_type": "stream",
     "text": [
      " 82%|████████▏ | 38500/46750 [3:29:24<37:10,  3.70it/s]   "
     ]
    },
    {
     "name": "stdout",
     "output_type": "stream",
     "text": [
      "{'loss': 0.0002, 'grad_norm': 0.003088444471359253, 'learning_rate': 1.7040513942816905e-06, 'epoch': 41.18}\n"
     ]
    },
    {
     "name": "stderr",
     "output_type": "stream",
     "text": [
      " 83%|████████▎ | 39000/46750 [3:31:50<37:35,  3.44it/s]"
     ]
    },
    {
     "name": "stdout",
     "output_type": "stream",
     "text": [
      "{'loss': 0.0002, 'grad_norm': 0.20396578311920166, 'learning_rate': 1.5089658177780653e-06, 'epoch': 41.71}\n"
     ]
    },
    {
     "name": "stderr",
     "output_type": "stream",
     "text": [
      "                                                       \n",
      " 84%|████████▍ | 39270/46750 [3:33:43<31:35,  3.95it/s]"
     ]
    },
    {
     "name": "stdout",
     "output_type": "stream",
     "text": [
      "{'eval_loss': 0.07122096419334412, 'eval_BOD_f1': 0.959724316174887, 'eval_BUILDING_f1': 0.9816232771822359, 'eval_CARDISSUER_f1': 0.0, 'eval_CITY_f1': 0.965906303654648, 'eval_COUNTRY_f1': 0.9747315224257739, 'eval_DATE_f1': 0.9183971921614507, 'eval_DRIVERLICENSE_f1': 0.9412008281573498, 'eval_EMAIL_f1': 0.9840425531914894, 'eval_GEOCOORD_f1': 0.9836829836829837, 'eval_GIVENNAME1_f1': 0.8500595947556615, 'eval_GIVENNAME2_f1': 0.7168059424326834, 'eval_IDCARD_f1': 0.9311573813543425, 'eval_IP_f1': 0.9870550161812297, 'eval_LASTNAME1_f1': 0.8000832986255727, 'eval_LASTNAME2_f1': 0.6858029480217223, 'eval_LASTNAME3_f1': 0.6511627906976744, 'eval_PASS_f1': 0.9167945962542217, 'eval_PASSPORT_f1': 0.9394683026584867, 'eval_POSTCODE_f1': 0.9807291666666667, 'eval_SECADDRESS_f1': 0.9779069767441859, 'eval_SEX_f1': 0.9750061865874784, 'eval_SOCIALNUMBER_f1': 0.9453476983349658, 'eval_STATE_f1': 0.9803433689972629, 'eval_STREET_f1': 0.9727485076563716, 'eval_TEL_f1': 0.9676938369781312, 'eval_TIME_f1': 0.9676571128056798, 'eval_TITLE_f1': 0.9595286885245902, 'eval_USERNAME_f1': 0.9521739130434782, 'eval_precision': 0.9354925932363791, 'eval_recall': 0.9476268732636851, 'eval_f1': 0.9415206383454335, 'eval_accuracy': 0.9914550870731809, 'eval_runtime': 33.3813, 'eval_samples_per_second': 238.038, 'eval_steps_per_second': 7.459, 'epoch': 42.0}\n"
     ]
    },
    {
     "name": "stderr",
     "output_type": "stream",
     "text": [
      " 84%|████████▍ | 39500/46750 [3:34:51<34:34,  3.50it/s]   "
     ]
    },
    {
     "name": "stdout",
     "output_type": "stream",
     "text": [
      "{'loss': 0.0002, 'grad_norm': 0.018977703526616096, 'learning_rate': 1.3248247828228244e-06, 'epoch': 42.25}\n"
     ]
    },
    {
     "name": "stderr",
     "output_type": "stream",
     "text": [
      " 86%|████████▌ | 40000/46750 [3:37:17<32:23,  3.47it/s]"
     ]
    },
    {
     "name": "stdout",
     "output_type": "stream",
     "text": [
      "{'loss': 0.0002, 'grad_norm': 0.07507757097482681, 'learning_rate': 1.151865638502615e-06, 'epoch': 42.78}\n"
     ]
    },
    {
     "name": "stderr",
     "output_type": "stream",
     "text": [
      "                                                       \n",
      " 86%|████████▌ | 40205/46750 [3:38:49<27:09,  4.02it/s]"
     ]
    },
    {
     "name": "stdout",
     "output_type": "stream",
     "text": [
      "{'eval_loss': 0.07124247401952744, 'eval_BOD_f1': 0.9603789836347977, 'eval_BUILDING_f1': 0.9816420193778684, 'eval_CARDISSUER_f1': 1.0, 'eval_CITY_f1': 0.9647231749142576, 'eval_COUNTRY_f1': 0.9735182849936947, 'eval_DATE_f1': 0.9147512365434972, 'eval_DRIVERLICENSE_f1': 0.9417114510128152, 'eval_EMAIL_f1': 0.9842295268858067, 'eval_GEOCOORD_f1': 0.9813953488372094, 'eval_GIVENNAME1_f1': 0.8520481927710842, 'eval_GIVENNAME2_f1': 0.7296058661778185, 'eval_IDCARD_f1': 0.9336850037678975, 'eval_IP_f1': 0.9865926953305595, 'eval_LASTNAME1_f1': 0.8008298755186721, 'eval_LASTNAME2_f1': 0.6867749419953596, 'eval_LASTNAME3_f1': 0.6648199445983378, 'eval_PASS_f1': 0.9171779141104295, 'eval_PASSPORT_f1': 0.9399917796958488, 'eval_POSTCODE_f1': 0.9825566258786774, 'eval_SECADDRESS_f1': 0.9767441860465116, 'eval_SEX_f1': 0.974764967837704, 'eval_SOCIALNUMBER_f1': 0.9450078003120124, 'eval_STATE_f1': 0.9793891234169356, 'eval_STREET_f1': 0.9717396940627431, 'eval_TEL_f1': 0.9676455948232952, 'eval_TIME_f1': 0.9662242081745301, 'eval_TITLE_f1': 0.9600818833162743, 'eval_USERNAME_f1': 0.9530882086578519, 'eval_precision': 0.9352591563428659, 'eval_recall': 0.9482137966114959, 'eval_f1': 0.941691925079661, 'eval_accuracy': 0.9914904749687512, 'eval_runtime': 33.0641, 'eval_samples_per_second': 240.321, 'eval_steps_per_second': 7.531, 'epoch': 43.0}\n"
     ]
    },
    {
     "name": "stderr",
     "output_type": "stream",
     "text": [
      " 87%|████████▋ | 40500/46750 [3:40:16<29:15,  3.56it/s]   "
     ]
    },
    {
     "name": "stdout",
     "output_type": "stream",
     "text": [
      "{'loss': 0.0002, 'grad_norm': 0.017236489802598953, 'learning_rate': 9.903113209758098e-07, 'epoch': 43.32}\n"
     ]
    },
    {
     "name": "stderr",
     "output_type": "stream",
     "text": [
      " 88%|████████▊ | 41000/46750 [3:42:42<25:20,  3.78it/s]"
     ]
    },
    {
     "name": "stdout",
     "output_type": "stream",
     "text": [
      "{'loss': 0.0002, 'grad_norm': 0.004363588057458401, 'learning_rate': 8.403700661183356e-07, 'epoch': 43.85}\n"
     ]
    },
    {
     "name": "stderr",
     "output_type": "stream",
     "text": [
      "                                                       \n",
      " 88%|████████▊ | 41140/46750 [3:43:56<22:35,  4.14it/s]"
     ]
    },
    {
     "name": "stdout",
     "output_type": "stream",
     "text": [
      "{'eval_loss': 0.07163746654987335, 'eval_BOD_f1': 0.9589335626746937, 'eval_BUILDING_f1': 0.9815856777493606, 'eval_CARDISSUER_f1': 1.0, 'eval_CITY_f1': 0.9666666666666667, 'eval_COUNTRY_f1': 0.9728877679697352, 'eval_DATE_f1': 0.9131701631701632, 'eval_DRIVERLICENSE_f1': 0.9404272801972063, 'eval_EMAIL_f1': 0.9848082035700721, 'eval_GEOCOORD_f1': 0.9836829836829837, 'eval_GIVENNAME1_f1': 0.8483816013628619, 'eval_GIVENNAME2_f1': 0.7298578199052133, 'eval_IDCARD_f1': 0.9338137682533663, 'eval_IP_f1': 0.9870550161812297, 'eval_LASTNAME1_f1': 0.7989320188950503, 'eval_LASTNAME2_f1': 0.6836581709145426, 'eval_LASTNAME3_f1': 0.657608695652174, 'eval_PASS_f1': 0.9185049019607843, 'eval_PASSPORT_f1': 0.9410798603982755, 'eval_POSTCODE_f1': 0.9817803227485685, 'eval_SECADDRESS_f1': 0.9773123909249564, 'eval_SEX_f1': 0.9745238684145436, 'eval_SOCIALNUMBER_f1': 0.9456881448316138, 'eval_STATE_f1': 0.9801291604570292, 'eval_STREET_f1': 0.9719771665801765, 'eval_TEL_f1': 0.9678384442782348, 'eval_TIME_f1': 0.9667586388122454, 'eval_TITLE_f1': 0.9579918032786884, 'eval_USERNAME_f1': 0.9520708988967264, 'eval_precision': 0.9347041916629695, 'eval_recall': 0.9479985913839653, 'eval_f1': 0.9413044534019718, 'eval_accuracy': 0.9914209630310238, 'eval_runtime': 33.1124, 'eval_samples_per_second': 239.97, 'eval_steps_per_second': 7.52, 'epoch': 44.0}\n"
     ]
    },
    {
     "name": "stderr",
     "output_type": "stream",
     "text": [
      " 89%|████████▉ | 41500/46750 [3:45:42<26:25,  3.31it/s]   "
     ]
    },
    {
     "name": "stdout",
     "output_type": "stream",
     "text": [
      "{'loss': 0.0001, 'grad_norm': 0.03523299843072891, 'learning_rate': 7.022351411174866e-07, 'epoch': 44.39}\n"
     ]
    },
    {
     "name": "stderr",
     "output_type": "stream",
     "text": [
      " 90%|████████▉ | 42000/46750 [3:48:07<23:06,  3.43it/s]"
     ]
    },
    {
     "name": "stdout",
     "output_type": "stream",
     "text": [
      "{'loss': 0.0001, 'grad_norm': 0.0019159680232405663, 'learning_rate': 5.760845953596527e-07, 'epoch': 44.92}\n"
     ]
    },
    {
     "name": "stderr",
     "output_type": "stream",
     "text": [
      "                                                       \n",
      " 90%|█████████ | 42075/46750 [3:49:03<20:15,  3.85it/s]"
     ]
    },
    {
     "name": "stdout",
     "output_type": "stream",
     "text": [
      "{'eval_loss': 0.07167435437440872, 'eval_BOD_f1': 0.9607927617406291, 'eval_BUILDING_f1': 0.9813346970084378, 'eval_CARDISSUER_f1': 1.0, 'eval_CITY_f1': 0.9654496446949278, 'eval_COUNTRY_f1': 0.9738582677165355, 'eval_DATE_f1': 0.9159150421879546, 'eval_DRIVERLICENSE_f1': 0.9412492269635128, 'eval_EMAIL_f1': 0.9848024316109423, 'eval_GEOCOORD_f1': 0.9813953488372094, 'eval_GIVENNAME1_f1': 0.8492753623188406, 'eval_GIVENNAME2_f1': 0.7250698974836906, 'eval_IDCARD_f1': 0.9339390497823206, 'eval_IP_f1': 0.9863646868500116, 'eval_LASTNAME1_f1': 0.8007456503728253, 'eval_LASTNAME2_f1': 0.6884996191926885, 'eval_LASTNAME3_f1': 0.6592178770949721, 'eval_PASS_f1': 0.9188361408882083, 'eval_PASSPORT_f1': 0.9408150727012083, 'eval_POSTCODE_f1': 0.9822916666666667, 'eval_SECADDRESS_f1': 0.9778812572759022, 'eval_SEX_f1': 0.974764967837704, 'eval_SOCIALNUMBER_f1': 0.9459933710274907, 'eval_STATE_f1': 0.9798657718120805, 'eval_STREET_f1': 0.9717250324254215, 'eval_TEL_f1': 0.9666666666666668, 'eval_TIME_f1': 0.9662419545514253, 'eval_TITLE_f1': 0.9575881451200818, 'eval_USERNAME_f1': 0.9515545914678236, 'eval_precision': 0.9350245972798302, 'eval_recall': 0.9482137966114959, 'eval_f1': 0.9415730118796685, 'eval_accuracy': 0.9914588786334205, 'eval_runtime': 33.1724, 'eval_samples_per_second': 239.536, 'eval_steps_per_second': 7.506, 'epoch': 45.0}\n"
     ]
    },
    {
     "name": "stderr",
     "output_type": "stream",
     "text": [
      " 91%|█████████ | 42500/46750 [3:51:08<22:55,  3.09it/s]   "
     ]
    },
    {
     "name": "stdout",
     "output_type": "stream",
     "text": [
      "{'loss': 0.0001, 'grad_norm': 0.004615441896021366, 'learning_rate': 4.620810309330803e-07, 'epoch': 45.45}\n"
     ]
    },
    {
     "name": "stderr",
     "output_type": "stream",
     "text": [
      " 92%|█████████▏| 43000/46750 [3:53:33<18:51,  3.31it/s]"
     ]
    },
    {
     "name": "stdout",
     "output_type": "stream",
     "text": [
      "{'loss': 0.0001, 'grad_norm': 0.0005737920291721821, 'learning_rate': 3.603713930414676e-07, 'epoch': 45.99}\n"
     ]
    },
    {
     "name": "stderr",
     "output_type": "stream",
     "text": [
      "                                                       \n",
      " 92%|█████████▏| 43010/46750 [3:54:09<16:00,  3.89it/s]"
     ]
    },
    {
     "name": "stdout",
     "output_type": "stream",
     "text": [
      "{'eval_loss': 0.07144143432378769, 'eval_BOD_f1': 0.9607758620689655, 'eval_BUILDING_f1': 0.9815856777493606, 'eval_CARDISSUER_f1': 1.0, 'eval_CITY_f1': 0.9659230203481246, 'eval_COUNTRY_f1': 0.9741488020176544, 'eval_DATE_f1': 0.9156486329261198, 'eval_DRIVERLICENSE_f1': 0.9411521784018171, 'eval_EMAIL_f1': 0.9859369061193461, 'eval_GEOCOORD_f1': 0.9813953488372094, 'eval_GIVENNAME1_f1': 0.8503974945796193, 'eval_GIVENNAME2_f1': 0.7335190343546889, 'eval_IDCARD_f1': 0.9338374291115312, 'eval_IP_f1': 0.9863646868500116, 'eval_LASTNAME1_f1': 0.799585062240664, 'eval_LASTNAME2_f1': 0.687311178247734, 'eval_LASTNAME3_f1': 0.6666666666666666, 'eval_PASS_f1': 0.920012258657677, 'eval_PASSPORT_f1': 0.9410560785918953, 'eval_POSTCODE_f1': 0.9823008849557522, 'eval_SECADDRESS_f1': 0.9773123909249564, 'eval_SEX_f1': 0.974764967837704, 'eval_SOCIALNUMBER_f1': 0.9463414634146342, 'eval_STATE_f1': 0.9803629132488193, 'eval_STREET_f1': 0.9724818276220146, 'eval_TEL_f1': 0.966940094456873, 'eval_TIME_f1': 0.9671398527865406, 'eval_TITLE_f1': 0.9590373783922173, 'eval_USERNAME_f1': 0.951709169831796, 'eval_precision': 0.9354066985645934, 'eval_recall': 0.9485463865085887, 'eval_f1': 0.9419307209605036, 'eval_accuracy': 0.9914879472619248, 'eval_runtime': 33.2298, 'eval_samples_per_second': 239.123, 'eval_steps_per_second': 7.493, 'epoch': 46.0}\n"
     ]
    },
    {
     "name": "stderr",
     "output_type": "stream",
     "text": [
      " 93%|█████████▎| 43500/46750 [3:56:33<16:22,  3.31it/s]   "
     ]
    },
    {
     "name": "stdout",
     "output_type": "stream",
     "text": [
      "{'loss': 0.0001, 'grad_norm': 0.054611772298812866, 'learning_rate': 2.7108678059855064e-07, 'epoch': 46.52}\n"
     ]
    },
    {
     "name": "stderr",
     "output_type": "stream",
     "text": [
      "                                                       \n",
      " 94%|█████████▍| 43945/46750 [3:59:16<11:54,  3.93it/s]"
     ]
    },
    {
     "name": "stdout",
     "output_type": "stream",
     "text": [
      "{'eval_loss': 0.07177942246198654, 'eval_BOD_f1': 0.9607927617406291, 'eval_BUILDING_f1': 0.9815856777493606, 'eval_CARDISSUER_f1': 1.0, 'eval_CITY_f1': 0.9659397206567018, 'eval_COUNTRY_f1': 0.9738582677165355, 'eval_DATE_f1': 0.9169338385310405, 'eval_DRIVERLICENSE_f1': 0.9403046521202141, 'eval_EMAIL_f1': 0.9859369061193461, 'eval_GEOCOORD_f1': 0.9813953488372094, 'eval_GIVENNAME1_f1': 0.8502763758711849, 'eval_GIVENNAME2_f1': 0.7313019390581718, 'eval_IDCARD_f1': 0.9345226798253938, 'eval_IP_f1': 0.9863646868500116, 'eval_LASTNAME1_f1': 0.8009950248756219, 'eval_LASTNAME2_f1': 0.6922486569455104, 'eval_LASTNAME3_f1': 0.6630434782608696, 'eval_PASS_f1': 0.9190184049079755, 'eval_PASSPORT_f1': 0.9413207932938049, 'eval_POSTCODE_f1': 0.9815152304087478, 'eval_SECADDRESS_f1': 0.9773123909249564, 'eval_SEX_f1': 0.9752475247524752, 'eval_SOCIALNUMBER_f1': 0.9462785700332096, 'eval_STATE_f1': 0.9796222664015904, 'eval_STREET_f1': 0.972229431611731, 'eval_TEL_f1': 0.9674372358936117, 'eval_TIME_f1': 0.9673941625032869, 'eval_TITLE_f1': 0.9590373783922173, 'eval_USERNAME_f1': 0.9520708988967264, 'eval_precision': 0.9356077417362947, 'eval_recall': 0.948585514731776, 'eval_f1': 0.9420519346784927, 'eval_accuracy': 0.9914816279948586, 'eval_runtime': 33.2582, 'eval_samples_per_second': 238.918, 'eval_steps_per_second': 7.487, 'epoch': 47.0}\n"
     ]
    },
    {
     "name": "stderr",
     "output_type": "stream",
     "text": [
      " 94%|█████████▍| 44000/46750 [3:59:33<13:48,  3.32it/s]  "
     ]
    },
    {
     "name": "stdout",
     "output_type": "stream",
     "text": [
      "{'loss': 0.0001, 'grad_norm': 0.0016892210114747286, 'learning_rate': 1.9434227724779987e-07, 'epoch': 47.06}\n"
     ]
    },
    {
     "name": "stderr",
     "output_type": "stream",
     "text": [
      " 95%|█████████▌| 44500/46750 [4:01:59<10:16,  3.65it/s]"
     ]
    },
    {
     "name": "stdout",
     "output_type": "stream",
     "text": [
      "{'loss': 0.0001, 'grad_norm': 0.056727029383182526, 'learning_rate': 1.3023680302504338e-07, 'epoch': 47.59}\n"
     ]
    },
    {
     "name": "stderr",
     "output_type": "stream",
     "text": [
      "                                                       \n",
      " 96%|█████████▌| 44880/46750 [4:04:23<07:47,  4.00it/s]"
     ]
    },
    {
     "name": "stdout",
     "output_type": "stream",
     "text": [
      "{'eval_loss': 0.07161174714565277, 'eval_BOD_f1': 0.9608096468561584, 'eval_BUILDING_f1': 0.9815856777493606, 'eval_CARDISSUER_f1': 1.0, 'eval_CITY_f1': 0.9651960784313726, 'eval_COUNTRY_f1': 0.9744721084147495, 'eval_DATE_f1': 0.9176401869158879, 'eval_DRIVERLICENSE_f1': 0.9403046521202141, 'eval_EMAIL_f1': 0.9857495724871745, 'eval_GEOCOORD_f1': 0.9836829836829837, 'eval_GIVENNAME1_f1': 0.8506353392471829, 'eval_GIVENNAME2_f1': 0.7304832713754646, 'eval_IDCARD_f1': 0.9349516404323914, 'eval_IP_f1': 0.9868208092485549, 'eval_LASTNAME1_f1': 0.8005804311774462, 'eval_LASTNAME2_f1': 0.6855828220858895, 'eval_LASTNAME3_f1': 0.6666666666666666, 'eval_PASS_f1': 0.9208588957055214, 'eval_PASSPORT_f1': 0.9408393039918118, 'eval_POSTCODE_f1': 0.9815152304087478, 'eval_SECADDRESS_f1': 0.9773123909249564, 'eval_SEX_f1': 0.9750061865874784, 'eval_SOCIALNUMBER_f1': 0.9470392808286106, 'eval_STATE_f1': 0.9801093983092989, 'eval_STREET_f1': 0.9709392838609238, 'eval_TEL_f1': 0.9671641791044777, 'eval_TIME_f1': 0.9675384413194901, 'eval_TITLE_f1': 0.9590373783922173, 'eval_USERNAME_f1': 0.9521055485270198, 'eval_precision': 0.9357989422074663, 'eval_recall': 0.9484681300622139, 'eval_f1': 0.9420909444228527, 'eval_accuracy': 0.9915018496494703, 'eval_runtime': 33.1782, 'eval_samples_per_second': 239.495, 'eval_steps_per_second': 7.505, 'epoch': 48.0}\n"
     ]
    },
    {
     "name": "stderr",
     "output_type": "stream",
     "text": [
      " 96%|█████████▋| 45000/46750 [4:04:58<08:06,  3.60it/s]  "
     ]
    },
    {
     "name": "stdout",
     "output_type": "stream",
     "text": [
      "{'loss': 0.0002, 'grad_norm': 0.031119778752326965, 'learning_rate': 7.885298685522235e-08, 'epoch': 48.13}\n"
     ]
    },
    {
     "name": "stderr",
     "output_type": "stream",
     "text": [
      " 97%|█████████▋| 45500/46750 [4:07:25<06:42,  3.11it/s]"
     ]
    },
    {
     "name": "stdout",
     "output_type": "stream",
     "text": [
      "{'loss': 0.0001, 'grad_norm': 0.0029458084609359503, 'learning_rate': 4.025706004760932e-08, 'epoch': 48.66}\n"
     ]
    },
    {
     "name": "stderr",
     "output_type": "stream",
     "text": [
      "                                                       \n",
      " 98%|█████████▊| 45815/46750 [4:09:29<03:35,  4.34it/s]"
     ]
    },
    {
     "name": "stdout",
     "output_type": "stream",
     "text": [
      "{'eval_loss': 0.07161623984575272, 'eval_BOD_f1': 0.9608096468561584, 'eval_BUILDING_f1': 0.9815856777493606, 'eval_CARDISSUER_f1': 1.0, 'eval_CITY_f1': 0.9649595687331537, 'eval_COUNTRY_f1': 0.9744721084147495, 'eval_DATE_f1': 0.9173722627737226, 'eval_DRIVERLICENSE_f1': 0.9403046521202141, 'eval_EMAIL_f1': 0.9857495724871745, 'eval_GEOCOORD_f1': 0.9836829836829837, 'eval_GIVENNAME1_f1': 0.8495192307692307, 'eval_GIVENNAME2_f1': 0.7303058387395738, 'eval_IDCARD_f1': 0.9349516404323914, 'eval_IP_f1': 0.9868208092485549, 'eval_LASTNAME1_f1': 0.8009950248756219, 'eval_LASTNAME2_f1': 0.6885496183206107, 'eval_LASTNAME3_f1': 0.6611111111111112, 'eval_PASS_f1': 0.920245398773006, 'eval_PASSPORT_f1': 0.9406224406224406, 'eval_POSTCODE_f1': 0.98125, 'eval_SECADDRESS_f1': 0.9773123909249564, 'eval_SEX_f1': 0.9750061865874784, 'eval_SOCIALNUMBER_f1': 0.9466484268125855, 'eval_STATE_f1': 0.9801093983092989, 'eval_STREET_f1': 0.972229431611731, 'eval_TEL_f1': 0.9671641791044777, 'eval_TIME_f1': 0.9676656151419559, 'eval_TITLE_f1': 0.9590373783922173, 'eval_USERNAME_f1': 0.9522776572668112, 'eval_precision': 0.9357771600648599, 'eval_recall': 0.9484094377274328, 'eval_f1': 0.9420509531860316, 'eval_accuracy': 0.9914980580892305, 'eval_runtime': 33.1804, 'eval_samples_per_second': 239.479, 'eval_steps_per_second': 7.504, 'epoch': 49.0}\n"
     ]
    },
    {
     "name": "stderr",
     "output_type": "stream",
     "text": [
      " 98%|█████████▊| 46000/46750 [4:10:25<03:55,  3.19it/s]  "
     ]
    },
    {
     "name": "stdout",
     "output_type": "stream",
     "text": [
      "{'loss': 0.0001, 'grad_norm': 0.004590354394167662, 'learning_rate': 1.449877092679075e-08, 'epoch': 49.2}\n"
     ]
    },
    {
     "name": "stderr",
     "output_type": "stream",
     "text": [
      " 99%|█████████▉| 46500/46750 [4:12:50<01:11,  3.49it/s]"
     ]
    },
    {
     "name": "stdout",
     "output_type": "stream",
     "text": [
      "{'loss': 0.0001, 'grad_norm': 0.01150474138557911, 'learning_rate': 1.6113207094181626e-09, 'epoch': 49.73}\n"
     ]
    },
    {
     "name": "stderr",
     "output_type": "stream",
     "text": [
      "                                                       \n",
      "100%|██████████| 46750/46750 [4:14:37<00:00,  3.77it/s]"
     ]
    },
    {
     "name": "stdout",
     "output_type": "stream",
     "text": [
      "{'eval_loss': 0.07163183391094208, 'eval_BOD_f1': 0.9608096468561584, 'eval_BUILDING_f1': 0.9815856777493606, 'eval_CARDISSUER_f1': 1.0, 'eval_CITY_f1': 0.9649595687331537, 'eval_COUNTRY_f1': 0.9744721084147495, 'eval_DATE_f1': 0.9173722627737226, 'eval_DRIVERLICENSE_f1': 0.9400864731315627, 'eval_EMAIL_f1': 0.9857495724871745, 'eval_GEOCOORD_f1': 0.9836829836829837, 'eval_GIVENNAME1_f1': 0.8495192307692307, 'eval_GIVENNAME2_f1': 0.7303058387395738, 'eval_IDCARD_f1': 0.9345971563981043, 'eval_IP_f1': 0.9868208092485549, 'eval_LASTNAME1_f1': 0.8009950248756219, 'eval_LASTNAME2_f1': 0.6885496183206107, 'eval_LASTNAME3_f1': 0.6611111111111112, 'eval_PASS_f1': 0.920245398773006, 'eval_PASSPORT_f1': 0.9406224406224406, 'eval_POSTCODE_f1': 0.9815152304087478, 'eval_SECADDRESS_f1': 0.9773123909249564, 'eval_SEX_f1': 0.9750061865874784, 'eval_SOCIALNUMBER_f1': 0.9464425332290852, 'eval_STATE_f1': 0.9801093983092989, 'eval_STREET_f1': 0.9719771665801765, 'eval_TEL_f1': 0.9671641791044777, 'eval_TIME_f1': 0.9675384413194901, 'eval_TITLE_f1': 0.9590373783922173, 'eval_USERNAME_f1': 0.9522776572668112, 'eval_precision': 0.9357036693883066, 'eval_recall': 0.9483898736158392, 'eval_f1': 0.9420040613674567, 'eval_accuracy': 0.9914942665289909, 'eval_runtime': 33.1297, 'eval_samples_per_second': 239.846, 'eval_steps_per_second': 7.516, 'epoch': 50.0}\n"
     ]
    },
    {
     "name": "stderr",
     "output_type": "stream",
     "text": [
      "100%|██████████| 46750/46750 [4:14:38<00:00,  3.06it/s]"
     ]
    },
    {
     "name": "stdout",
     "output_type": "stream",
     "text": [
      "{'train_runtime': 15278.6034, 'train_samples_per_second': 97.875, 'train_steps_per_second': 3.06, 'train_loss': 0.032043613471768116, 'epoch': 50.0}\n"
     ]
    },
    {
     "name": "stderr",
     "output_type": "stream",
     "text": [
      "\n"
     ]
    },
    {
     "data": {
      "text/plain": [
       "TrainOutput(global_step=46750, training_loss=0.032043613471768116, metrics={'train_runtime': 15278.6034, 'train_samples_per_second': 97.875, 'train_steps_per_second': 3.06, 'total_flos': 8.79207700629273e+16, 'train_loss': 0.032043613471768116, 'epoch': 50.0})"
      ]
     },
     "execution_count": 3,
     "metadata": {},
     "output_type": "execute_result"
    }
   ],
   "source": [
    "trainer.train()\n"
   ]
  },
  {
   "cell_type": "markdown",
   "metadata": {},
   "source": [
    "{'eval_loss': 0.07163183391094208, 'eval_BOD_f1': 0.9608096468561584, 'eval_BUILDING_f1': 0.9815856777493606, 'eval_CARDISSUER_f1': 1.0, 'eval_CITY_f1': 0.9649595687331537, 'eval_COUNTRY_f1': 0.9744721084147495, 'eval_DATE_f1': 0.9173722627737226, 'eval_DRIVERLICENSE_f1': 0.9400864731315627, 'eval_EMAIL_f1': 0.9857495724871745, 'eval_GEOCOORD_f1': 0.9836829836829837, 'eval_GIVENNAME1_f1': 0.8495192307692307, 'eval_GIVENNAME2_f1': 0.7303058387395738, 'eval_IDCARD_f1': 0.9345971563981043, 'eval_IP_f1': 0.9868208092485549, 'eval_LASTNAME1_f1': 0.8009950248756219, 'eval_LASTNAME2_f1': 0.6885496183206107, 'eval_LASTNAME3_f1': 0.6611111111111112, 'eval_PASS_f1': 0.920245398773006, 'eval_PASSPORT_f1': 0.9406224406224406, 'eval_POSTCODE_f1': 0.9815152304087478, 'eval_SECADDRESS_f1': 0.9773123909249564, 'eval_SEX_f1': 0.9750061865874784, 'eval_SOCIALNUMBER_f1': 0.9464425332290852, 'eval_STATE_f1': 0.9801093983092989, 'eval_STREET_f1': 0.9719771665801765, 'eval_TEL_f1': 0.9671641791044777, 'eval_TIME_f1': 0.9675384413194901, 'eval_TITLE_f1': 0.9590373783922173, 'eval_USERNAME_f1': 0.9522776572668112, 'eval_precision': 0.9357036693883066, 'eval_recall': 0.9483898736158392, 'eval_f1': 0.9420040613674567, 'eval_accuracy': 0.9914942665289909, 'eval_runtime': 33.1297, 'eval_samples_per_second': 239.846, 'eval_steps_per_second': 7.516, 'epoch': 50.0}\n"
   ]
  }
 ],
 "metadata": {
  "kernelspec": {
   "display_name": "Python 3",
   "language": "python",
   "name": "python3"
  },
  "language_info": {
   "codemirror_mode": {
    "name": "ipython",
    "version": 3
   },
   "file_extension": ".py",
   "mimetype": "text/x-python",
   "name": "python",
   "nbconvert_exporter": "python",
   "pygments_lexer": "ipython3",
   "version": "3.12.6"
  }
 },
 "nbformat": 4,
 "nbformat_minor": 2
}
